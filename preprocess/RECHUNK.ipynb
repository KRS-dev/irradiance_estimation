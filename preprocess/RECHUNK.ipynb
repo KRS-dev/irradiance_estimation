{
 "cells": [
  {
   "cell_type": "code",
   "execution_count": null,
   "metadata": {},
   "outputs": [],
   "source": [
    "import xarray\n",
    "import numpy as np\n",
    "import zarr\n",
    "from dask.diagnostics import ProgressBar\n",
    "from dask.distributed import Client, LocalCluster, progress\n",
    "from rechunker import rechunk\n",
    "from tqdm import tqdm\n",
    "import pandas as pd\n",
    "import gc\n",
    "import os"
   ]
  },
  {
   "cell_type": "code",
   "execution_count": null,
   "metadata": {
    "tags": []
   },
   "outputs": [],
   "source": [
    "from dask.distributed import Client\n",
    "client = Client(n_workers=32)\n",
    "client"
   ]
  },
  {
   "cell_type": "code",
   "execution_count": null,
   "metadata": {},
   "outputs": [],
   "source": [
    "import shutil\n",
    "import gc\n",
    "\n",
    "def rechunk_zarr_store(zarr, chunks, target_zarr, steps = 200, \n",
    "                       slice_lengths=None, iterate_over='time',\n",
    "                      chunk_subset=None):\n",
    "    \n",
    "    if slice_lengths is None:\n",
    "        slice_lengths = int(len(zarr[iterate_over]) / steps)\n",
    "    if os.path.exists(target_zarr):\n",
    "        temp = xarray.open_zarr(target_zarr)\n",
    "        already_rechunked = len(temp[iterate_over])\n",
    "        temp.close()\n",
    "    else:\n",
    "        already_rechunked = 0\n",
    "    \n",
    "    # already_rechunked =0\n",
    "    for i in tqdm(range(0, len(zarr[iterate_over]), slice_lengths)):\n",
    "        if i + slice_lengths <= already_rechunked:\n",
    "            print(f'skipped {i}')\n",
    "            continue\n",
    "\n",
    "        if i < already_rechunked and i + slice_lengths > already_rechunked:\n",
    "            zarr_slice = zarr.isel({iterate_over : slice(already_rechunked, i+slice_lengths)})\n",
    "        else:\n",
    "            zarr_slice = zarr.isel({iterate_over : slice(i, i + slice_lengths)})\n",
    "        \n",
    "        for v in list(zarr_slice.coords.keys()):\n",
    "            if zarr_slice.coords[v].dtype == object:\n",
    "                zarr_slice[v].encoding.clear()\n",
    "                \n",
    "        for var in zarr_slice:\n",
    "            zarr_slice[var].encoding.clear()\n",
    "        \n",
    "        if chunk_subset is not None:\n",
    "            zarr_slice[chunk_subset] = zarr_slice[chunk_subset].chunk(chunks)\n",
    "        else:\n",
    "            zarr_slice = zarr_slice.chunk(chunks)\n",
    "            \n",
    "        if i == 0:\n",
    "            zarr_slice.to_zarr(target_zarr, mode=\"w\")\n",
    "        else:\n",
    "            zarr_slice.to_zarr(target_zarr, append_dim=iterate_over)\n",
    "        del zarr_slice\n",
    "        gc.collect()"
   ]
  },
  {
   "cell_type": "code",
   "execution_count": null,
   "metadata": {
    "tags": []
   },
   "outputs": [],
   "source": [
    "fulldisk = xarray.open_zarr('/capstor/scratch/cscs/kschuurm/ZARR/SEVIRI_FULLDISK.zarr')\n",
    "\n",
    "# fulldisk2 = xarray.open_zarr('/capstor/scratch/cscs/kschuurm/ZARR/SEVIRI_FULLDISK.zarr')\n"
   ]
  },
  {
   "cell_type": "code",
   "execution_count": null,
   "metadata": {
    "tags": []
   },
   "outputs": [],
   "source": [
    "target_zarr = '/capstor/scratch/cscs/kschuurm/ZARR/SEVIRI_FULLDISK_timechunked.zarr'\n",
    "\n",
    "chunks = {'channel':-1, 'time':-1, 'y':15, 'x':15}\n",
    "\n",
    "rechunk_zarr_store(fulldisk, chunks, target_zarr, slice_lengths=10000, \n",
    "                   iterate_over='time', chunk_subset='channel_data')"
   ]
  },
  {
   "cell_type": "code",
   "execution_count": null,
   "metadata": {},
   "outputs": [],
   "source": [
    "test = = xarray.open_zarr('/scratch/snx3000/kschuurm/ZARR/SEVIRI_2018.zarr')"
   ]
  },
  {
   "cell_type": "code",
   "execution_count": null,
   "metadata": {},
   "outputs": [],
   "source": [
    "sarah.transpose('data', 'time', 'y','x')"
   ]
  },
  {
   "cell_type": "code",
   "execution_count": null,
   "metadata": {},
   "outputs": [],
   "source": [
    "xarray.open_zarr('/scratch/snx3000/acarpent/SEVIRI_2016-2022.zarr')"
   ]
  },
  {
   "cell_type": "markdown",
   "metadata": {},
   "source": [
    "# Combine ZARR|"
   ]
  },
  {
   "cell_type": "code",
   "execution_count": null,
   "metadata": {},
   "outputs": [],
   "source": [
    "\n",
    "target_zarr = '/capstor/scratch/cscs/kschuurm/ZARR/SEVIRI_FULLDISK.zarr'\n",
    "\n",
    "zarrstores_fn = {\n",
    "    2016: '/capstor/scratch/cscs/kschuurm/ZARR/SEVIRI_FULLDISK_2016.zarr',\n",
    "    2017: '/capstor/scratch/cscs/kschuurm/ZARR/SEVIRI_FULLDISK_2017.zarr',\n",
    "    2018: '/capstor/scratch/cscs/kschuurm/ZARR/SEVIRI_FULLDISK_2018.zarr',\n",
    "    2019: '/capstor/scratch/cscs/kschuurm/ZARR/SEVIRI_FULLDISK_2019.zarr',\n",
    "    2020: '/capstor/scratch/cscs/kschuurm/ZARR/SEVIRI_FULLDISK_2020.zarr',\n",
    "    2021: '/capstor/scratch/cscs/kschuurm/ZARR/SEVIRI_FULLDISK_2021.zarr',\n",
    "    2022: '/capstor/scratch/cscs/kschuurm/ZARR/SEVIRI_FULLDISK_2022.zarr',\n",
    "}\n",
    "\n",
    "zarrstores = {k: xarray.open_zarr(v) for k,v in zarrstores_fn.items()}"
   ]
  },
  {
   "cell_type": "code",
   "execution_count": null,
   "metadata": {},
   "outputs": [],
   "source": [
    "first = True\n",
    "\n",
    "already_processed = None\n",
    "\n",
    "if os.path.exists(target_zarr):\n",
    "    first = False\n",
    "    a = xarray.open_zarr(target_zarr)\n",
    "    already_processed = a.time.values\n",
    "    a.close()\n",
    "    \n",
    "for year, store in zarrstores.items():\n",
    "    \n",
    "    yr_store = store.sel(time=(store.time.dt.year == year)).drop_duplicates(dim='time', keep='first')\n",
    "    timeindex = np.sort(np.array(list(set(yr_store.time.values))))\n",
    "    timeindex = pd.DatetimeIndex(timeindex)\n",
    "    idx_start = 0\n",
    "    idx_end = len(timeindex)\n",
    "    print(idx_end)\n",
    "    \n",
    "    steps = 20000\n",
    "    for istart in tqdm(range(idx_start, idx_end, steps)):\n",
    "        iend = min([istart+steps, idx_end])\n",
    "        \n",
    "        times = timeindex[slice(istart, iend)]\n",
    "        ds_slice = yr_store.sel(time=times)\n",
    "\n",
    "\n",
    "        for v in list(ds_slice.coords.keys()):\n",
    "#             if ds_slice.coords[v].dtype == object:\n",
    "            ds_slice[v].encoding.clear()\n",
    "\n",
    "        for var in ds_slice:\n",
    "            ds_slice[var].encoding.clear()\n",
    "\n",
    "        ds_slice['channel_data'] = ds_slice['channel_data'].chunk({'channel':-1, 'time':1, 'x':-1, 'y':-1})\n",
    "        ds_slice['time'] = ds_slice.time.chunk({'time':-1})\n",
    "\n",
    "\n",
    "        if first:\n",
    "            ds_slice.to_zarr(target_zarr, mode='w')\n",
    "            first = False\n",
    "        else:\n",
    "            ds_slice.to_zarr(target_zarr, append_dim ='time')\n",
    "\n",
    "        gc.collect()\n"
   ]
  },
  {
   "cell_type": "code",
   "execution_count": null,
   "metadata": {
    "collapsed": true,
    "jupyter": {
     "outputs_hidden": true
    }
   },
   "outputs": [],
   "source": [
    "import zarr\n",
    "import xarray\n",
    "\n",
    "fulldisk = xarray.open_zarr('/capstor/scratch/cscs/kschuurm/ZARR/SEVIRI_FULLDISK.zarr')\n",
    "\n",
    "\n",
    "store = zarr.storage.ZipStore('/capstor/scratch/cscs/kschuurm/ZARR/SEVIRI_FULLDISK.zip')\n",
    "\n",
    "for v in list(fulldisk.coords.keys()):\n",
    "    fulldisk[v].encoding.clear()\n",
    "\n",
    "for var in fulldisk:\n",
    "    fulldisk[var].encoding.clear()\n",
    "\n",
    "fulldisk['channel_data'] = fulldisk['channel_data'].chunk({'channel':-1, 'time':1, 'x':-1, 'y':-1})\n",
    "fulldisk['time'] = fulldisk.time.chunk({'time':-1})\n",
    "fulldisk.to_zarr(store)"
   ]
  },
  {
   "cell_type": "code",
   "execution_count": null,
   "metadata": {},
   "outputs": [],
   "source": [
    "\n",
    "fulldisk = xarray.open_zarr('/capstor/scratch/cscs/kschuurm/ZARR/SEVIRI_FULLDISK.zarr')"
   ]
  },
  {
   "cell_type": "code",
   "execution_count": null,
   "metadata": {},
   "outputs": [],
   "source": [
    "fulldisk"
   ]
  },
  {
   "cell_type": "code",
   "execution_count": null,
   "metadata": {},
   "outputs": [],
   "source": [
    "fulldisk.drop_duplicates(dim='time')"
   ]
  },
  {
   "cell_type": "code",
   "execution_count": null,
   "metadata": {},
   "outputs": [],
   "source": []
  }
 ],
 "metadata": {
  "kernelspec": {
   "display_name": "lightning-kernel-capstor",
   "language": "python",
   "name": "lightning-kernel-capstor"
  },
  "language_info": {
   "codemirror_mode": {
    "name": "ipython",
    "version": 3
   },
   "file_extension": ".py",
   "mimetype": "text/x-python",
   "name": "python",
   "nbconvert_exporter": "python",
   "pygments_lexer": "ipython3",
   "version": "3.9.4"
  }
 },
 "nbformat": 4,
 "nbformat_minor": 5
}
