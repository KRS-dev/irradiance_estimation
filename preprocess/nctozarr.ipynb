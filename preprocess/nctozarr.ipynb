{
 "cells": [
  {
   "cell_type": "code",
   "execution_count": null,
   "id": "b8170423-e961-4a68-bc37-ca52537b6f13",
   "metadata": {},
   "outputs": [],
   "source": [
    "import xarray\n",
    "from dask.distributed import Client\n",
    "from glob import glob\n"
   ]
  },
  {
   "cell_type": "code",
   "execution_count": null,
   "id": "f9127562-cb9d-4a2a-b045-f40c4de28f8b",
   "metadata": {},
   "outputs": [],
   "source": [
    "phts = [pth for pth in glob('/snx300/scratch/kschuurm/DATA/customized/HRSEVIRI_201*')]\n",
    "dss = [ xarray.open_dataset(pth, engine='h5netcdf').chunk({'time':60, 'lat':-1, 'lon':-1}) for pth in phts]\n",
    "hres = xarray.concat(dss, dim='time', data_vars='minimal', compat='equals', coords= 'minimal')\n",
    "\n",
    "hres = hres.sel(lat=slice(None, 62))\n",
    "\n"
   ]
  },
  {
   "cell_type": "code",
   "execution_count": null,
   "id": "5b65597d-da3f-4394-9b83-ce6903caa72b",
   "metadata": {},
   "outputs": [],
   "source": [
    "sis = xarray.open_mfdataset('SIS_*.nc', concat_dim='time', combine='nested', data_vars='minimal', coords='minimal', compat='override', engine='h5netcdf')\n",
    "\n",
    "intersec_tidx = sorted(\n",
    "        list(\n",
    "            set(hres.time.dt.round(\"30min\").values).intersection(\n",
    "                set(sis.time.dt.round(\"30min\").values)\n",
    "            )\n",
    "        )\n",
    "    )\n",
    "\n",
    "hres_tidx_sort = hres.time.copy().sortby(hres.time)\n",
    "hres_intersec_tidx = hres_tidx_sort.sel(time=intersec_tidx, method='nearest')\n",
    "\n",
    "sis_reindex = sis.reindex(time=hres_intersec_tidx, lat=hres.lat, lon=hres.lon, method='nearest')\n",
    "shape = hres.channel_1.shape\n",
    "combined = xarray.merge([hres, sis_reindex]).drop('crs')\n",
    "\n",
    "encoding = {}\n",
    "for key in combined.variables:\n",
    "    if key == 'record_status':\n",
    "        encoding[key] = {'chunks': 60}\n",
    "    else:\n",
    "        encoding[key] = {'chunks':(60, shape[1], shape[2])}"
   ]
  },
  {
   "cell_type": "code",
   "execution_count": null,
   "id": "748ab720-bcec-4618-aa91-085e73c8c0fd",
   "metadata": {},
   "outputs": [],
   "source": []
  },
  {
   "cell_type": "code",
   "execution_count": null,
   "id": "c57200d9-af03-4a9b-86f1-8419e50af0c6",
   "metadata": {},
   "outputs": [],
   "source": [
    "hres.to_zarr('HRSEVIRI.zarr', mode='w', consolidated=True) # consolidate means storing metadata in one file instead of seperate. Needed because of file limit.\n"
   ]
  }
 ],
 "metadata": {
  "kernelspec": {
   "display_name": "pytorch",
   "language": "python",
   "name": "pytorch"
  },
  "language_info": {
   "codemirror_mode": {
    "name": "ipython",
    "version": 3
   },
   "file_extension": ".py",
   "mimetype": "text/x-python",
   "name": "python",
   "nbconvert_exporter": "python",
   "pygments_lexer": "ipython3",
   "version": "3.9.4"
  }
 },
 "nbformat": 4,
 "nbformat_minor": 5
}
