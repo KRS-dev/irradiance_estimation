{
 "cells": [
  {
   "cell_type": "code",
   "execution_count": 1,
   "id": "b8170423-e961-4a68-bc37-ca52537b6f13",
   "metadata": {},
   "outputs": [],
   "source": [
    "import xarray\n",
    "from dask.distributed import Client\n",
    "from glob import glob\n",
    "from tqdm import tqdm\n",
    "import matplotlib.pyplot as plt\n",
    "import numpy as np\n",
    "import xarray\n",
    "import pandas as pd\n",
    "\n",
    "from preprocess.sza import solarzenithangle\n"
   ]
  },
  {
   "cell_type": "code",
   "execution_count": 5,
   "id": "44c31fb5-3ab6-4dac-893f-201eb9b1a6b8",
   "metadata": {},
   "outputs": [],
   "source": [
    "\n",
    "client = Client(n_workers = 12)"
   ]
  },
  {
   "cell_type": "code",
   "execution_count": 2,
   "id": "f9127562-cb9d-4a2a-b045-f40c4de28f8b",
   "metadata": {},
   "outputs": [],
   "source": [
    "hres = xarray.open_zarr('/scratch/snx3000/kschuurm/DATA/HRSEVIRI.zarr')\n",
    "# hres = hres.sel(lat=slice(None, 62)).drop_vars(('lat_bnds', 'lon_bnds', 'record_status'))"
   ]
  },
  {
   "cell_type": "code",
   "execution_count": 9,
   "id": "56d46176-59e0-4ba6-859a-eb293519bb6a",
   "metadata": {},
   "outputs": [
    {
     "data": {
      "text/plain": [
       "array([[  0.,   0.,   0., ..., 399., 401., 400.],\n",
       "       [  0.,   0.,   0., ..., 400., 401., 399.],\n",
       "       [  0.,   0.,   0., ..., 404., 400., 400.],\n",
       "       ...,\n",
       "       [  0.,   0.,   0., ...,   1.,   1.,   1.],\n",
       "       [  0.,   0.,   0., ...,   1.,   1.,   1.],\n",
       "       [  0.,   0.,   0., ...,   1.,   1.,   1.]], dtype=float32)"
      ]
     },
     "execution_count": 9,
     "metadata": {},
     "output_type": "execute_result"
    }
   ],
   "source": [
    "sis_reindex.SIS[2,:,:].values"
   ]
  },
  {
   "cell_type": "code",
   "execution_count": null,
   "id": "e2e6f107-a0c4-4bfb-97d6-90e600607963",
   "metadata": {},
   "outputs": [],
   "source": [
    "hres.to_zarr('HRSEVIRI.zarr', mode='w')"
   ]
  },
  {
   "cell_type": "code",
   "execution_count": 4,
   "id": "5b65597d-da3f-4394-9b83-ce6903caa72b",
   "metadata": {},
   "outputs": [],
   "source": [
    "sis = xarray.open_mfdataset('/scratch/snx3000/kschuurm/DATA/SARAH3/SIS_*.nc', \n",
    "                            concat_dim='time', \n",
    "                            combine='nested', \n",
    "                            data_vars='minimal', \n",
    "                            coords='minimal', \n",
    "                            compat='override', \n",
    "                            engine='h5netcdf')\n",
    "sis = sis.drop_duplicates(dim='time').drop_vars(['lat_bnds', 'lon_bnds'])\n",
    "\n",
    "intersec_tidx = sorted(\n",
    "        list(\n",
    "            set(hres.time.dt.round(\"30min\").values).intersection(\n",
    "                set(sis.time.dt.round(\"30min\").values)\n",
    "            )\n",
    "        )\n",
    "    )\n",
    "\n",
    "\n",
    "hres_tidx_sort = hres.time.copy().sortby(hres.time)\n",
    "hres_intersec_tidx = hres_tidx_sort.sel(time=intersec_tidx, method='nearest')\n",
    "\n",
    "sis_reindex = sis.reindex(time=hres_intersec_tidx, lat=hres.lat, lon=hres.lon, method='nearest')\n",
    "sis_reindex = sis_reindex.reindex(time=hres.time, fill_value=np.nan)\n",
    "sis_reindex = sis_reindex.chunk({'time':60, 'lat':-1, 'lon':-1})\n",
    "# sis_reindex.to_zarr('HRSEVIRI.zarr', mode='a')\n"
   ]
  },
  {
   "cell_type": "code",
   "execution_count": 11,
   "id": "0d72781b-fe04-4714-8af5-a379771f9a7c",
   "metadata": {},
   "outputs": [
    {
     "name": "stderr",
     "output_type": "stream",
     "text": [
      "/scratch/snx3000/kschuurm/pytorch/lib/python3.9/site-packages/xarray/core/dataset.py:2497: SerializationWarning: saving variable None with floating point data as an integer dtype without any _FillValue to use for NaNs\n",
      "  return to_zarr(  # type: ignore[call-overload,misc]\n",
      "/scratch/snx3000/kschuurm/pytorch/lib/python3.9/site-packages/dask/array/chunk.py:278: RuntimeWarning: invalid value encountered in cast\n",
      "  return x.astype(astype_dtype, **kwargs)\n"
     ]
    },
    {
     "data": {
      "text/plain": [
       "<xarray.backends.zarr.ZarrStore at 0x15543cfe23c0>"
      ]
     },
     "execution_count": 11,
     "metadata": {},
     "output_type": "execute_result"
    }
   ],
   "source": [
    "sis_reindex.to_zarr('/scratch/snx3000/kschuurm/DATA/HRSEVIRI.zarr', mode='a')"
   ]
  },
  {
   "cell_type": "code",
   "execution_count": null,
   "id": "5b252813-8fc1-4802-84b2-654ffa7734ec",
   "metadata": {},
   "outputs": [],
   "source": [
    "cal = xarray.open_mfdataset(['/scratch/snx3000/kschuurm/DATA/SARAH3/CAL_2014.nc','/scratch/snx3000/kschuurm/DATA/SARAH3/CAL_2015.nc'] , \n",
    "                            concat_dim='time', \n",
    "                            combine='nested', \n",
    "                            data_vars='minimal', \n",
    "                            coords='minimal', \n",
    "                            compat='override', \n",
    "                            engine='h5netcdf')\n",
    "\n",
    "cal = cal.drop_duplicates(dim='time').drop_vars(['lat_bnds', 'lon_bnds','record_status'])"
   ]
  },
  {
   "cell_type": "code",
   "execution_count": null,
   "id": "d2bbcc28-456c-4b9d-8892-834428457fb6",
   "metadata": {},
   "outputs": [],
   "source": [
    "intersec_tidx = sorted(\n",
    "        list(\n",
    "            set(hres.time.dt.round(\"30min\").values).intersection(\n",
    "                set(sis.time.dt.round(\"30min\").values)\n",
    "            )\n",
    "        )\n",
    "    )\n",
    "\n",
    "\n",
    "hres_tidx_sort = hres.time.copy().sortby(hres.time)\n",
    "hres_intersec_tidx = hres_tidx_sort.sel(time=intersec_tidx, method='nearest')\n",
    "\n",
    "cal_reindex = cal.reindex(time=hres_intersec_tidx, lat=hres.lat, lon=hres.lon, method='nearest')\n",
    "cal_reindex = cal_reindex.reindex(time=hres.time, fill_value=np.nan)\n",
    "cal_reindex = cal_reindex.chunk({'time':60, 'lat':-1, 'lon':-1})\n",
    "cal_reindex.to_zarr('HRSEVIRI.zarr', mode='a')\n"
   ]
  },
  {
   "cell_type": "code",
   "execution_count": null,
   "id": "677915a2-e8c5-45b4-a156-0028d8cdf740",
   "metadata": {},
   "outputs": [],
   "source": [
    "DEM = xarray.open_dataset('/scratch/snx3000/kschuurm/DATA/SRTM/SRTM.nc')\n",
    "roi= (62,35,-15,28)\n",
    "SRTM = DEM.SRTM.isel(lat=(DEM.lat >= roi[1])&(DEM.lat<= roi[0]), lon=(DEM.lon >= roi[2])&(DEM.lon <= roi[3]))\n",
    "\n",
    "weight_lat = int(np.ceil(len(SRTM.lat) / len(hres.lon)))\n",
    "weight_lon = int(np.ceil(len(SRTM.lon)/ len(hres.lon)))\n",
    "SRTM_coarse = SRTM.coarsen(lon=weight_lon, boundary='trim').mean().coarsen(lat=weight_lat, boundary='trim').mean()\n",
    "SRTM_coarse = SRTM_coarse.reindex(lat=hres.lat, lon=hres.lon, method='nearest')\n",
    "\n",
    "SRTM_coarse.attrs = {'long_name': 'Digital Elevation Map of the Shuttle Radar Topography Mission',\n",
    "                     'standard_name': 'DEM_SRTM',\n",
    "                     'units': 'm',\n",
    "                    }\n",
    "\n",
    "SRTM_coarse.to_zarr('HRSEVIRI.zarr',mode='a')"
   ]
  },
  {
   "cell_type": "code",
   "execution_count": 2,
   "id": "a2cf02ee-d924-47d4-9098-c701c2e69732",
   "metadata": {},
   "outputs": [],
   "source": [
    "hres = xarray.open_zarr('/scratch/snx3000/kschuurm/DATA/HRSEVIRI.zarr')"
   ]
  },
  {
   "cell_type": "code",
   "execution_count": 3,
   "id": "c3ea1ed3-3462-43e6-ae34-a22bab1fa217",
   "metadata": {},
   "outputs": [],
   "source": [
    "datetimes = pd.to_datetime(hres.time)\n",
    "\n",
    "\n",
    "def solarzenithangle_latlon(da_temp):\n",
    "    subsample_int = 4\n",
    "    \n",
    "    \n",
    "    a = [x for x in range(0, len(da_temp.time), 1)]\n",
    "    a.append(len(da_temp.time)-1)\n",
    "    datetimes = pd.to_datetime(da_temp.time[a])\n",
    "    \n",
    "    lats = np.arange(da_temp.lat.min(), da_temp.lat.max()+1, 1, dtype=np.float32)\n",
    "    lons = np.arange(da_temp.lon.min(), da_temp.lon.max()+1, 1, dtype=np.float32)\n",
    "    \n",
    "    da_sza = xarray.DataArray(coords={'time':datetimes, 'lat':lats, 'lon':lons,},\n",
    "                          data=np.zeros(shape=(len(datetimes), len(lats), len(lons)),\n",
    "                                       dtype=np.float16))\n",
    "    da_sza.name = 'SZA'\n",
    "    da_sza.attrs.update({'long_name': 'Solar Zenith Angle at sea level',\n",
    "                      'standard_name': 'solar_zenith_angle',\n",
    "                      'units':'rad'})\n",
    "    da_azi = xarray.DataArray(coords={'time':datetimes, 'lat':lats, 'lon':lons,},\n",
    "                          data=np.zeros(shape=(len(datetimes), len(lats), len(lons)), \n",
    "                                        dtype=np.float16))\n",
    "    da_azi.name = 'AZI'\n",
    "    da_azi.attrs.update({'long_name': 'Solar Azimuth Angle at sea level',\n",
    "                      'standard_name': 'solar_azimuth_angle',\n",
    "                      'units':'rad'})\n",
    "    \n",
    "    for i, lat in tqdm(enumerate(lats)):\n",
    "        for j, lon in enumerate(lons):\n",
    "            sza, azi = solarzenithangle(datetimes, lat, lon, 0)\n",
    "            da_sza[:,i, j] = sza\n",
    "            da_azi[:,i,j] = azi\n",
    "    \n",
    "    \n",
    "    ds = xarray.Dataset({'SZA':da_sza, 'AZI':da_azi})\n",
    "    return ds\n",
    "\n",
    "\n",
    "        "
   ]
  },
  {
   "cell_type": "code",
   "execution_count": null,
   "id": "69d7eece-3ed6-43bf-81c5-91f496e73b4f",
   "metadata": {},
   "outputs": [
    {
     "name": "stderr",
     "output_type": "stream",
     "text": [
      "13it [08:47, 40.43s/it]"
     ]
    }
   ],
   "source": [
    "ds_sun = solarzenithangle_latlon(hres.SIS)"
   ]
  },
  {
   "cell_type": "code",
   "execution_count": null,
   "id": "d34c77ff-ffae-4cc9-b396-39a7848b8729",
   "metadata": {},
   "outputs": [],
   "source": [
    "ds_sun.chunk({'time':1, 'lat':-1, 'lon':-1}).to_zarr('temp.zarr')"
   ]
  },
  {
   "cell_type": "code",
   "execution_count": null,
   "id": "fb6ef5d4-61b5-4881-b243-df879dabdbad",
   "metadata": {},
   "outputs": [],
   "source": [
    "temp = xarray.open_zarr('temp.zarr')"
   ]
  },
  {
   "cell_type": "code",
   "execution_count": null,
   "id": "8f2f7781-b79f-4775-9e74-910440633e26",
   "metadata": {},
   "outputs": [],
   "source": [
    "ds_sun_interp = temp.interp(lat=hres.lat, lon=hres.lon)"
   ]
  },
  {
   "cell_type": "code",
   "execution_count": null,
   "id": "fe30f70d-24cc-410d-b50e-eb9eace447d2",
   "metadata": {},
   "outputs": [],
   "source": [
    "temp2 = ds_sun_interp.to_zarr('temp2.zarr')"
   ]
  },
  {
   "cell_type": "code",
   "execution_count": null,
   "id": "1bca2341-b52f-4c9b-bf16-dc526b1978bb",
   "metadata": {},
   "outputs": [],
   "source": [
    "for var in temp2:\n",
    "    del temp2[var].encoding['chunk']\n",
    "\n",
    "ds_sun_final = temp2.chunk({'time':60, 'lat':-1, 'lon':-1})"
   ]
  },
  {
   "cell_type": "code",
   "execution_count": null,
   "id": "5332ae70-743b-47b3-abe5-6b934d16e98e",
   "metadata": {},
   "outputs": [],
   "source": [
    "ds_sun_final.to_zarr('/scratch/snx3000/kschuurm/DATA/HRSEVIRI.zarr', mode='a')\n"
   ]
  },
  {
   "cell_type": "code",
   "execution_count": null,
   "id": "a160636a-c256-4ce1-9eab-a9a8dfd57085",
   "metadata": {},
   "outputs": [],
   "source": []
  }
 ],
 "metadata": {
  "kernelspec": {
   "display_name": "pytorch",
   "language": "python",
   "name": "pytorch"
  },
  "language_info": {
   "codemirror_mode": {
    "name": "ipython",
    "version": 3
   },
   "file_extension": ".py",
   "mimetype": "text/x-python",
   "name": "python",
   "nbconvert_exporter": "python",
   "pygments_lexer": "ipython3",
   "version": "3.9.4"
  }
 },
 "nbformat": 4,
 "nbformat_minor": 5
}
