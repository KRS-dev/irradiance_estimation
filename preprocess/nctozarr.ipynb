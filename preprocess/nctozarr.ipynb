{
 "cells": [
  {
   "cell_type": "code",
   "execution_count": null,
   "id": "b8170423-e961-4a68-bc37-ca52537b6f13",
   "metadata": {},
   "outputs": [],
   "source": [
    "import xarray\n",
    "from dask.distributed import Client\n",
    "from glob import glob\n",
    "from tqdm import tqdm\n",
    "import matplotlib.pyplot as plt\n",
    "import numpy as np\n",
    "import xarray\n",
    "import pandas as pd\n",
    "from datetime import datetime, timedelta\n",
    "import cartopy.crs as ccrs\n",
    "\n",
    "from preprocess.sza import solarzenithangle\n"
   ]
  },
  {
   "cell_type": "code",
   "execution_count": null,
   "id": "44c31fb5-3ab6-4dac-893f-201eb9b1a6b8",
   "metadata": {},
   "outputs": [],
   "source": [
    "\n",
    "client = Client(n_workers = 12)"
   ]
  },
  {
   "cell_type": "code",
   "execution_count": null,
   "id": "f9127562-cb9d-4a2a-b045-f40c4de28f8b",
   "metadata": {},
   "outputs": [],
   "source": [
    "hres = xarray.open_zarr('/scratch/snx3000/kschuurm/DATA/HRSEVIRI_corrected.zarr')\n",
    "hres"
   ]
  },
  {
   "cell_type": "code",
   "execution_count": null,
   "id": "999e5a5f-ac7a-4ef3-b026-b2dcfaa73e49",
   "metadata": {},
   "outputs": [],
   "source": [
    "sarah = xarray.open_zarr('/scratch/snx3000/kschuurm/DATA/SARAH3.zarr')\n",
    "sarah"
   ]
  },
  {
   "cell_type": "code",
   "execution_count": null,
   "id": "035cc33a-36f2-4565-8b19-d41341f2bd91",
   "metadata": {},
   "outputs": [],
   "source": [
    "\n",
    "lat = hres.lat.copy()\n",
    "lon = hres.lon.copy()\n",
    "# del hres\n",
    "\n",
    "def reindex_sarah3(df):\n",
    "    return df.reindex(lat=lat, lon=lon, method='nearest').drop_vars(['record_status'])\n"
   ]
  },
  {
   "cell_type": "code",
   "execution_count": null,
   "id": "0c4e40a7-edfd-4982-882e-c6e50770d314",
   "metadata": {},
   "outputs": [],
   "source": [
    "fns = glob('/scratch/snx3000/kschuurm/DATA/SARAH3/ORD53913/SIDin*.nc')\n",
    "i_step = 100\n",
    "\n",
    "for i in tqdm(range(0, len(fns), i_step)):\n",
    "    \n",
    "    sl = slice(i, i+i_step)\n",
    "    \n",
    "    sid = xarray.open_mfdataset(fns[sl], \n",
    "                            parallel=True,\n",
    "                            engine='h5netcdf',\n",
    "                            chunks={'time':60, 'lat':-1, 'lon':-1},\n",
    "                            preprocess=reindex_sarah3)\n",
    "    if i == 0:\n",
    "        sid.to_zarr('/scratch/snx3000/kschuurm/DATA/SARAH3.zarr', mode='w')\n",
    "    else:\n",
    "        sid.to_zarr('/scratch/snx3000/kschuurm/DATA/SARAH3.zarr', append_dim='time')\n"
   ]
  },
  {
   "cell_type": "code",
   "execution_count": null,
   "id": "5b65597d-da3f-4394-9b83-ce6903caa72b",
   "metadata": {},
   "outputs": [],
   "source": [
    "sis = xarray.open_mfdataset('/scratch/snx3000/kschuurm/DATA/SARAH3/SIS_*.nc', \n",
    "                            engine='h5netcdf',\n",
    "                           parallel=True,\n",
    "                            chunks={'time':60, 'lat':-1, 'lon':-1},\n",
    "                           preprocess=reindex_sarah3)\n",
    "sarah = sis.SIS.to_zarr('/scratch/snx3000/kschuurm/DATA/SARAH3.zarr', mode='a')"
   ]
  },
  {
   "cell_type": "code",
   "execution_count": 31,
   "id": "5b252813-8fc1-4802-84b2-654ffa7734ec",
   "metadata": {},
   "outputs": [
    {
     "data": {
      "text/plain": [
       "<xarray.backends.zarr.ZarrStore at 0x15541c714270>"
      ]
     },
     "execution_count": 31,
     "metadata": {},
     "output_type": "execute_result"
    }
   ],
   "source": [
    "fns = glob('/scratch/snx3000/kschuurm/DATA/SARAH3/ORD52533/CALin2014*.nc') + glob('/scratch/snx3000/kschuurm/DATA/SARAH3/ORD52533/CALin2015*.nc')\n",
    "# print(len(fns))\n",
    "cal = xarray.open_mfdataset(fns, \n",
    "                            parallel=True,\n",
    "                            engine='h5netcdf',\n",
    "                            chunks={'time':60, 'lat':-1, 'lon':-1},\n",
    "                            preprocess=reindex_sarah3)\n",
    "\n",
    "cal.CAL.to_zarr('/scratch/snx3000/kschuurm/DATA/SARAH3.zarr', mode='a')\n",
    "\n",
    "\n"
   ]
  },
  {
   "cell_type": "code",
   "execution_count": null,
   "id": "ccb3f39c-1850-4387-884d-79409e5190f8",
   "metadata": {},
   "outputs": [],
   "source": [
    "cal = xarray.open_mfdataset(fns, \n",
    "                            parallel=True,\n",
    "                            engine='h5netcdf',\n",
    "                            chunks={'time':60, 'lat':-1, 'lon':-1},\n",
    "                            preprocess=reindex_sarah3)\n",
    "cal.to_zarr('/scratch/snx3000/kschuurm/DATA/SARAH3.zarr',  append_dim='time')"
   ]
  },
  {
   "cell_type": "code",
   "execution_count": 33,
   "id": "c3ea1ed3-3462-43e6-ae34-a22bab1fa217",
   "metadata": {},
   "outputs": [],
   "source": [
    "\n",
    "def solarzenithangle_latlon(ds):\n",
    "    subsample_int = 4\n",
    "    \n",
    "    da_temp = ds.channel_1\n",
    "    \n",
    "    a = [x for x in range(0, len(da_temp.time)-1, 1)]\n",
    "    a.append(len(da_temp.time)-1)\n",
    "    datetimes = pd.to_datetime(da_temp.time[a])\n",
    "    \n",
    "    lats = np.arange(da_temp.lat.min(), da_temp.lat.max()+1, 1, dtype=np.float32)\n",
    "    lons = np.arange(da_temp.lon.min(), da_temp.lon.max()+1, 1, dtype=np.float32)\n",
    "    \n",
    "    \n",
    "    da_sza = xarray.DataArray(coords={'time':datetimes, 'lat':lats, 'lon':lons,},\n",
    "                          data=np.zeros(shape=(len(datetimes), len(lats), len(lons)),\n",
    "                                       dtype=np.float16))\n",
    "    da_sza.name = 'SZA'\n",
    "    da_sza.attrs.update({'long_name': 'Solar Zenith Angle at sea level',\n",
    "                      'standard_name': 'solar_zenith_angle',\n",
    "                      'units':'rad'})\n",
    "    da_azi = xarray.DataArray(coords={'time':datetimes, 'lat':lats, 'lon':lons,},\n",
    "                          data=np.zeros(shape=(len(datetimes), len(lats), len(lons)), \n",
    "                                        dtype=np.float16))\n",
    "    da_azi.name = 'AZI'\n",
    "    da_azi.attrs.update({'long_name': 'Solar Azimuth Angle at sea level',\n",
    "                      'standard_name': 'solar_azimuth_angle',\n",
    "                      'units':'rad'})\n",
    "    \n",
    "    for i, lat in tqdm(enumerate(lats)):\n",
    "        for j, lon in enumerate(lons):\n",
    "            sza, azi = solarzenithangle(datetimes, lat, lon, 0)\n",
    "            da_sza[:,i, j] = sza\n",
    "            da_azi[:,i,j] = azi\n",
    "    \n",
    "    \n",
    "    ds = xarray.Dataset({'SZA':da_sza, 'AZI':da_azi})\n",
    "    return ds\n",
    "\n",
    "\n",
    "        "
   ]
  },
  {
   "cell_type": "code",
   "execution_count": 34,
   "id": "69d7eece-3ed6-43bf-81c5-91f496e73b4f",
   "metadata": {},
   "outputs": [
    {
     "name": "stderr",
     "output_type": "stream",
     "text": [
      "28it [20:49, 44.61s/it]\n"
     ]
    }
   ],
   "source": [
    "ds_sun = solarzenithangle_latlon(hres)"
   ]
  },
  {
   "cell_type": "code",
   "execution_count": 35,
   "id": "d34c77ff-ffae-4cc9-b396-39a7848b8729",
   "metadata": {},
   "outputs": [
    {
     "name": "stderr",
     "output_type": "stream",
     "text": [
      "/scratch/snx3000/kschuurm/pytorch/lib/python3.9/site-packages/distributed/client.py:3162: UserWarning: Sending large graph of size 176.65 MiB.\n",
      "This may cause some slowdown.\n",
      "Consider scattering data ahead of time and using futures.\n",
      "  warnings.warn(\n"
     ]
    },
    {
     "data": {
      "text/plain": [
       "<xarray.backends.zarr.ZarrStore at 0x155416ddc510>"
      ]
     },
     "execution_count": 35,
     "metadata": {},
     "output_type": "execute_result"
    }
   ],
   "source": [
    "ds_sun.chunk({'time':1, 'lat':-1, 'lon':-1}).to_zarr('temp.zarr')"
   ]
  },
  {
   "cell_type": "code",
   "execution_count": 36,
   "id": "fb6ef5d4-61b5-4881-b243-df879dabdbad",
   "metadata": {},
   "outputs": [],
   "source": [
    "temp = xarray.open_zarr('temp.zarr')"
   ]
  },
  {
   "cell_type": "code",
   "execution_count": 37,
   "id": "8f2f7781-b79f-4775-9e74-910440633e26",
   "metadata": {},
   "outputs": [],
   "source": [
    "ds_sun_interp = temp.interp(lat=hres.lat, lon=hres.lon)"
   ]
  },
  {
   "cell_type": "code",
   "execution_count": 38,
   "id": "fe30f70d-24cc-410d-b50e-eb9eace447d2",
   "metadata": {},
   "outputs": [
    {
     "name": "stderr",
     "output_type": "stream",
     "text": [
      "2024-02-22 17:00:16,070 - distributed.utils_perf - WARNING - full garbage collections took 10% CPU time recently (threshold: 10%)\n",
      "2024-02-22 17:00:20,788 - distributed.utils_perf - WARNING - full garbage collections took 10% CPU time recently (threshold: 10%)\n",
      "2024-02-22 17:00:24,047 - distributed.utils_perf - WARNING - full garbage collections took 11% CPU time recently (threshold: 10%)\n",
      "2024-02-22 17:00:28,228 - distributed.utils_perf - WARNING - full garbage collections took 12% CPU time recently (threshold: 10%)\n",
      "2024-02-22 17:00:32,727 - distributed.utils_perf - WARNING - full garbage collections took 13% CPU time recently (threshold: 10%)\n",
      "/scratch/snx3000/kschuurm/pytorch/lib/python3.9/site-packages/distributed/client.py:3162: UserWarning: Sending large graph of size 32.23 MiB.\n",
      "This may cause some slowdown.\n",
      "Consider scattering data ahead of time and using futures.\n",
      "  warnings.warn(\n",
      "2024-02-22 17:00:38,796 - distributed.utils_perf - WARNING - full garbage collections took 13% CPU time recently (threshold: 10%)\n",
      "2024-02-22 17:00:41,200 - distributed.utils_perf - WARNING - full garbage collections took 13% CPU time recently (threshold: 10%)\n",
      "2024-02-22 17:00:43,507 - distributed.utils_perf - WARNING - full garbage collections took 13% CPU time recently (threshold: 10%)\n",
      "2024-02-22 17:00:48,509 - distributed.utils_perf - WARNING - full garbage collections took 13% CPU time recently (threshold: 10%)\n",
      "2024-02-22 17:01:00,618 - distributed.utils_perf - WARNING - full garbage collections took 13% CPU time recently (threshold: 10%)\n",
      "2024-02-22 17:01:10,422 - distributed.utils_perf - WARNING - full garbage collections took 13% CPU time recently (threshold: 10%)\n",
      "2024-02-22 17:05:05,669 - distributed.utils_perf - WARNING - full garbage collections took 13% CPU time recently (threshold: 10%)\n",
      "2024-02-22 17:07:24,565 - distributed.utils_perf - WARNING - full garbage collections took 13% CPU time recently (threshold: 10%)\n",
      "2024-02-22 17:10:44,450 - distributed.utils_perf - WARNING - full garbage collections took 13% CPU time recently (threshold: 10%)\n",
      "2024-02-22 17:11:32,918 - distributed.utils_perf - WARNING - full garbage collections took 14% CPU time recently (threshold: 10%)\n"
     ]
    }
   ],
   "source": [
    "temp2 = ds_sun_interp.to_zarr('temp2.zarr')"
   ]
  },
  {
   "cell_type": "code",
   "execution_count": 41,
   "id": "461162e4-61b8-4c21-a155-91fe4803681d",
   "metadata": {},
   "outputs": [
    {
     "ename": "ValueError",
     "evalue": "Starting with Zarr 2.11.0, stores must be subclasses of BaseStore, if your store exposes the MutableMapping interface wrap it in Zarr.storage.KVStore. Got <xarray.backends.zarr.ZarrStore object at 0x15541578c970>",
     "output_type": "error",
     "traceback": [
      "\u001b[0;31m---------------------------------------------------------------------------\u001b[0m",
      "\u001b[0;31mValueError\u001b[0m                                Traceback (most recent call last)",
      "Cell \u001b[0;32mIn[41], line 1\u001b[0m\n\u001b[0;32m----> 1\u001b[0m temp2 \u001b[38;5;241m=\u001b[39m \u001b[43mxarray\u001b[49m\u001b[38;5;241;43m.\u001b[39;49m\u001b[43mopen_zarr\u001b[49m\u001b[43m(\u001b[49m\u001b[43mtemp2\u001b[49m\u001b[43m)\u001b[49m\n",
      "File \u001b[0;32m/scratch/snx3000/kschuurm/pytorch/lib/python3.9/site-packages/xarray/backends/zarr.py:925\u001b[0m, in \u001b[0;36mopen_zarr\u001b[0;34m(store, group, synchronizer, chunks, decode_cf, mask_and_scale, decode_times, concat_characters, decode_coords, drop_variables, consolidated, overwrite_encoded_chunks, chunk_store, storage_options, decode_timedelta, use_cftime, zarr_version, chunked_array_type, from_array_kwargs, **kwargs)\u001b[0m\n\u001b[1;32m    911\u001b[0m     \u001b[38;5;28;01mraise\u001b[39;00m \u001b[38;5;167;01mTypeError\u001b[39;00m(\n\u001b[1;32m    912\u001b[0m         \u001b[38;5;124m\"\u001b[39m\u001b[38;5;124mopen_zarr() got unexpected keyword arguments \u001b[39m\u001b[38;5;124m\"\u001b[39m \u001b[38;5;241m+\u001b[39m \u001b[38;5;124m\"\u001b[39m\u001b[38;5;124m,\u001b[39m\u001b[38;5;124m\"\u001b[39m\u001b[38;5;241m.\u001b[39mjoin(kwargs\u001b[38;5;241m.\u001b[39mkeys())\n\u001b[1;32m    913\u001b[0m     )\n\u001b[1;32m    915\u001b[0m backend_kwargs \u001b[38;5;241m=\u001b[39m {\n\u001b[1;32m    916\u001b[0m     \u001b[38;5;124m\"\u001b[39m\u001b[38;5;124msynchronizer\u001b[39m\u001b[38;5;124m\"\u001b[39m: synchronizer,\n\u001b[1;32m    917\u001b[0m     \u001b[38;5;124m\"\u001b[39m\u001b[38;5;124mconsolidated\u001b[39m\u001b[38;5;124m\"\u001b[39m: consolidated,\n\u001b[0;32m   (...)\u001b[0m\n\u001b[1;32m    922\u001b[0m     \u001b[38;5;124m\"\u001b[39m\u001b[38;5;124mzarr_version\u001b[39m\u001b[38;5;124m\"\u001b[39m: zarr_version,\n\u001b[1;32m    923\u001b[0m }\n\u001b[0;32m--> 925\u001b[0m ds \u001b[38;5;241m=\u001b[39m \u001b[43mopen_dataset\u001b[49m\u001b[43m(\u001b[49m\n\u001b[1;32m    926\u001b[0m \u001b[43m    \u001b[49m\u001b[43mfilename_or_obj\u001b[49m\u001b[38;5;241;43m=\u001b[39;49m\u001b[43mstore\u001b[49m\u001b[43m,\u001b[49m\n\u001b[1;32m    927\u001b[0m \u001b[43m    \u001b[49m\u001b[43mgroup\u001b[49m\u001b[38;5;241;43m=\u001b[39;49m\u001b[43mgroup\u001b[49m\u001b[43m,\u001b[49m\n\u001b[1;32m    928\u001b[0m \u001b[43m    \u001b[49m\u001b[43mdecode_cf\u001b[49m\u001b[38;5;241;43m=\u001b[39;49m\u001b[43mdecode_cf\u001b[49m\u001b[43m,\u001b[49m\n\u001b[1;32m    929\u001b[0m \u001b[43m    \u001b[49m\u001b[43mmask_and_scale\u001b[49m\u001b[38;5;241;43m=\u001b[39;49m\u001b[43mmask_and_scale\u001b[49m\u001b[43m,\u001b[49m\n\u001b[1;32m    930\u001b[0m \u001b[43m    \u001b[49m\u001b[43mdecode_times\u001b[49m\u001b[38;5;241;43m=\u001b[39;49m\u001b[43mdecode_times\u001b[49m\u001b[43m,\u001b[49m\n\u001b[1;32m    931\u001b[0m \u001b[43m    \u001b[49m\u001b[43mconcat_characters\u001b[49m\u001b[38;5;241;43m=\u001b[39;49m\u001b[43mconcat_characters\u001b[49m\u001b[43m,\u001b[49m\n\u001b[1;32m    932\u001b[0m \u001b[43m    \u001b[49m\u001b[43mdecode_coords\u001b[49m\u001b[38;5;241;43m=\u001b[39;49m\u001b[43mdecode_coords\u001b[49m\u001b[43m,\u001b[49m\n\u001b[1;32m    933\u001b[0m \u001b[43m    \u001b[49m\u001b[43mengine\u001b[49m\u001b[38;5;241;43m=\u001b[39;49m\u001b[38;5;124;43m\"\u001b[39;49m\u001b[38;5;124;43mzarr\u001b[39;49m\u001b[38;5;124;43m\"\u001b[39;49m\u001b[43m,\u001b[49m\n\u001b[1;32m    934\u001b[0m \u001b[43m    \u001b[49m\u001b[43mchunks\u001b[49m\u001b[38;5;241;43m=\u001b[39;49m\u001b[43mchunks\u001b[49m\u001b[43m,\u001b[49m\n\u001b[1;32m    935\u001b[0m \u001b[43m    \u001b[49m\u001b[43mdrop_variables\u001b[49m\u001b[38;5;241;43m=\u001b[39;49m\u001b[43mdrop_variables\u001b[49m\u001b[43m,\u001b[49m\n\u001b[1;32m    936\u001b[0m \u001b[43m    \u001b[49m\u001b[43mchunked_array_type\u001b[49m\u001b[38;5;241;43m=\u001b[39;49m\u001b[43mchunked_array_type\u001b[49m\u001b[43m,\u001b[49m\n\u001b[1;32m    937\u001b[0m \u001b[43m    \u001b[49m\u001b[43mfrom_array_kwargs\u001b[49m\u001b[38;5;241;43m=\u001b[39;49m\u001b[43mfrom_array_kwargs\u001b[49m\u001b[43m,\u001b[49m\n\u001b[1;32m    938\u001b[0m \u001b[43m    \u001b[49m\u001b[43mbackend_kwargs\u001b[49m\u001b[38;5;241;43m=\u001b[39;49m\u001b[43mbackend_kwargs\u001b[49m\u001b[43m,\u001b[49m\n\u001b[1;32m    939\u001b[0m \u001b[43m    \u001b[49m\u001b[43mdecode_timedelta\u001b[49m\u001b[38;5;241;43m=\u001b[39;49m\u001b[43mdecode_timedelta\u001b[49m\u001b[43m,\u001b[49m\n\u001b[1;32m    940\u001b[0m \u001b[43m    \u001b[49m\u001b[43muse_cftime\u001b[49m\u001b[38;5;241;43m=\u001b[39;49m\u001b[43muse_cftime\u001b[49m\u001b[43m,\u001b[49m\n\u001b[1;32m    941\u001b[0m \u001b[43m    \u001b[49m\u001b[43mzarr_version\u001b[49m\u001b[38;5;241;43m=\u001b[39;49m\u001b[43mzarr_version\u001b[49m\u001b[43m,\u001b[49m\n\u001b[1;32m    942\u001b[0m \u001b[43m\u001b[49m\u001b[43m)\u001b[49m\n\u001b[1;32m    943\u001b[0m \u001b[38;5;28;01mreturn\u001b[39;00m ds\n",
      "File \u001b[0;32m/scratch/snx3000/kschuurm/pytorch/lib/python3.9/site-packages/xarray/backends/api.py:572\u001b[0m, in \u001b[0;36mopen_dataset\u001b[0;34m(filename_or_obj, engine, chunks, cache, decode_cf, mask_and_scale, decode_times, decode_timedelta, use_cftime, concat_characters, decode_coords, drop_variables, inline_array, chunked_array_type, from_array_kwargs, backend_kwargs, **kwargs)\u001b[0m\n\u001b[1;32m    560\u001b[0m decoders \u001b[38;5;241m=\u001b[39m _resolve_decoders_kwargs(\n\u001b[1;32m    561\u001b[0m     decode_cf,\n\u001b[1;32m    562\u001b[0m     open_backend_dataset_parameters\u001b[38;5;241m=\u001b[39mbackend\u001b[38;5;241m.\u001b[39mopen_dataset_parameters,\n\u001b[0;32m   (...)\u001b[0m\n\u001b[1;32m    568\u001b[0m     decode_coords\u001b[38;5;241m=\u001b[39mdecode_coords,\n\u001b[1;32m    569\u001b[0m )\n\u001b[1;32m    571\u001b[0m overwrite_encoded_chunks \u001b[38;5;241m=\u001b[39m kwargs\u001b[38;5;241m.\u001b[39mpop(\u001b[38;5;124m\"\u001b[39m\u001b[38;5;124moverwrite_encoded_chunks\u001b[39m\u001b[38;5;124m\"\u001b[39m, \u001b[38;5;28;01mNone\u001b[39;00m)\n\u001b[0;32m--> 572\u001b[0m backend_ds \u001b[38;5;241m=\u001b[39m \u001b[43mbackend\u001b[49m\u001b[38;5;241;43m.\u001b[39;49m\u001b[43mopen_dataset\u001b[49m\u001b[43m(\u001b[49m\n\u001b[1;32m    573\u001b[0m \u001b[43m    \u001b[49m\u001b[43mfilename_or_obj\u001b[49m\u001b[43m,\u001b[49m\n\u001b[1;32m    574\u001b[0m \u001b[43m    \u001b[49m\u001b[43mdrop_variables\u001b[49m\u001b[38;5;241;43m=\u001b[39;49m\u001b[43mdrop_variables\u001b[49m\u001b[43m,\u001b[49m\n\u001b[1;32m    575\u001b[0m \u001b[43m    \u001b[49m\u001b[38;5;241;43m*\u001b[39;49m\u001b[38;5;241;43m*\u001b[39;49m\u001b[43mdecoders\u001b[49m\u001b[43m,\u001b[49m\n\u001b[1;32m    576\u001b[0m \u001b[43m    \u001b[49m\u001b[38;5;241;43m*\u001b[39;49m\u001b[38;5;241;43m*\u001b[39;49m\u001b[43mkwargs\u001b[49m\u001b[43m,\u001b[49m\n\u001b[1;32m    577\u001b[0m \u001b[43m\u001b[49m\u001b[43m)\u001b[49m\n\u001b[1;32m    578\u001b[0m ds \u001b[38;5;241m=\u001b[39m _dataset_from_backend_dataset(\n\u001b[1;32m    579\u001b[0m     backend_ds,\n\u001b[1;32m    580\u001b[0m     filename_or_obj,\n\u001b[0;32m   (...)\u001b[0m\n\u001b[1;32m    590\u001b[0m     \u001b[38;5;241m*\u001b[39m\u001b[38;5;241m*\u001b[39mkwargs,\n\u001b[1;32m    591\u001b[0m )\n\u001b[1;32m    592\u001b[0m \u001b[38;5;28;01mreturn\u001b[39;00m ds\n",
      "File \u001b[0;32m/scratch/snx3000/kschuurm/pytorch/lib/python3.9/site-packages/xarray/backends/zarr.py:992\u001b[0m, in \u001b[0;36mZarrBackendEntrypoint.open_dataset\u001b[0;34m(self, filename_or_obj, mask_and_scale, decode_times, concat_characters, decode_coords, drop_variables, use_cftime, decode_timedelta, group, mode, synchronizer, consolidated, chunk_store, storage_options, stacklevel, zarr_version)\u001b[0m\n\u001b[1;32m    971\u001b[0m \u001b[38;5;28;01mdef\u001b[39;00m \u001b[38;5;21mopen_dataset\u001b[39m(  \u001b[38;5;66;03m# type: ignore[override]  # allow LSP violation, not supporting **kwargs\u001b[39;00m\n\u001b[1;32m    972\u001b[0m     \u001b[38;5;28mself\u001b[39m,\n\u001b[1;32m    973\u001b[0m     filename_or_obj: \u001b[38;5;28mstr\u001b[39m \u001b[38;5;241m|\u001b[39m os\u001b[38;5;241m.\u001b[39mPathLike[Any] \u001b[38;5;241m|\u001b[39m BufferedIOBase \u001b[38;5;241m|\u001b[39m AbstractDataStore,\n\u001b[0;32m   (...)\u001b[0m\n\u001b[1;32m    989\u001b[0m     zarr_version\u001b[38;5;241m=\u001b[39m\u001b[38;5;28;01mNone\u001b[39;00m,\n\u001b[1;32m    990\u001b[0m ) \u001b[38;5;241m-\u001b[39m\u001b[38;5;241m>\u001b[39m Dataset:\n\u001b[1;32m    991\u001b[0m     filename_or_obj \u001b[38;5;241m=\u001b[39m _normalize_path(filename_or_obj)\n\u001b[0;32m--> 992\u001b[0m     store \u001b[38;5;241m=\u001b[39m \u001b[43mZarrStore\u001b[49m\u001b[38;5;241;43m.\u001b[39;49m\u001b[43mopen_group\u001b[49m\u001b[43m(\u001b[49m\n\u001b[1;32m    993\u001b[0m \u001b[43m        \u001b[49m\u001b[43mfilename_or_obj\u001b[49m\u001b[43m,\u001b[49m\n\u001b[1;32m    994\u001b[0m \u001b[43m        \u001b[49m\u001b[43mgroup\u001b[49m\u001b[38;5;241;43m=\u001b[39;49m\u001b[43mgroup\u001b[49m\u001b[43m,\u001b[49m\n\u001b[1;32m    995\u001b[0m \u001b[43m        \u001b[49m\u001b[43mmode\u001b[49m\u001b[38;5;241;43m=\u001b[39;49m\u001b[43mmode\u001b[49m\u001b[43m,\u001b[49m\n\u001b[1;32m    996\u001b[0m \u001b[43m        \u001b[49m\u001b[43msynchronizer\u001b[49m\u001b[38;5;241;43m=\u001b[39;49m\u001b[43msynchronizer\u001b[49m\u001b[43m,\u001b[49m\n\u001b[1;32m    997\u001b[0m \u001b[43m        \u001b[49m\u001b[43mconsolidated\u001b[49m\u001b[38;5;241;43m=\u001b[39;49m\u001b[43mconsolidated\u001b[49m\u001b[43m,\u001b[49m\n\u001b[1;32m    998\u001b[0m \u001b[43m        \u001b[49m\u001b[43mconsolidate_on_close\u001b[49m\u001b[38;5;241;43m=\u001b[39;49m\u001b[38;5;28;43;01mFalse\u001b[39;49;00m\u001b[43m,\u001b[49m\n\u001b[1;32m    999\u001b[0m \u001b[43m        \u001b[49m\u001b[43mchunk_store\u001b[49m\u001b[38;5;241;43m=\u001b[39;49m\u001b[43mchunk_store\u001b[49m\u001b[43m,\u001b[49m\n\u001b[1;32m   1000\u001b[0m \u001b[43m        \u001b[49m\u001b[43mstorage_options\u001b[49m\u001b[38;5;241;43m=\u001b[39;49m\u001b[43mstorage_options\u001b[49m\u001b[43m,\u001b[49m\n\u001b[1;32m   1001\u001b[0m \u001b[43m        \u001b[49m\u001b[43mstacklevel\u001b[49m\u001b[38;5;241;43m=\u001b[39;49m\u001b[43mstacklevel\u001b[49m\u001b[43m \u001b[49m\u001b[38;5;241;43m+\u001b[39;49m\u001b[43m \u001b[49m\u001b[38;5;241;43m1\u001b[39;49m\u001b[43m,\u001b[49m\n\u001b[1;32m   1002\u001b[0m \u001b[43m        \u001b[49m\u001b[43mzarr_version\u001b[49m\u001b[38;5;241;43m=\u001b[39;49m\u001b[43mzarr_version\u001b[49m\u001b[43m,\u001b[49m\n\u001b[1;32m   1003\u001b[0m \u001b[43m    \u001b[49m\u001b[43m)\u001b[49m\n\u001b[1;32m   1005\u001b[0m     store_entrypoint \u001b[38;5;241m=\u001b[39m StoreBackendEntrypoint()\n\u001b[1;32m   1006\u001b[0m     \u001b[38;5;28;01mwith\u001b[39;00m close_on_error(store):\n",
      "File \u001b[0;32m/scratch/snx3000/kschuurm/pytorch/lib/python3.9/site-packages/xarray/backends/zarr.py:441\u001b[0m, in \u001b[0;36mZarrStore.open_group\u001b[0;34m(cls, store, mode, synchronizer, group, consolidated, consolidate_on_close, chunk_store, storage_options, append_dim, write_region, safe_chunks, stacklevel, zarr_version, write_empty)\u001b[0m\n\u001b[1;32m    439\u001b[0m \u001b[38;5;28;01mif\u001b[39;00m consolidated \u001b[38;5;129;01mis\u001b[39;00m \u001b[38;5;28;01mNone\u001b[39;00m:\n\u001b[1;32m    440\u001b[0m     \u001b[38;5;28;01mtry\u001b[39;00m:\n\u001b[0;32m--> 441\u001b[0m         zarr_group \u001b[38;5;241m=\u001b[39m \u001b[43mzarr\u001b[49m\u001b[38;5;241;43m.\u001b[39;49m\u001b[43mopen_consolidated\u001b[49m\u001b[43m(\u001b[49m\u001b[43mstore\u001b[49m\u001b[43m,\u001b[49m\u001b[43m \u001b[49m\u001b[38;5;241;43m*\u001b[39;49m\u001b[38;5;241;43m*\u001b[39;49m\u001b[43mopen_kwargs\u001b[49m\u001b[43m)\u001b[49m\n\u001b[1;32m    442\u001b[0m     \u001b[38;5;28;01mexcept\u001b[39;00m \u001b[38;5;167;01mKeyError\u001b[39;00m:\n\u001b[1;32m    443\u001b[0m         \u001b[38;5;28;01mtry\u001b[39;00m:\n",
      "File \u001b[0;32m/scratch/snx3000/kschuurm/pytorch/lib/python3.9/site-packages/zarr/convenience.py:1318\u001b[0m, in \u001b[0;36mopen_consolidated\u001b[0;34m(store, metadata_key, mode, **kwargs)\u001b[0m\n\u001b[1;32m   1316\u001b[0m \u001b[38;5;66;03m# normalize parameters\u001b[39;00m\n\u001b[1;32m   1317\u001b[0m zarr_version \u001b[38;5;241m=\u001b[39m kwargs\u001b[38;5;241m.\u001b[39mget(\u001b[38;5;124m\"\u001b[39m\u001b[38;5;124mzarr_version\u001b[39m\u001b[38;5;124m\"\u001b[39m)\n\u001b[0;32m-> 1318\u001b[0m store \u001b[38;5;241m=\u001b[39m \u001b[43mnormalize_store_arg\u001b[49m\u001b[43m(\u001b[49m\n\u001b[1;32m   1319\u001b[0m \u001b[43m    \u001b[49m\u001b[43mstore\u001b[49m\u001b[43m,\u001b[49m\u001b[43m \u001b[49m\u001b[43mstorage_options\u001b[49m\u001b[38;5;241;43m=\u001b[39;49m\u001b[43mkwargs\u001b[49m\u001b[38;5;241;43m.\u001b[39;49m\u001b[43mget\u001b[49m\u001b[43m(\u001b[49m\u001b[38;5;124;43m\"\u001b[39;49m\u001b[38;5;124;43mstorage_options\u001b[39;49m\u001b[38;5;124;43m\"\u001b[39;49m\u001b[43m)\u001b[49m\u001b[43m,\u001b[49m\u001b[43m \u001b[49m\u001b[43mmode\u001b[49m\u001b[38;5;241;43m=\u001b[39;49m\u001b[43mmode\u001b[49m\u001b[43m,\u001b[49m\u001b[43m \u001b[49m\u001b[43mzarr_version\u001b[49m\u001b[38;5;241;43m=\u001b[39;49m\u001b[43mzarr_version\u001b[49m\n\u001b[1;32m   1320\u001b[0m \u001b[43m\u001b[49m\u001b[43m)\u001b[49m\n\u001b[1;32m   1321\u001b[0m \u001b[38;5;28;01mif\u001b[39;00m mode \u001b[38;5;129;01mnot\u001b[39;00m \u001b[38;5;129;01min\u001b[39;00m {\u001b[38;5;124m\"\u001b[39m\u001b[38;5;124mr\u001b[39m\u001b[38;5;124m\"\u001b[39m, \u001b[38;5;124m\"\u001b[39m\u001b[38;5;124mr+\u001b[39m\u001b[38;5;124m\"\u001b[39m}:\n\u001b[1;32m   1322\u001b[0m     \u001b[38;5;28;01mraise\u001b[39;00m \u001b[38;5;167;01mValueError\u001b[39;00m(\u001b[38;5;124mf\u001b[39m\u001b[38;5;124m\"\u001b[39m\u001b[38;5;124minvalid mode, expected either \u001b[39m\u001b[38;5;124m'\u001b[39m\u001b[38;5;124mr\u001b[39m\u001b[38;5;124m'\u001b[39m\u001b[38;5;124m or \u001b[39m\u001b[38;5;124m'\u001b[39m\u001b[38;5;124mr+\u001b[39m\u001b[38;5;124m'\u001b[39m\u001b[38;5;124m; found \u001b[39m\u001b[38;5;132;01m{\u001b[39;00mmode\u001b[38;5;132;01m!r}\u001b[39;00m\u001b[38;5;124m\"\u001b[39m)\n",
      "File \u001b[0;32m/scratch/snx3000/kschuurm/pytorch/lib/python3.9/site-packages/zarr/storage.py:199\u001b[0m, in \u001b[0;36mnormalize_store_arg\u001b[0;34m(store, storage_options, mode, zarr_version)\u001b[0m\n\u001b[1;32m    197\u001b[0m \u001b[38;5;28;01melse\u001b[39;00m:\n\u001b[1;32m    198\u001b[0m     \u001b[38;5;28;01mraise\u001b[39;00m \u001b[38;5;167;01mValueError\u001b[39;00m(\u001b[38;5;124m\"\u001b[39m\u001b[38;5;124mzarr_version must be either 2 or 3\u001b[39m\u001b[38;5;124m\"\u001b[39m)\n\u001b[0;32m--> 199\u001b[0m \u001b[38;5;28;01mreturn\u001b[39;00m \u001b[43mnormalize_store\u001b[49m\u001b[43m(\u001b[49m\u001b[43mstore\u001b[49m\u001b[43m,\u001b[49m\u001b[43m \u001b[49m\u001b[43mstorage_options\u001b[49m\u001b[43m,\u001b[49m\u001b[43m \u001b[49m\u001b[43mmode\u001b[49m\u001b[43m)\u001b[49m\n",
      "File \u001b[0;32m/scratch/snx3000/kschuurm/pytorch/lib/python3.9/site-packages/zarr/storage.py:181\u001b[0m, in \u001b[0;36m_normalize_store_arg_v2\u001b[0;34m(store, storage_options, mode)\u001b[0m\n\u001b[1;32m    179\u001b[0m         \u001b[38;5;28;01mreturn\u001b[39;00m DirectoryStore(store)\n\u001b[1;32m    180\u001b[0m \u001b[38;5;28;01melse\u001b[39;00m:\n\u001b[0;32m--> 181\u001b[0m     store \u001b[38;5;241m=\u001b[39m \u001b[43mStore\u001b[49m\u001b[38;5;241;43m.\u001b[39;49m\u001b[43m_ensure_store\u001b[49m\u001b[43m(\u001b[49m\u001b[43mstore\u001b[49m\u001b[43m)\u001b[49m\n\u001b[1;32m    182\u001b[0m \u001b[38;5;28;01mreturn\u001b[39;00m store\n",
      "File \u001b[0;32m/scratch/snx3000/kschuurm/pytorch/lib/python3.9/site-packages/zarr/_storage/store.py:130\u001b[0m, in \u001b[0;36mBaseStore._ensure_store\u001b[0;34m(store)\u001b[0m\n\u001b[1;32m    127\u001b[0m     \u001b[38;5;28;01melse\u001b[39;00m:\n\u001b[1;32m    128\u001b[0m         \u001b[38;5;28;01mreturn\u001b[39;00m KVStore(store)\n\u001b[0;32m--> 130\u001b[0m \u001b[38;5;28;01mraise\u001b[39;00m \u001b[38;5;167;01mValueError\u001b[39;00m(\n\u001b[1;32m    131\u001b[0m     \u001b[38;5;124m\"\u001b[39m\u001b[38;5;124mStarting with Zarr 2.11.0, stores must be subclasses of \u001b[39m\u001b[38;5;124m\"\u001b[39m\n\u001b[1;32m    132\u001b[0m     \u001b[38;5;124m\"\u001b[39m\u001b[38;5;124mBaseStore, if your store exposes the MutableMapping interface \u001b[39m\u001b[38;5;124m\"\u001b[39m\n\u001b[1;32m    133\u001b[0m     \u001b[38;5;124mf\u001b[39m\u001b[38;5;124m\"\u001b[39m\u001b[38;5;124mwrap it in Zarr.storage.KVStore. Got \u001b[39m\u001b[38;5;132;01m{\u001b[39;00mstore\u001b[38;5;132;01m}\u001b[39;00m\u001b[38;5;124m\"\u001b[39m\n\u001b[1;32m    134\u001b[0m )\n",
      "\u001b[0;31mValueError\u001b[0m: Starting with Zarr 2.11.0, stores must be subclasses of BaseStore, if your store exposes the MutableMapping interface wrap it in Zarr.storage.KVStore. Got <xarray.backends.zarr.ZarrStore object at 0x15541578c970>"
     ]
    }
   ],
   "source": [
    "temp2 = xarray.open_zarr('temp2.zarr')"
   ]
  },
  {
   "cell_type": "code",
   "execution_count": 39,
   "id": "1bca2341-b52f-4c9b-bf16-dc526b1978bb",
   "metadata": {},
   "outputs": [
    {
     "ename": "TypeError",
     "evalue": "'ZarrStore' object is not iterable",
     "output_type": "error",
     "traceback": [
      "\u001b[0;31m---------------------------------------------------------------------------\u001b[0m",
      "\u001b[0;31mTypeError\u001b[0m                                 Traceback (most recent call last)",
      "Cell \u001b[0;32mIn[39], line 1\u001b[0m\n\u001b[0;32m----> 1\u001b[0m \u001b[38;5;28;01mfor\u001b[39;00m var \u001b[38;5;129;01min\u001b[39;00m temp2:\n\u001b[1;32m      2\u001b[0m     \u001b[38;5;28;01mdel\u001b[39;00m temp2[var]\u001b[38;5;241m.\u001b[39mencoding[\u001b[38;5;124m'\u001b[39m\u001b[38;5;124mchunk\u001b[39m\u001b[38;5;124m'\u001b[39m]\n\u001b[1;32m      4\u001b[0m ds_sun_final \u001b[38;5;241m=\u001b[39m temp2\u001b[38;5;241m.\u001b[39mchunk({\u001b[38;5;124m'\u001b[39m\u001b[38;5;124mtime\u001b[39m\u001b[38;5;124m'\u001b[39m:\u001b[38;5;241m60\u001b[39m, \u001b[38;5;124m'\u001b[39m\u001b[38;5;124mlat\u001b[39m\u001b[38;5;124m'\u001b[39m:\u001b[38;5;241m-\u001b[39m\u001b[38;5;241m1\u001b[39m, \u001b[38;5;124m'\u001b[39m\u001b[38;5;124mlon\u001b[39m\u001b[38;5;124m'\u001b[39m:\u001b[38;5;241m-\u001b[39m\u001b[38;5;241m1\u001b[39m})\n",
      "\u001b[0;31mTypeError\u001b[0m: 'ZarrStore' object is not iterable"
     ]
    }
   ],
   "source": [
    "for var in temp2:\n",
    "    del temp2[var].encoding['chunk']\n",
    "\n",
    "ds_sun_final = temp2.chunk({'time':60, 'lat':-1, 'lon':-1})"
   ]
  },
  {
   "cell_type": "code",
   "execution_count": null,
   "id": "5332ae70-743b-47b3-abe5-6b934d16e98e",
   "metadata": {},
   "outputs": [],
   "source": [
    "ds_sun_final.to_zarr('/scratch/snx3000/kschuurm/DATA/HRSEVIRI_corrected.zarr', mode='a')\n"
   ]
  },
  {
   "cell_type": "code",
   "execution_count": null,
   "id": "a160636a-c256-4ce1-9eab-a9a8dfd57085",
   "metadata": {},
   "outputs": [],
   "source": []
  }
 ],
 "metadata": {
  "kernelspec": {
   "display_name": "pytorch",
   "language": "python",
   "name": "pytorch"
  },
  "language_info": {
   "codemirror_mode": {
    "name": "ipython",
    "version": 3
   },
   "file_extension": ".py",
   "mimetype": "text/x-python",
   "name": "python",
   "nbconvert_exporter": "python",
   "pygments_lexer": "ipython3",
   "version": "3.9.4"
  }
 },
 "nbformat": 4,
 "nbformat_minor": 5
}
