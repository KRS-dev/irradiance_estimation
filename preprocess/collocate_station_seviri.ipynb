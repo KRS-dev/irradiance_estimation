{
 "cells": [
  {
   "cell_type": "code",
   "execution_count": null,
   "metadata": {},
   "outputs": [],
   "source": [
    "import xarray\n",
    "import matplotlib.pyplot as plt\n",
    "import numpy as np\n",
    "import pandas as pd\n",
    "import cartopy.crs as ccrs\n",
    "from tqdm import tqdm\n",
    "from preprocess.sza import solarzenithangle\n",
    "from utils.etc import benchmark\n",
    "from dask.distributed import Client\n",
    "import shutil, gc\n",
    "import os"
   ]
  },
  {
   "cell_type": "code",
   "execution_count": null,
   "metadata": {
    "tags": []
   },
   "outputs": [],
   "source": [
    "client = Client()"
   ]
  },
  {
   "cell_type": "code",
   "execution_count": null,
   "metadata": {},
   "outputs": [],
   "source": [
    "folder = '/capstor/scratch/cscs/kschuurm/DATA/IEA_PVPS/'\n",
    "\n",
    "\n",
    "index = xarray.open_dataset(folder + 'index.nc')\n",
    "\n",
    "extent = [-8, 29, 29, 62]\n",
    "\n",
    "index = index.where((index.longitude > extent[0]) &  \n",
    "                    (index.longitude < extent[1]) &\n",
    "                    (index.latitude > extent[2]) &\n",
    "                    (index.latitude < extent[3]), drop=True)"
   ]
  },
  {
   "cell_type": "code",
   "execution_count": null,
   "metadata": {},
   "outputs": [],
   "source": [
    "folder = '/capstor/scratch/cscs/kschuurm/DATA/IEA_PVPS/'\n",
    "CAB = xarray.open_dataset(folder + 'IEA_PVPS-CAB.nc')\n",
    "CAB"
   ]
  },
  {
   "cell_type": "code",
   "execution_count": null,
   "metadata": {},
   "outputs": [],
   "source": [
    "hrseviri = xarray.open_zarr('/capstor/scratch/cscs/kschuurm/ZARR/SEVIRI_FULLDISK.zarr')\n",
    "\n",
    "proj = ccrs.PlateCarree()\n",
    "\n",
    "fig, axis = plt.subplots(1, 1, subplot_kw=dict(projection=proj))\n",
    "\n",
    "gl = axis.gridlines(crs=ccrs.PlateCarree(), draw_labels=True,\n",
    "                  linewidth=2, color='gray', alpha=0.5, linestyle='--')\n",
    "\n",
    "axis.coastlines()\n",
    "\n",
    "lat = index.latitude.values\n",
    "lon = index.longitude.values\n",
    "name = index.station_name.values\n",
    "axis.scatter(x=lon, y=lat, c='r')\n",
    "for i, txt in enumerate(name):\n",
    "    axis.annotate(txt, (lon[i], lat[i]))\n",
    "\n",
    "hrseviri.channel_data.sel(channel='VIS006').isel(time = 1000).plot.imshow(ax=axis, transform = proj)\n",
    "\n"
   ]
  },
  {
   "cell_type": "code",
   "execution_count": null,
   "metadata": {},
   "outputs": [],
   "source": [
    "def create_collocated_zarr(hrseviri, station_name, time_window=10, patch_size=15):\n",
    "    \n",
    "    station = xarray.open_dataset(f'/capstor/scratch/cscs/kschuurm/DATA/IEA_PVPS/IEA_PVPS-{station_name}.nc').load()\n",
    "    \n",
    "#     station = station.drop(['station_name'])\n",
    "    with benchmark('where'):\n",
    "        invalid = xarray.where((station.GHI > 1500), True, False)\n",
    "        invalid2 = xarray.where(station.QC.isnull() != True, True, False)\n",
    "        station['GHI'][invalid] = np.nan\n",
    "        station['GHI'][invalid2] = np.nan\n",
    "    \n",
    "    rolling = station.rolling(time=time_window,center=False) \\\n",
    "        .mean().dropna(dim='time', subset=['GHI'])\n",
    "    \n",
    "    rolling['time'] = rolling['time'] - np.timedelta64(time_window, 'm')\n",
    "    \n",
    "    lat = station.latitude.values\n",
    "    lon = station.longitude.values\n",
    "    ilat = (np.abs(hrseviri.y - lat)).argmin().values\n",
    "    ilon = (np.abs(hrseviri.x - lon)).argmin().values\n",
    "\n",
    "    hpatch = int(np.floor(patch_size/2))\n",
    "    \n",
    "    with benchmark('load'):\n",
    "        hres_slice = hrseviri.isel(y=slice(ilat-hpatch, ilat + hpatch +1), x=slice(ilon-hpatch, ilon+hpatch+1)).load()\n",
    "    for v in list(hres_slice.coords.keys()):\n",
    "        if hres_slice.coords[v].dtype == object:\n",
    "            hres_slice[v].encoding.clear()\n",
    "    for var in hres_slice:\n",
    "        hres_slice[var].encoding.clear()\n",
    "\n",
    "\n",
    "    intersec = np.unique(np.array(list(set(rolling.time.values).intersection(set(hres_slice.time.values)))))\n",
    "    print(len(intersec))\n",
    "    \n",
    "    subset_station = rolling.sel(time=intersec)\n",
    "    hres_slice = hres_slice.sel(time=intersec)\n",
    "\n",
    "    hres_slice['GHI'] = ('time', subset_station.GHI.data)\n",
    "    hres_slice['DIF'] = ('time', subset_station.DIF.data)\n",
    "    hres_slice['DNI'] = ('time', subset_station.DNI.data)\n",
    "    hres_slice['GHIcalc'] = ('time', subset_station.GHIcalc.data)\n",
    "    hres_slice['QC'] = ('time', subset_station.QC.data)\n",
    "    hres_slice['KI'] =  ('time', subset_station.Kc.data)\n",
    "    hres_slice['SZA'] = ('time', (90 - subset_station['Elev'].data)/180*np.pi)# SZA = 90 - Elev, [0, 90*] or [0, 1/2pi]\n",
    "    hres_slice['AZI'] = ('time', subset_station['Azim'].data/180*np.pi) # SZA = 90 - Elev, [0, 90*] or [0, 1/2pi]\n",
    "                         \n",
    "    hres_slice['station_name'] = str(station_name)\n",
    "    hres_slice['lat_station'] = subset_station.latitude.data\n",
    "    hres_slice['lon_station'] = subset_station.longitude.data\n",
    "    hres_slice['altitude_station'] = subset_station.elevation.data\n",
    "    \n",
    "    with benchmark('dropna'):\n",
    "        hres_slice = hres_slice.dropna('time', subset=['channel_data'])\n",
    "        print(len(hres_slice.time))\n",
    "\n",
    "    for v in list(hres_slice.coords.keys()):\n",
    "        if hres_slice.coords[v].dtype == object:\n",
    "            hres_slice[v].encoding.clear()\n",
    "\n",
    "    hres_slice = hres_slice.chunk({'time':-1, 'channel':-1, 'y':-1, 'x':-1})\n",
    "    hres_slice.attrs = station.attrs\n",
    "\n",
    "    with benchmark('zarr'):\n",
    "        hres_slice.to_zarr(SAVE_PATH + f'IEA_PVPS_{str(station_name)}.zarr', mode='w')\n",
    "    \n",
    "    print(f'        STATION {station_name} DONE         ')\n",
    "\n"
   ]
  },
  {
   "cell_type": "code",
   "execution_count": null,
   "metadata": {
    "tags": []
   },
   "outputs": [],
   "source": [
    "\n",
    "SAVE_PATH = f'/capstor/scratch/cscs/kschuurm/ZARR/IEA_PVPS/'\n",
    "\n",
    "hrseviri = xarray.open_zarr('/capstor/scratch/cscs/kschuurm/ZARR/SEVIRI_FULLDISK_timechunked.zarr')\n",
    "\n",
    "for nm in tqdm(index.station_name.values):\n",
    "    print(nm)\n",
    "    if not os.path.exists(SAVE_PATH + f'IEA_PVPS_{str(nm)}.zarr'):\n",
    "        create_collocated_zarr(hrseviri, nm)\n",
    "   "
   ]
  },
  {
   "cell_type": "code",
   "execution_count": null,
   "metadata": {},
   "outputs": [],
   "source": [
    "def create_collocated_zarr_knmi(hrseviri, station_id, patch_size=31):\n",
    "    station = xarray.open_dataset(f'/capstor/scratch/cscs/kschuurm/DATA/KNMI/nc/KNMI_SOLAR_10min_{str(station_id)}.nc')\n",
    "    station = station.drop_duplicates('time')\n",
    "\n",
    "    lat = station.lat.values\n",
    "    lon = station.lon.values\n",
    "    ilat = (np.abs(hrseviri.y - lat)).argmin().values\n",
    "    ilon = (np.abs(hrseviri.x - lon)).argmin().values\n",
    "\n",
    "    hpatch = int(np.floor(patch_size/2))\n",
    "\n",
    "    station['time'] = station.time - np.timedelta64(10, 'm')\n",
    "    \n",
    "    intersec = set(station.time.values).intersection(hrseviri.time.values)\n",
    "\n",
    "    if len(intersec)< 1000:\n",
    "        print(f'skipping station {station_id}, too little points')\n",
    "        return None\n",
    "\n",
    "\n",
    "    hres_slice = hrseviri.isel(y=slice(ilat-hpatch, ilat + hpatch +1), x=slice(ilon-hpatch, ilon+hpatch+1)).load()\n",
    "    for v in list(hres_slice.coords.keys()):\n",
    "        if hres_slice.coords[v].dtype == object:\n",
    "            hres_slice[v].encoding.clear()\n",
    "    for var in hres_slice:\n",
    "        hres_slice[var].encoding.clear()\n",
    "\n",
    "    intersec_time = np.sort(np.array(list(set(station.time.values).intersection(set(hres_slice.time.values)))))\n",
    "    if len(intersec_time)<50:\n",
    "        print(f'skipping {station_id} to little matching timeindices')\n",
    "        return None\n",
    "    subset_station = station.sel(time=intersec_time)\n",
    "    hres_slice = hres_slice.sel(time=intersec_time)\n",
    "    \n",
    "    hres_slice['GHI'] = ('time', subset_station.Q_GLOB_10.data)\n",
    "    hres_slice['GHI_min'] = ('time', subset_station.QN_GLOB_10.data)\n",
    "    hres_slice['GHI_max'] = ('time', subset_station.QX_GLOB_10.data)\n",
    "    hres_slice['station_name'] = str(station_id)\n",
    "    hres_slice['lat_station'] = subset_station.lat.data\n",
    "    hres_slice['lon_station'] = subset_station.lon.data\n",
    "    hres_slice['altitude_station'] = subset_station.altitude.data\n",
    "    \n",
    "    with benchmark('dropna'):\n",
    "        hres_slice = hres_slice.dropna('time')\n",
    "    \n",
    "    with benchmark('SZA'):\n",
    "        SZA, AZI = solarzenithangle(pd.to_datetime(hres_slice.time), \n",
    "                                    hres_slice.lat_station.values, \n",
    "                                    hres_slice.lon_station.values, \n",
    "                                    hres_slice.altitude_station.values)\n",
    "\n",
    "    hres_slice['SZA'] = ('time', SZA.astype(np.float32))\n",
    "    hres_slice['AZI'] = ('time', AZI.astype(np.float32))\n",
    "\n",
    "    for v in list(hres_slice.coords.keys()):\n",
    "        if hres_slice.coords[v].dtype == object:\n",
    "            hres_slice[v].encoding.clear()\n",
    "\n",
    "    hres_slice = hres_slice.chunk({'time':50000, 'channel':-1, 'y':-1, 'x':-1})\n",
    "    hres_slice.attrs = station.attrs\n",
    "\n",
    "    with benchmark('zarr'):\n",
    "        hres_slice.to_zarr(SAVE_PATH + f'KNMI_SOLAR_{str(station_id)}.zarr', mode='w')\n",
    "    \n",
    "    print(f'        STATION {station_id} DONE         ')\n",
    "    "
   ]
  },
  {
   "cell_type": "code",
   "execution_count": null,
   "metadata": {},
   "outputs": [],
   "source": [
    "SAVE_PATH = f'/capstor/scratch/cscs/kschuurm/ZARR/KNMI/'\n",
    "\n",
    "stations_knmi = xarray.open_dataset('/capstor/scratch/cscs/kschuurm/DATA/KNMI/nc/index.nc')\n",
    "\n",
    "\n",
    "    \n",
    "for nm in tqdm(stations_knmi.station.values):\n",
    "    \n",
    "    if os.path.exists(f'/capstor/scratch/cscs/kschuurm/DATA/KNMI/nc/KNMI_SOLAR_10min_{str(nm)}.nc'):\n",
    "        create_collocated_zarr_knmi(hrseviri, nm)\n",
    "    else:\n",
    "        print(f'station {nm} does not have data')\n",
    "      "
   ]
  },
  {
   "cell_type": "markdown",
   "metadata": {},
   "source": [
    "# PLAYGROUND\n"
   ]
  },
  {
   "cell_type": "code",
   "execution_count": null,
   "metadata": {},
   "outputs": [],
   "source": [
    "station_name = 'CAR'\n",
    "station = xarray.open_dataset(f'/scratch/snx3000/kschuurm/DATA/IEA_PVPS/IEA_PVPS-{station_name}.nc')\n"
   ]
  },
  {
   "cell_type": "code",
   "execution_count": null,
   "metadata": {},
   "outputs": [],
   "source": [
    "station = station.where(station.GHI < 100, drop=True)"
   ]
  },
  {
   "cell_type": "code",
   "execution_count": null,
   "metadata": {},
   "outputs": [],
   "source": [
    "station.drop(['station_name'])"
   ]
  },
  {
   "cell_type": "code",
   "execution_count": null,
   "metadata": {},
   "outputs": [],
   "source": [
    "rolling = station.GHI.rolling(time=12,center=False).mean().dropna(dim='time')\n",
    "print(rolling)\n",
    "\n",
    "station['time'] = station['time'] - np.timedelta64(12, 'm')\n",
    "\n",
    "station = station.rolling"
   ]
  },
  {
   "cell_type": "code",
   "execution_count": null,
   "metadata": {},
   "outputs": [],
   "source": [
    "station.drop(['station_name']).rolling(time=12, center=False).mean().dropna('time', subset=['GHI'])"
   ]
  },
  {
   "cell_type": "code",
   "execution_count": null,
   "metadata": {},
   "outputs": [],
   "source": [
    "plt.show()"
   ]
  }
 ],
 "metadata": {
  "kernelspec": {
   "display_name": "lightning-kernel-capstor",
   "language": "python",
   "name": "lightning-kernel-capstor"
  },
  "language_info": {
   "codemirror_mode": {
    "name": "ipython",
    "version": 3
   },
   "file_extension": ".py",
   "mimetype": "text/x-python",
   "name": "python",
   "nbconvert_exporter": "python",
   "pygments_lexer": "ipython3",
   "version": "3.9.4"
  }
 },
 "nbformat": 4,
 "nbformat_minor": 5
}
