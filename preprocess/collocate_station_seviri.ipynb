{
 "cells": [
  {
   "cell_type": "code",
   "execution_count": null,
   "metadata": {},
   "outputs": [],
   "source": [
    "import xarray\n",
    "import numpy as np\n",
    "from tqdm import tqdm\n",
    "from utils.etc import benchmark\n",
    "from dask.distributed import Client\n",
    "import os"
   ]
  },
  {
   "cell_type": "code",
   "execution_count": null,
   "metadata": {
    "tags": []
   },
   "outputs": [],
   "source": [
    "client = Client()"
   ]
  },
  {
   "cell_type": "code",
   "execution_count": null,
   "metadata": {},
   "outputs": [],
   "source": [
    "folder = '/capstor/scratch/cscs/kschuurm/DATA/IEA_PVPS/'\n",
    "stations = xarray.open_dataset(folder + 'index.nc')"
   ]
  },
  {
   "cell_type": "code",
   "execution_count": null,
   "metadata": {},
   "outputs": [],
   "source": [
    "def create_collocated_zarr(seviri, station_name, time_window=10, patch_size=15):\n",
    "    \n",
    "    station = xarray.open_dataset(f'/capstor/scratch/cscs/kschuurm/DATA/IEA_PVPS/IEA_PVPS-{station_name}.nc').load()\n",
    "    \n",
    "    with benchmark('where'):\n",
    "        invalid = xarray.where((station.GHI > 1500), True, False) # check unphysical values\n",
    "        invalid2 = xarray.where(station.QC.isnull() != True, True, False) # Quality control\n",
    "        station['GHI'][invalid] = np.nan\n",
    "        station['GHI'][invalid2] = np.nan\n",
    "    \n",
    "    rolling = station.rolling(time=time_window,center=False) \\\n",
    "        .mean().dropna(dim='time', subset=['GHI'])\n",
    "    \n",
    "    rolling['time'] = rolling['time'] - np.timedelta64(time_window, 'm')\n",
    "    \n",
    "    lat = station.latitude.values\n",
    "    lon = station.longitude.values\n",
    "    ilat = (np.abs(seviri.y - lat)).argmin().values\n",
    "    ilon = (np.abs(seviri.x - lon)).argmin().values\n",
    "\n",
    "    hpatch = int(np.floor(patch_size/2))\n",
    "    \n",
    "    with benchmark('load'):\n",
    "        seviri_slice = seviri.isel(y=slice(ilat-hpatch, ilat + hpatch +1), x=slice(ilon-hpatch, ilon+hpatch+1)).load()\n",
    "    for v in list(seviri_slice.coords.keys()):\n",
    "        if seviri_slice.coords[v].dtype == object:\n",
    "            seviri_slice[v].encoding.clear()\n",
    "    for var in seviri_slice:\n",
    "        seviri_slice[var].encoding.clear()\n",
    "\n",
    "\n",
    "    intersec = np.unique(np.array(list(set(rolling.time.values).intersection(set(seviri_slice.time.values)))))\n",
    "    print(len(intersec))\n",
    "    \n",
    "    subset_station = rolling.sel(time=intersec)\n",
    "    seviri_slice = seviri_slice.sel(time=intersec)\n",
    "\n",
    "    seviri_slice['GHI'] = ('time', subset_station.GHI.data)\n",
    "    seviri_slice['DIF'] = ('time', subset_station.DIF.data)\n",
    "    seviri_slice['DNI'] = ('time', subset_station.DNI.data)\n",
    "    seviri_slice['GHIcalc'] = ('time', subset_station.GHIcalc.data)\n",
    "    seviri_slice['QC'] = ('time', subset_station.QC.data)\n",
    "    seviri_slice['KI'] =  ('time', subset_station.Kc.data)\n",
    "    seviri_slice['SZA'] = ('time', (90 - subset_station['Elev'].data)/180*np.pi)# SZA = 90 - Elev, [0, 90*] or [0, 1/2pi]\n",
    "    seviri_slice['AZI'] = ('time', subset_station['Azim'].data/180*np.pi) # SZA = 90 - Elev, [0, 90*] or [0, 1/2pi]\n",
    "                         \n",
    "    seviri_slice['station_name'] = str(station_name)\n",
    "    seviri_slice['lat_station'] = subset_station.latitude.data\n",
    "    seviri_slice['lon_station'] = subset_station.longitude.data\n",
    "    seviri_slice['altitude_station'] = subset_station.elevation.data\n",
    "    \n",
    "    with benchmark('dropna'):\n",
    "        seviri_slice = seviri_slice.dropna('time', subset=['channel_data'])\n",
    "        print(len(seviri_slice.time))\n",
    "\n",
    "    for v in list(seviri_slice.coords.keys()):\n",
    "        if seviri_slice.coords[v].dtype == object:\n",
    "            seviri_slice[v].encoding.clear()\n",
    "\n",
    "    seviri_slice = seviri_slice.chunk({'time':-1, 'channel':-1, 'y':-1, 'x':-1})\n",
    "    seviri_slice.attrs = station.attrs\n",
    "\n",
    "    with benchmark('zarr'):\n",
    "        seviri_slice.to_zarr(SAVE_PATH + f'IEA_PVPS_{str(station_name)}.zarr', mode='w')\n",
    "    \n",
    "    print(f'        STATION {station_name} DONE         ')\n"
   ]
  },
  {
   "cell_type": "code",
   "execution_count": null,
   "metadata": {
    "tags": []
   },
   "outputs": [],
   "source": [
    "SAVE_PATH = f'/capstor/scratch/cscs/kschuurm/ZARR/IEA_PVPS/'\n",
    "\n",
    "seviri = xarray.open_zarr('/capstor/scratch/cscs/kschuurm/ZARR/SEVIRI_FULLDISK_timechunked.zarr')\n",
    "\n",
    "for nm in tqdm(stations.station_name.values):\n",
    "    print(nm)\n",
    "    if not os.path.exists(SAVE_PATH + f'IEA_PVPS_{str(nm)}.zarr'):\n",
    "        create_collocated_zarr(seviri, nm)\n",
    "   "
   ]
  }
 ],
 "metadata": {
  "kernelspec": {
   "display_name": "lightning-kernel-capstor",
   "language": "python",
   "name": "lightning-kernel-capstor"
  },
  "language_info": {
   "codemirror_mode": {
    "name": "ipython",
    "version": 3
   },
   "file_extension": ".py",
   "mimetype": "text/x-python",
   "name": "python",
   "nbconvert_exporter": "python",
   "pygments_lexer": "ipython3",
   "version": "3.9.4"
  }
 },
 "nbformat": 4,
 "nbformat_minor": 5
}
