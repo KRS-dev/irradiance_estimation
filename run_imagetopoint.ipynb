{
 "cells": [
  {
   "cell_type": "code",
   "execution_count": 3,
   "id": "99461618-6eb0-49dd-8b34-34f8ec26c3bb",
   "metadata": {},
   "outputs": [],
   "source": [
    "%load_ext autoreload\n",
    "%autoreload 2"
   ]
  },
  {
   "cell_type": "code",
   "execution_count": 4,
   "id": "93303cbd-8849-49ba-9117-98b3c66d28de",
   "metadata": {},
   "outputs": [],
   "source": [
    "import torch\n",
    "import wandb\n",
    "from dataset.dataset import MSGDataModule, MSGDataModulePoint\n",
    "from dataset.normalization import MinMax\n",
    "from models.ConvResNet_Jiang import ConvResNet\n",
    "from models.FNO import FNO2d\n",
    "from models.LightningModule import LitEstimator, LitEstimatorPoint\n",
    "from lightning.pytorch import Trainer\n",
    "from lightning.pytorch.loggers import WandbLogger\n",
    "from lightning.pytorch.plugins.environments import SLURMEnvironment\n",
    "\n",
    "# from pytorch_lightning.pytorch.callbacks import DeviceStatsMonitor\n",
    "from train import config\n",
    "from utils.plotting import best_worst_plot, prediction_error_plot"
   ]
  },
  {
   "cell_type": "code",
   "execution_count": 5,
   "id": "f3e899ce-e48c-4f2d-9825-ea6a2488be1b",
   "metadata": {},
   "outputs": [],
   "source": [
    "# from pytorch_lightning.pytorch.callbacks import DeviceStatsMonitor\n",
    "from train import config\n",
    "from utils.plotting import best_worst_plot, prediction_error_plot\n",
    "\n",
    "# Training Hyperparameters\n",
    "INPUT_SIZE = (15, 15)\n",
    "INPUT_OVERLAP = {\n",
    "    \"lat\": 12,\n",
    "    \"lon\": 12,\n",
    "}  # dataset sampled with overlapping (15,15) patches\n",
    "LEARNING_RATE = 0.001\n",
    "BATCH_SIZE = 512\n",
    "NUM_EPOCHS = 20\n",
    "MIN_EPOCHS = 1\n",
    "MAX_EPOCHS = 30\n",
    "\n",
    "# Dataset\n",
    "# DATA_DIR\n",
    "NUM_WORKERS = 12\n",
    "\n",
    "# Compute related\n",
    "ACCELERATOR = \"gpu\"\n",
    "DEVICES = -1\n",
    "NUM_NODES = 1\n",
    "STRATEGY = \"ddp_notebook\"\n",
    "PRECISION = 32"
   ]
  },
  {
   "cell_type": "code",
   "execution_count": 6,
   "id": "c9859da5-703b-4ac7-81ff-2f38657c7089",
   "metadata": {},
   "outputs": [
    {
     "name": "stderr",
     "output_type": "stream",
     "text": [
      "/scratch/snx3000/kschuurm/pytorch/lib/python3.9/site-packages/lightning/pytorch/utilities/parsing.py:198: Attribute 'model' is an instance of `nn.Module` and is already saved during checkpointing. It is recommended to ignore them using `self.save_hyperparameters(ignore=['model'])`.\n"
     ]
    }
   ],
   "source": [
    "dm = MSGDataModulePoint(\n",
    "    batch_size=BATCH_SIZE,\n",
    "    num_workers=NUM_WORKERS,\n",
    "    patch_size=INPUT_SIZE,\n",
    "    # input_overlap= INPUT_OVERLAP,\n",
    "    x_vars=[\"channel_1\"],\n",
    "    transform=MinMax(),\n",
    "    target_transform=MinMax(),\n",
    ")\n",
    "\n",
    "model = ConvResNet(num_attr=5)\n",
    "\n",
    "estimator = LitEstimatorPoint(\n",
    "    model=model,\n",
    "    learning_rate=config.LEARNING_RATE,\n",
    "    dm=dm,\n",
    ")"
   ]
  },
  {
   "cell_type": "code",
   "execution_count": 7,
   "id": "6b284201-990f-4e30-bd8a-9d1001ae5ea6",
   "metadata": {},
   "outputs": [
    {
     "name": "stderr",
     "output_type": "stream",
     "text": [
      "/scratch/snx3000/kschuurm/pytorch/lib/python3.9/site-packages/lightning/fabric/plugins/environments/slurm.py:191: The `srun` command is available on your system but is not used. HINT: If your intention is to run Lightning on SLURM, prepend your python command with `srun` like so: srun python /scratch/snx3000/kschuurm/pytorch/lib/python3.9/site ...\n",
      "GPU available: True (cuda), used: True\n",
      "TPU available: False, using: 0 TPU cores\n",
      "IPU available: False, using: 0 IPUs\n",
      "HPU available: False, using: 0 HPUs\n",
      "Running in `fast_dev_run` mode: will run the requested loop using 1 batch(es). Logging and checkpointing is suppressed.\n"
     ]
    }
   ],
   "source": [
    "wandb_logger = WandbLogger(project=\"SIS_estimation\")\n",
    "\n",
    "trainer = Trainer(\n",
    "    profiler=\"simple\",\n",
    "    fast_dev_run=True,\n",
    "    # callbacks=[DeviceStatsMonitor(cpu_stats=true)]\n",
    "    num_sanity_val_steps=2,\n",
    "    logger=wandb_logger,\n",
    "    accelerator=ACCELERATOR,\n",
    "    devices=DEVICES,\n",
    "    # num_nodes=NUM_NODES,\n",
    "    # strategy=STRATEGY,\n",
    "    min_epochs=MIN_EPOCHS,\n",
    "    max_epochs=MAX_EPOCHS,\n",
    "    precision=PRECISION,\n",
    "    log_every_n_steps=200,\n",
    ")"
   ]
  },
  {
   "cell_type": "code",
   "execution_count": null,
   "id": "85d828f4-eccc-4976-b06f-417525c3946d",
   "metadata": {},
   "outputs": [
    {
     "name": "stderr",
     "output_type": "stream",
     "text": [
      "/scratch/snx3000/kschuurm/pytorch/lib/python3.9/site-packages/lightning/fabric/plugins/environments/slurm.py:191: The `srun` command is available on your system but is not used. HINT: If your intention is to run Lightning on SLURM, prepend your python command with `srun` like so: srun python /scratch/snx3000/kschuurm/pytorch/lib/python3.9/site ...\n",
      "LOCAL_RANK: 0 - CUDA_VISIBLE_DEVICES: [0]\n",
      "\n",
      "  | Name          | Type                 | Params\n",
      "-------------------------------------------------------\n",
      "0 | model         | ConvResNet           | 6.4 M \n",
      "1 | metric        | RelativeSquaredError | 0     \n",
      "2 | other_metrics | MetricCollection     | 0     \n",
      "-------------------------------------------------------\n",
      "6.4 M     Trainable params\n",
      "0         Non-trainable params\n",
      "6.4 M     Total params\n",
      "25.595    Total estimated model params size (MB)\n"
     ]
    },
    {
     "data": {
      "application/vnd.jupyter.widget-view+json": {
       "model_id": "7afa9b7a586d463694ead4d283fc1581",
       "version_major": 2,
       "version_minor": 0
      },
      "text/plain": [
       "Training: |          | 0/? [00:00<?, ?it/s]"
      ]
     },
     "metadata": {},
     "output_type": "display_data"
    },
    {
     "data": {
      "application/vnd.jupyter.widget-view+json": {
       "model_id": "",
       "version_major": 2,
       "version_minor": 0
      },
      "text/plain": [
       "Validation: |          | 0/? [00:00<?, ?it/s]"
      ]
     },
     "metadata": {},
     "output_type": "display_data"
    }
   ],
   "source": [
    "trainer.fit(model=estimator, train_dataloaders=dm)"
   ]
  },
  {
   "cell_type": "code",
   "execution_count": null,
   "id": "d5929640-e2b8-4859-81f1-4aa6c643cbb2",
   "metadata": {},
   "outputs": [],
   "source": [
    "y_hat, y = trainer.predict(model=estimator, dataloaders=dm.val_dataloader())[0]\n",
    "error = torch.mean((y - y_hat) ** 2 / y**2, dim=(1, 2))\n",
    "idxmin = error.argmin()\n",
    "idxmax = error.argmax()\n",
    "idxminbatch = int(torch.floor(idxmin / dm.batch_size))\n",
    "idxmaxbatch = int(torch.floor(idxmax / dm.batch_size))"
   ]
  },
  {
   "cell_type": "code",
   "execution_count": null,
   "id": "1ca43c8b-f1b9-41e3-ab36-8f8f02d920ad",
   "metadata": {},
   "outputs": [],
   "source": [
    "fig = prediction_error_plot(y, y_hat)\n",
    "trainer.logger.log_image(key=\"Prediction error\", images=[fig])"
   ]
  },
  {
   "cell_type": "code",
   "execution_count": null,
   "id": "7879da33-0615-4efc-86b6-6da8fb293a35",
   "metadata": {},
   "outputs": [],
   "source": []
  }
 ],
 "metadata": {
  "kernelspec": {
   "display_name": "pytorch",
   "language": "python",
   "name": "pytorch"
  },
  "language_info": {
   "codemirror_mode": {
    "name": "ipython",
    "version": 3
   },
   "file_extension": ".py",
   "mimetype": "text/x-python",
   "name": "python",
   "nbconvert_exporter": "python",
   "pygments_lexer": "ipython3",
   "version": "3.9.4"
  }
 },
 "nbformat": 4,
 "nbformat_minor": 5
}
