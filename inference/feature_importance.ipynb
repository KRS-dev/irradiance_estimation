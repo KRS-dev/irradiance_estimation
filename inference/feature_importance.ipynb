{
 "cells": [
  {
   "cell_type": "code",
   "execution_count": 1,
   "id": "5c541626-d254-4146-9dbe-491d5a50663b",
   "metadata": {},
   "outputs": [],
   "source": [
    "%load_ext autoreload\n",
    "%autoreload 2"
   ]
  },
  {
   "cell_type": "code",
   "execution_count": 2,
   "id": "2ef2daf4-0d2d-4222-aa70-728bd5e6c7ea",
   "metadata": {},
   "outputs": [],
   "source": [
    "from datetime import datetime\n",
    "from types import SimpleNamespace\n",
    "import os\n",
    "from glob import glob\n",
    "import cartopy.crs as ccrs\n",
    "import cartopy.feature as cfeature\n",
    "import matplotlib.pyplot as plt\n",
    "import matplotlib.colors as colors\n",
    "import numpy as np\n",
    "import torch\n",
    "from torch.utils.data import Dataset, DataLoader, ConcatDataset\n",
    "from torchmetrics import MeanAbsoluteError, MeanSquaredError\n",
    "import xarray\n",
    "import pandas as pd\n",
    "from dataset.dataset import ImageDataset, SingleImageDataset, pickle_write\n",
    "from dataset.normalization import MinMax, ZeroMinMax\n",
    "from dataset.station_dataset import GroundstationDataset\n",
    "from lightning.pytorch import Trainer\n",
    "from lightning.pytorch.loggers import WandbLogger\n",
    "from models.ConvResNet_Jiang import ConvResNet, ConvResNet_dropout, ConvResNet_batchnormMLP\n",
    "from models.LightningModule import LitEstimatorPoint\n",
    "from torch.utils.data import DataLoader, Dataset\n",
    "from tqdm import tqdm\n",
    "from utils.plotting import prediction_error_plot, plot_station_scatter\n",
    "from captum.attr import FeaturePermutation, ShapleyValueSampling, IntegratedGradients, FeatureAblation\n",
    "from cartopy.mpl.gridliner import (\n",
    "    LongitudeFormatter,\n",
    "    LatitudeFormatter,\n",
    "    LongitudeLocator,\n",
    "    LatitudeLocator,\n",
    ")\n",
    "plt.rcParams['text.usetex'] = False"
   ]
  },
  {
   "cell_type": "code",
   "execution_count": 3,
   "id": "d8d96ca4-bb68-4402-b90c-92fa5030037c",
   "metadata": {},
   "outputs": [],
   "source": [
    "config = {\n",
    "    \"batch_size\": 2048,\n",
    "    \"patch_size\": {\n",
    "        \"x\": 15,\n",
    "        \"y\": 15,\n",
    "        \"stride_x\": 1,\n",
    "        \"stride_y\": 1,\n",
    "    },\n",
    "    \"x_vars\": [\n",
    "        \"channel_1\",\n",
    "        \"channel_2\",\n",
    "        \"channel_3\",\n",
    "        \"channel_4\",\n",
    "        \"channel_5\",\n",
    "        \"channel_6\",\n",
    "        \"channel_7\",\n",
    "        \"channel_8\",\n",
    "        \"channel_9\",\n",
    "        \"channel_10\",\n",
    "        \"channel_11\",\n",
    "        \"DEM\",\n",
    "    ],\n",
    "    \"y_vars\": [\"SIS\"],\n",
    "    \"x_features\": [\"dayofyear\", \"lat\", \"lon\", 'SZA', \"AZI\",],# 'sat_SZA', 'sat_AZI', 'coscatter_angle'],\n",
    "    \"transform\": ZeroMinMax(),\n",
    "    \"target_transform\": ZeroMinMax(),\n",
    "}\n",
    "config = SimpleNamespace(**config)\n",
    "\n",
    "trans = {\n",
    "            \"VIS006\": \"channel_1\",\n",
    "            \"VIS008\": \"channel_2\",\n",
    "            \"IR_016\": \"channel_3\",\n",
    "            \"IR_039\": \"channel_4\",\n",
    "            \"WV_062\": \"channel_5\",\n",
    "            \"WV_073\": \"channel_6\",\n",
    "            \"IR_087\": \"channel_7\",\n",
    "            \"IR_097\": \"channel_8\",\n",
    "            \"IR_108\": \"channel_9\",\n",
    "            \"IR_120\": \"channel_10\",\n",
    "            \"IR_134\": \"channel_11\",\n",
    "            \"DEM\":\"DEM\",\n",
    "}\n",
    "\n",
    "inv_trans = {v: k for k, v in trans.items()}\n",
    "x_vars_trans = [inv_trans[nm] for nm in config.x_vars]"
   ]
  },
  {
   "cell_type": "code",
   "execution_count": 4,
   "id": "f01ba730-a34e-44da-9e40-9da2fece90d6",
   "metadata": {
    "tags": []
   },
   "outputs": [
    {
     "name": "stdout",
     "output_type": "stream",
     "text": [
      "hmobjerd\n"
     ]
    },
    {
     "name": "stderr",
     "output_type": "stream",
     "text": [
      "/scratch/snx3000/kschuurm/lightning-env/lib/python3.9/site-packages/lightning/pytorch/utilities/parsing.py:199: Attribute 'metric' is an instance of `nn.Module` and is already saved during checkpointing. It is recommended to ignore them using `self.save_hyperparameters(ignore=['metric'])`.\n"
     ]
    }
   ],
   "source": [
    "\n",
    "\n",
    "# chkpt_fn = '/scratch/snx3000/kschuurm/irradiance_estimation/train/SIS_point_estimation/4nbyae30/checkpoints/epoch=5-val_loss=0.01038.ckpt'# SARAH3 emulator\n",
    "# chkpt_fn = '../train/SIS_point_estimation_groundstation/pl86of1b/checkpoints/epoch=4-val_loss=0.01630.ckpt' # finetuned on 80 DWD groundstations\n",
    "# chkpt_fn = '../train/SIS_point_estimation_groundstation/groundstations_only/checkpoints/epoch=10-val_loss=0.01703.ckpt' # trained only on 80 DWD groundstations\n",
    "# chkpt_fn = '../train/SIS_point_estimation_groundstation/drvowqn4/checkpoints/epoch=0-val_loss=0.01659.ckpt' # finetuned DWD, freeze MLP\n",
    "\n",
    "\n",
    "#### TEST coscatterangle \n",
    "# coscatter dwd\n",
    "# chkpt_fn = '/scratch/snx3000/kschuurm/irradiance_estimation//train/SIS_point_estimation_groundstation/2oys35k3/checkpoints/epoch=6-step=14469.ckpt' # finetuned DWD, freeze MLP\n",
    "# coscatter bsrn\n",
    "# chkpt_fn = '/scratch/snx3000/kschuurm/irradiance_estimation/train/SIS_point_estimation_groundstation/xqklgx75/checkpoints/epoch=6-step=1274.ckpt'\n",
    "\n",
    "### emulator\n",
    "# chkpt_fn = '/scratch/snx3000/kschuurm/irradiance_estimation/train/SIS_point_estimation/jup3gn3n/checkpoints/epoch=1-val_loss=0.00705.ckpt'\n",
    "\n",
    "### Finetuned\n",
    "chkpt_fn = '/scratch/snx3000/kschuurm/irradiance_estimation/train/SIS_point_estimation_groundstation/hmobjerd/checkpoints/epoch=1-bsrnval_loss/dataloader_idx_1=0.01771-dwdval_loss/dataloader_idx_0=0.01761.ckpt'\n",
    "\n",
    "inference_fn = chkpt_fn.split('checkpoints')[0] + 'inference/'\n",
    "run_id = chkpt_fn.split('/checkpoints')[0].split('/')[-1]\n",
    "if not os.path.exists(inference_fn):\n",
    "    os.mkdir(inference_fn)\n",
    "\n",
    "\n",
    "estimator = LitEstimatorPoint.load_from_checkpoint(chkpt_fn,)\n",
    "estimator.eval()\n",
    "print(run_id)\n",
    "save_path = f'feature_importance/{run_id}/'\n",
    "if not os.path.exists(save_path):\n",
    "    os.mkdir(save_path)"
   ]
  },
  {
   "cell_type": "code",
   "execution_count": 5,
   "id": "8f81cb29-357f-4624-9218-ffff85d581a3",
   "metadata": {},
   "outputs": [
    {
     "name": "stderr",
     "output_type": "stream",
     "text": [
      "100%|██████████| 14/14 [00:36<00:00,  2.61s/it]\n"
     ]
    }
   ],
   "source": [
    "def get_gsdataset(fn):\n",
    "    return GroundstationDataset(fn, config.y_vars, config.x_vars, config.x_features, config.patch_size['x'], \n",
    "                                   config.transform, config.target_transform, sarah_idx_only=True)\n",
    "\n",
    "\n",
    "# TAT_fn = '../../ZARR/IEA_PVPS/IEA_PVPS-TAT.zarr'\n",
    "# CAB_fn = '../../ZARR/IEA_PVPS/IEA_PVPS-CAB.zarr'\n",
    "# TAT = get_gsdataset(TAT_fn)\n",
    "# CAB = get_gsdataset(CAB_fn)\n",
    "\n",
    "bsrn_fns = glob('/scratch/snx3000/kschuurm/ZARR/IEA_PVPS/IEA_PVPS_*.zarr')\n",
    "bsrn_datasets = {fn.split('PVPS_')[-1].replace('.zarr', ''):get_gsdataset(fn) for fn in tqdm(bsrn_fns)}\n",
    "bsrn_dataset_all = ConcatDataset(bsrn_datasets.values())\n"
   ]
  },
  {
   "cell_type": "code",
   "execution_count": 9,
   "id": "36ad03a1-48fe-4d2a-bd45-a3cec2b45a87",
   "metadata": {},
   "outputs": [],
   "source": [
    "dl_all = DataLoader(bsrn_dataset_all, shuffle=True, batch_size=20000)\n"
   ]
  },
  {
   "cell_type": "code",
   "execution_count": 10,
   "id": "c716aabc-b031-4f09-86e6-b29a13f02854",
   "metadata": {},
   "outputs": [],
   "source": [
    "\n",
    "patch = torch.ones((15,15))\n",
    "X_feature_mask = torch.stack([patch *i for i in range(len(config.x_vars))]).unsqueeze(0).to(torch.int) # 1 x 12 x 15 x 15\n",
    "x_feature_mask = torch.tensor(range(len(config.x_features))).unsqueeze(0).to(torch.int) # 1 x 5\n",
    "feature_mask = (X_feature_mask, x_feature_mask) "
   ]
  },
  {
   "cell_type": "code",
   "execution_count": 11,
   "id": "0856ba61-e9fa-4787-88b8-09adaef0986a",
   "metadata": {},
   "outputs": [],
   "source": [
    "\n",
    "# metric = MeanSquaredError().cuda()\n",
    "metric = MeanAbsoluteError().cuda()\n",
    "\n",
    "@torch.no_grad()\n",
    "def forward_func(X, x, y):\n",
    "    y_hat = estimator(X.cuda(),x.cuda())\n",
    "    y = y.cuda()\n",
    "    y_hat = config.transform.inverse(y_hat, ['SIS'])\n",
    "    y = config.transform.inverse(y, ['SIS'])\n",
    "    loss = metric(y,y_hat)\n",
    "    # prediction_error_plot(config.transform.inverse(y, ['SIS']),config.transform.inverse(y_hat, ['SIS']))\n",
    "    # print(loss)\n",
    "    return loss\n",
    "\n",
    "feature_perm = FeaturePermutation(forward_func)\n",
    "\n",
    "# for X,x,y in dl:\n",
    "#     forward_func(X,x,y)"
   ]
  },
  {
   "cell_type": "code",
   "execution_count": 12,
   "id": "10ee2708-4882-4677-9b12-7c860c84dee7",
   "metadata": {
    "tags": []
   },
   "outputs": [
    {
     "name": "stderr",
     "output_type": "stream",
     "text": [
      "100%|██████████| 19/19 [02:29<00:00,  7.89s/it]\n"
     ]
    }
   ],
   "source": [
    "def feature_importance_dl(dl):\n",
    "    x_attrs = []\n",
    "    X_attrs = []\n",
    "\n",
    "    for X, x, y in tqdm(dl):\n",
    "\n",
    "        X_attr, x_attr = feature_perm.attribute((X,x), feature_mask=feature_mask, additional_forward_args=y)\n",
    "        X_attr_channel = -1*X_attr.mean(dim=(2,3)).squeeze()\n",
    "        x_attr = -1*x_attr.squeeze()\n",
    "        x_attrs.append(x_attr)\n",
    "        X_attrs.append(X_attr_channel)\n",
    "    \n",
    "    return X_attrs, x_attrs\n",
    "\n",
    "X_attrs, x_attrs = feature_importance_dl(dl_all)\n"
   ]
  },
  {
   "cell_type": "code",
   "execution_count": 13,
   "id": "78c3c9ac-5fea-4b95-be35-9084127cd50b",
   "metadata": {},
   "outputs": [],
   "source": [
    "X_attrs_all = torch.stack(X_attrs)\n",
    "x_attrs_all = torch.stack(x_attrs)"
   ]
  },
  {
   "cell_type": "code",
   "execution_count": 14,
   "id": "44fbbb07-4f60-40bf-ac24-636ebe1a6d4a",
   "metadata": {},
   "outputs": [
    {
     "data": {
      "image/png": "[encoded data removed]",
      "text/plain": [
       "<Figure size 1100x500 with 1 Axes>"
      ]
     },
     "metadata": {},
     "output_type": "display_data"
    }
   ],
   "source": [
    "X_attrs_max = X_attrs_all.max(axis=0).values\n",
    "X_attrs_min = X_attrs_all.min(axis=0).values\n",
    "\n",
    "x_attrs_max = x_attrs_all.max(axis=0).values\n",
    "x_attrs_min = x_attrs_all.min(axis=0).values\n",
    "\n",
    "X_attrs_all_watt = X_attrs_all.mean(0)\n",
    "\n",
    "plt.figure(figsize=(11,5))\n",
    "plt.bar(x_vars_trans, X_attrs_all_watt)\n",
    "plt.ylabel('Increase in Mean Absolute Error $[w/m^2]$', fontsize=12)\n",
    "# plt.errorbar(x_vars_trans, X_attrs_all.mean(0), yerr=torch.stack((X_attrs_max, X_attrs_min)),  fmt='.', color='Black', elinewidth=2,capthick=2,errorevery=1, alpha=0.5, ms=4, capsize = 2)\n",
    "# plt.scatter(x_vars_trans, X_attrs_max, c='k', marker='_')\n",
    "# plt.scatter(x_vars_trans, X_attrs_min, c='k', marker='_')\n",
    "# plt.vlines(x_vars_trans, ymin = X_attrs_min, ymax = X_attrs_max, color='k')\n",
    "\n",
    "plt.savefig( save_path + 'X_attrs.png')"
   ]
  },
  {
   "cell_type": "code",
   "execution_count": 15,
   "id": "cf08104c-deac-4505-a33a-e3ecf8874345",
   "metadata": {},
   "outputs": [
    {
     "data": {
      "text/plain": [
       "tensor([0.0284, 0.0298, 0.0096, 1.4028, 0.2205])"
      ]
     },
     "execution_count": 15,
     "metadata": {},
     "output_type": "execute_result"
    }
   ],
   "source": [
    "x_attrs_all.std(0)"
   ]
  },
  {
   "cell_type": "code",
   "execution_count": 16,
   "id": "c0b170d5-ffb6-4af1-8011-0d30226e5601",
   "metadata": {},
   "outputs": [
    {
     "data": {
      "image/png": "[encoded data removed]",
      "text/plain": [
       "<Figure size 640x480 with 1 Axes>"
      ]
     },
     "metadata": {},
     "output_type": "display_data"
    }
   ],
   "source": [
    "plt.bar(config.x_features, x_attrs_all.mean(0))\n",
    "# plt.scatter(config.x_features, x_attrs_max, c='k', marker='_')\n",
    "# plt.scatter(config.x_features, x_attrs_min, c='k', marker='_')\n",
    "# plt.vlines(config.x_features, ymin = x_attrs_min, ymax = x_attrs_max, color='k')\n",
    "# # plt.ylim([0,0.01])\n",
    "plt.savefig(save_path + 'x_attrs.png')"
   ]
  },
  {
   "cell_type": "code",
   "execution_count": null,
   "id": "1e6eb2c8-1d34-4d56-ab57-7ea956784350",
   "metadata": {
    "tags": []
   },
   "outputs": [],
   "source": [
    "for nm, ds in bsrn_datasets.items():\n",
    "    \n",
    "    dl = DataLoader(ds, shuffle=False, batch_size=10000)\n",
    "    X_attrs, x_attrs = feature_importance_dl(dl)\n",
    "    \n",
    "    X_attrs_all = torch.stack(X_attrs)\n",
    "    x_attrs_all = torch.stack(x_attrs)\n",
    "    \n",
    "    X_attrs_max = X_attrs_all.max(axis=0).values\n",
    "    X_attrs_min = X_attrs_all.min(axis=0).values\n",
    "\n",
    "    x_attrs_max = x_attrs_all.max(axis=0).values\n",
    "    x_attrs_min = x_attrs_all.min(axis=0).values\n",
    "\n",
    "    plt.figure(figsize=(11,5))\n",
    "    plt.bar(x_vars_trans, X_attrs_all.mean(0),)\n",
    "    # plt.scatter(x_vars_trans, X_attrs_max, c='k', marker='_')\n",
    "    # plt.scatter(x_vars_trans, X_attrs_min, c='k', marker='_')\n",
    "    # plt.vlines(x_vars_trans, ymin = X_attrs_min, ymax = X_attrs_max, color='k')\n",
    "    plt.savefig( save_path + f'{nm}_X_attrs.png')\n",
    "    \n",
    "    plt.figure()\n",
    "    plt.bar(config.x_features, x_attrs_all.mean(0))\n",
    "    # plt.scatter(config.x_features, x_attrs_max, c='k', marker='_')\n",
    "    # plt.scatter(config.x_features, x_attrs_min, c='k', marker='_')\n",
    "    # plt.vlines(config.x_features, ymin = x_attrs_min, ymax = x_attrs_max, color='k')\n",
    "    plt.savefig(save_path + f'{nm}_x_attrs.png')"
   ]
  },
  {
   "cell_type": "markdown",
   "id": "d77027e2-6925-4838-9b09-abc786c23f1f",
   "metadata": {},
   "source": [
    "# Pixel importance"
   ]
  },
  {
   "cell_type": "code",
   "execution_count": 22,
   "id": "3c2333b8-3591-4a79-9ae4-8c848e284550",
   "metadata": {
    "collapsed": true,
    "jupyter": {
     "outputs_hidden": true
    },
    "tags": []
   },
   "outputs": [
    {
     "name": "stdout",
     "output_type": "stream",
     "text": [
      "tensor([[  0,   1,   2,   3,   4,   5,   6,   7,   8,   9,  10,  11,  12,  13,\n",
      "          14],\n",
      "        [ 15,  16,  17,  18,  19,  20,  21,  22,  23,  24,  25,  26,  27,  28,\n",
      "          29],\n",
      "        [ 30,  31,  32,  33,  34,  35,  36,  37,  38,  39,  40,  41,  42,  43,\n",
      "          44],\n",
      "        [ 45,  46,  47,  48,  49,  50,  51,  52,  53,  54,  55,  56,  57,  58,\n",
      "          59],\n",
      "        [ 60,  61,  62,  63,  64,  65,  66,  67,  68,  69,  70,  71,  72,  73,\n",
      "          74],\n",
      "        [ 75,  76,  77,  78,  79,  80,  81,  82,  83,  84,  85,  86,  87,  88,\n",
      "          89],\n",
      "        [ 90,  91,  92,  93,  94,  95,  96,  97,  98,  99, 100, 101, 102, 103,\n",
      "         104],\n",
      "        [105, 106, 107, 108, 109, 110, 111, 112, 113, 114, 115, 116, 117, 118,\n",
      "         119],\n",
      "        [120, 121, 122, 123, 124, 125, 126, 127, 128, 129, 130, 131, 132, 133,\n",
      "         134],\n",
      "        [135, 136, 137, 138, 139, 140, 141, 142, 143, 144, 145, 146, 147, 148,\n",
      "         149],\n",
      "        [150, 151, 152, 153, 154, 155, 156, 157, 158, 159, 160, 161, 162, 163,\n",
      "         164],\n",
      "        [165, 166, 167, 168, 169, 170, 171, 172, 173, 174, 175, 176, 177, 178,\n",
      "         179],\n",
      "        [180, 181, 182, 183, 184, 185, 186, 187, 188, 189, 190, 191, 192, 193,\n",
      "         194],\n",
      "        [195, 196, 197, 198, 199, 200, 201, 202, 203, 204, 205, 206, 207, 208,\n",
      "         209],\n",
      "        [210, 211, 212, 213, 214, 215, 216, 217, 218, 219, 220, 221, 222, 223,\n",
      "         224]])\n",
      "torch.Size([1, 12, 15, 15]) torch.Size([1, 5])\n"
     ]
    }
   ],
   "source": [
    "patch = torch.arange(0, 15*15).view(15,15)\n",
    "print(patch)\n",
    "X_feature_mask = torch.stack([patch for i in range(len(config.x_vars))]).unsqueeze(0).to(torch.int) # 1 x 12 x 15 x 15\n",
    "x_feature_mask = torch.ones(5).unsqueeze(0).to(torch.int) # 1 x 5\n",
    "feature_mask = (X_feature_mask, x_feature_mask) \n",
    "print(X_feature_mask.shape, x_feature_mask.shape)"
   ]
  },
  {
   "cell_type": "code",
   "execution_count": 23,
   "id": "06687eda-51dd-417e-8873-75e6ba3ab4e8",
   "metadata": {},
   "outputs": [
    {
     "name": "stderr",
     "output_type": "stream",
     "text": [
      "100%|██████████| 19/19 [29:24<00:00, 92.88s/it]\n"
     ]
    }
   ],
   "source": [
    "def feature_importance_dl(dl):\n",
    "    x_attrs = []\n",
    "    X_attrs = []\n",
    "\n",
    "    for X, x, y in tqdm(dl):\n",
    "\n",
    "        X_attr, x_attr = feature_perm.attribute((X,x), feature_mask=feature_mask, additional_forward_args=y)\n",
    "        X_attr_channel = -1*X_attr.mean(dim=1).squeeze()\n",
    "        x_attr = -1*x_attr.squeeze()\n",
    "        x_attrs.append(x_attr)\n",
    "        X_attrs.append(X_attr_channel)\n",
    "    \n",
    "    return X_attrs, x_attrs\n",
    "\n",
    "X_attrs, x_attrs = feature_importance_dl(dl_all)"
   ]
  },
  {
   "cell_type": "code",
   "execution_count": 26,
   "id": "d010b37a-88bb-45c5-9b86-5ed3fe093c4a",
   "metadata": {},
   "outputs": [
    {
     "data": {
      "text/plain": [
       "torch.Size([19, 15, 15])"
      ]
     },
     "execution_count": 26,
     "metadata": {},
     "output_type": "execute_result"
    }
   ],
   "source": [
    "X_attrs_all = torch.stack(X_attrs)\n",
    "x_attrs_all = torch.stack(x_attrs)\n",
    "X_attrs_all.shape"
   ]
  },
  {
   "cell_type": "code",
   "execution_count": 33,
   "id": "1b564f95-4609-4901-97f9-05a99c0e5f94",
   "metadata": {
    "collapsed": true,
    "jupyter": {
     "outputs_hidden": true
    },
    "tags": []
   },
   "outputs": [
    {
     "data": {
      "text/plain": [
       "torch.return_types.max(\n",
       "values=tensor([[ 1.5739e-02,  1.2356e-02, -1.1078e-02, -3.4523e-03,  1.8738e-02,\n",
       "          6.2485e-03, -2.2846e-02, -3.2337e-02, -2.8309e-02, -1.8135e-02,\n",
       "         -1.0933e-02, -1.8124e-02, -4.6806e-03, -3.8029e-02, -2.0344e-02],\n",
       "        [-2.7592e-02,  1.4229e-03, -4.2618e-02,  1.6964e-02, -3.7155e-03,\n",
       "         -4.8409e-03, -4.0565e-02, -4.4521e-02, -6.9427e-02, -4.9110e-02,\n",
       "          1.1768e-02,  2.0382e-02,  1.8570e-02, -1.4339e-02,  2.3842e-03],\n",
       "        [-1.2508e-02, -8.8882e-03,  3.2318e-02,  2.5856e-02,  3.4645e-02,\n",
       "         -1.8120e-03,  1.4084e-02, -5.1029e-02, -4.3106e-02, -2.9709e-02,\n",
       "          3.3115e-02,  2.2537e-02,  4.7749e-02, -6.1073e-03,  5.1346e-03],\n",
       "        [-8.2436e-03,  6.5666e-02,  7.9475e-02,  9.5772e-02,  9.4448e-02,\n",
       "          7.9674e-02,  4.1443e-02, -1.3821e-02, -2.8725e-02, -2.0496e-02,\n",
       "         -1.1814e-02, -6.8665e-03,  2.3048e-02, -1.7258e-02, -3.0136e-03],\n",
       "        [ 1.6491e-02,  5.0739e-02,  1.4506e-01,  9.7157e-02,  1.1847e-01,\n",
       "          6.9244e-02,  7.5500e-02, -3.2021e-02, -5.5847e-02, -5.1727e-03,\n",
       "         -7.5645e-03, -9.2773e-03, -9.1286e-03, -6.6643e-02, -3.2215e-02],\n",
       "        [ 1.7044e-02,  1.2077e-01,  2.1910e-01,  2.1649e-01,  3.5217e-01,\n",
       "          3.9621e-01,  3.7095e-01,  3.7670e-01,  1.6897e-01,  1.7494e-02,\n",
       "          1.3496e-02, -5.7716e-02, -2.1809e-02, -8.2066e-02, -4.8798e-02],\n",
       "        [ 1.1444e-04,  8.2394e-02,  2.6540e-01,  2.1564e-01,  5.4946e-01,\n",
       "          2.3154e-01,  4.3575e-01,  3.1035e-01,  2.0665e-01,  5.6881e-02,\n",
       "         -1.2356e-02, -1.3354e-01, -5.2383e-02, -1.2135e-01, -7.4245e-02],\n",
       "        [-3.0727e-02,  1.2509e-01,  3.0476e-01,  3.1776e-01,  5.9251e-01,\n",
       "          4.8305e-01,  2.6930e+00,  9.3045e+00,  2.2490e+00,  4.2084e-02,\n",
       "          1.7986e-01, -1.9036e-01, -1.6235e-02, -1.2189e-01, -4.6753e-02],\n",
       "        [ 1.7891e-03,  5.4764e-02,  2.3547e-01,  2.1711e-01,  5.9096e-01,\n",
       "          7.4893e-01,  5.0412e+00,  1.5455e+01,  3.1567e+00,  3.2054e-01,\n",
       "          4.2443e-01, -4.6734e-02,  9.6786e-02, -8.7414e-02, -4.6513e-02],\n",
       "        [-2.7775e-02,  8.3107e-02,  1.7029e-01,  1.8181e-01,  3.2574e-01,\n",
       "          3.2999e-01,  1.2657e+00,  1.8861e+00,  1.1596e+00,  5.9467e-01,\n",
       "          1.7192e-01, -8.7509e-02,  7.3471e-03, -8.1696e-02, -4.2412e-02],\n",
       "        [ 1.9455e-03,  8.0219e-02,  1.5411e-01,  1.2336e-01,  4.6890e-02,\n",
       "          1.1432e-01,  2.3828e-01,  2.5019e-01,  3.0908e-01,  4.3365e-01,\n",
       "          2.0626e-02, -6.0661e-02, -2.1729e-02, -5.8231e-02, -2.4281e-02],\n",
       "        [ 3.2082e-02,  1.0331e-01,  1.5615e-01,  1.3243e-01,  1.7450e-01,\n",
       "          1.6906e-01,  3.0222e-01,  1.1170e-01,  2.3134e-01,  2.5420e-01,\n",
       "          1.2273e-01,  2.0229e-02,  3.2616e-02, -3.2394e-02,  1.0735e-02],\n",
       "        [ 4.3221e-03,  5.0549e-02,  7.6275e-02,  4.6162e-02,  1.1528e-01,\n",
       "          1.4120e-01,  4.1077e-02,  1.0611e-01,  1.0637e-01,  7.3296e-02,\n",
       "          7.1011e-02,  1.8372e-02, -3.3012e-02, -4.8935e-02,  1.4591e-02],\n",
       "        [-7.4387e-04,  4.0359e-02,  6.6788e-02,  7.7641e-02,  6.2397e-02,\n",
       "          1.2719e-01,  1.4609e-01,  1.7519e-01,  9.5047e-02,  8.3801e-02,\n",
       "          7.2899e-02,  4.0512e-02,  3.4634e-02, -1.0559e-02,  5.5359e-02],\n",
       "        [-6.0577e-03,  3.1013e-03,  2.5532e-02,  2.7248e-02,  8.7967e-03,\n",
       "         -9.3918e-03,  1.3096e-02,  1.1459e-02,  2.2141e-02, -1.7010e-02,\n",
       "          1.3062e-02, -1.5381e-02,  1.1719e-02,  3.3527e-02,  2.9171e-02]]),\n",
       "indices=tensor([[15,  7,  2, 11, 11, 11,  3,  1,  6, 10, 18, 18, 18, 11,  5],\n",
       "        [ 9, 13,  3,  6, 14, 13, 14, 11, 13,  7,  3, 14,  5, 18, 18],\n",
       "        [15, 13, 13,  6, 12,  8, 10, 14, 13, 18, 11, 13, 12, 18, 17],\n",
       "        [ 8, 13,  2, 14,  8,  8, 13,  8,  6, 11, 11, 18, 13, 10, 18],\n",
       "        [13, 18,  2, 10, 10, 10, 13, 18, 13, 10,  5,  5, 13, 10, 18],\n",
       "        [ 4,  4,  3,  4,  8,  4,  8, 16, 15,  8,  8, 14, 12,  6,  5],\n",
       "        [ 9, 16,  8, 18,  2,  4, 10, 14, 18, 17,  8,  7,  0,  8, 17],\n",
       "        [ 8, 15, 13, 12,  2, 16, 16, 17,  8,  8,  8,  1, 13,  8,  0],\n",
       "        [ 5,  9,  9, 18, 18,  5, 16, 17, 17, 13, 16,  0, 13,  7, 13],\n",
       "        [12, 18,  9,  9,  4, 18, 10, 16, 13, 16,  0,  1,  5,  0, 17],\n",
       "        [18, 18,  9, 18, 18, 18, 15,  6,  1,  0, 12, 12,  5,  6,  0],\n",
       "        [ 1,  2, 18, 18, 18,  8, 17,  8,  8, 10, 12, 14,  4,  2,  0],\n",
       "        [ 1, 18, 18, 18, 18, 18, 18, 18,  8,  4, 12,  2, 18, 11, 13],\n",
       "        [ 1, 18,  4,  4,  0, 18, 18,  9,  0, 18, 18,  4,  4, 17, 17],\n",
       "        [ 6, 12,  5, 18,  5,  5,  9,  4,  4, 11, 11, 11,  5, 18, 14]]))"
      ]
     },
     "execution_count": 33,
     "metadata": {},
     "output_type": "execute_result"
    }
   ],
   "source": [
    "X_attrs_all.max(0)"
   ]
  },
  {
   "cell_type": "code",
   "execution_count": 40,
   "id": "ad91536d-c7a0-4401-b59b-46bb2bff8313",
   "metadata": {},
   "outputs": [
    {
     "data": {
      "text/plain": [
       "tensor(0.2193)"
      ]
     },
     "execution_count": 40,
     "metadata": {},
     "output_type": "execute_result"
    }
   ],
   "source": []
  },
  {
   "cell_type": "code",
   "execution_count": 60,
   "id": "8cc2f913-4869-4adc-bd2e-b8314f559c3c",
   "metadata": {},
   "outputs": [
    {
     "data": {
      "image/png": "[encoded data removed]",
      "text/plain": [
       "<Figure size 700x500 with 2 Axes>"
      ]
     },
     "metadata": {},
     "output_type": "display_data"
    }
   ],
   "source": [
    "plt.figure(figsize=(7,5))\n",
    "plt.imshow(X_attrs_all.mean(dim=0))\n",
    "plt.colorbar(label='Increase in Mean Absolute Error $[W/m^2]$')\n",
    "plt.xlabel('Longitudinal Pixel')\n",
    "_ = plt.xticks(ticks = np.arange(1, 14,2), labels=np.arange(-6, 7, 2))\n",
    "plt.ylabel('Latitudinal Pixel')\n",
    "_ = plt.yticks(ticks = np.arange(1, 14,2), labels=np.arange(-6, 7, 2))\n",
    "plt.savefig(save_path + f'pixels.png')"
   ]
  },
  {
   "cell_type": "markdown",
   "id": "f7b876a1-ee8f-4b09-943a-a8c249aa86df",
   "metadata": {},
   "source": [
    "# testing"
   ]
  },
  {
   "cell_type": "code",
   "execution_count": null,
   "id": "ba40fe3a-aacf-4485-86e1-85e56bc70781",
   "metadata": {},
   "outputs": [],
   "source": [
    "\n",
    "\n",
    "featureab = FeatureAblation(forward_func)\n",
    "                                \n",
    "X_attr, x_attr = featureab.attribute((X,x), feature_mask=feature_mask, additional_forward_args=y)\n",
    "X_attr_channel = X_attr.mean(dim=(2,3)).squeeze()\n"
   ]
  },
  {
   "cell_type": "code",
   "execution_count": null,
   "id": "8b55991e-dcfb-426b-af46-5520467ac7a4",
   "metadata": {},
   "outputs": [],
   "source": [
    "plt.figure(figsize=(11,5))\n",
    "plt.bar(x_vars_trans, X_attr_channel)"
   ]
  },
  {
   "cell_type": "code",
   "execution_count": null,
   "id": "111e67bc-0edd-4d85-a4cf-8bad990a900b",
   "metadata": {},
   "outputs": [],
   "source": [
    "plt.bar(config.x_features, x_attr.squeeze())"
   ]
  },
  {
   "cell_type": "code",
   "execution_count": null,
   "id": "6a71fc34-a43b-489f-89f5-bbc95513318d",
   "metadata": {},
   "outputs": [],
   "source": [
    "def forward_func_grad(X, x, y):\n",
    "    y_hat = estimator(X.cuda(),x.cuda())\n",
    "    y = y.cuda()\n",
    "    loss = metric(y,y_hat)\n",
    "    return loss\n",
    "\n",
    "\n",
    "intgrad = IntegratedGradients(forward_func_grad)"
   ]
  },
  {
   "cell_type": "code",
   "execution_count": null,
   "id": "dcef6b96-e265-46ed-b0bb-25781376b312",
   "metadata": {},
   "outputs": [],
   "source": [
    "dl = DataLoader(TAT, shuffle=False, batch_size=100)\n",
    "for X,x,y in dl:\n",
    "    break\n",
    "\n",
    "intgrad.attribute((X,x),  additional_forward_args=y)"
   ]
  },
  {
   "cell_type": "code",
   "execution_count": null,
   "id": "9efb86e4-72fc-4525-ab77-506c34b9a73e",
   "metadata": {},
   "outputs": [],
   "source": []
  }
 ],
 "metadata": {
  "kernelspec": {
   "display_name": "lightning-kernel2",
   "language": "python",
   "name": "lightning-kernel2"
  },
  "language_info": {
   "codemirror_mode": {
    "name": "ipython",
    "version": 3
   },
   "file_extension": ".py",
   "mimetype": "text/x-python",
   "name": "python",
   "nbconvert_exporter": "python",
   "pygments_lexer": "ipython3",
   "version": "3.9.4"
  }
 },
 "nbformat": 4,
 "nbformat_minor": 5
}
