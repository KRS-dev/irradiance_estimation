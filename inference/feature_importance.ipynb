{
 "cells": [
  {
   "cell_type": "code",
   "execution_count": 1,
   "id": "5c541626-d254-4146-9dbe-491d5a50663b",
   "metadata": {},
   "outputs": [],
   "source": [
    "%load_ext autoreload\n",
    "%autoreload 2"
   ]
  },
  {
   "cell_type": "code",
   "execution_count": 2,
   "id": "2ef2daf4-0d2d-4222-aa70-728bd5e6c7ea",
   "metadata": {},
   "outputs": [],
   "source": [
    "from datetime import datetime\n",
    "from types import SimpleNamespace\n",
    "import os\n",
    "from glob import glob\n",
    "import cartopy.crs as ccrs\n",
    "import cartopy.feature as cfeature\n",
    "import matplotlib.pyplot as plt\n",
    "import matplotlib.colors as colors\n",
    "import numpy as np\n",
    "import torch\n",
    "from torch.utils.data import Dataset, DataLoader, ConcatDataset\n",
    "from torchmetrics import MeanAbsoluteError, MeanSquaredError\n",
    "import xarray\n",
    "import pandas as pd\n",
    "from dataset.dataset import ImageDataset, SingleImageDataset, pickle_write\n",
    "from dataset.normalization import MinMax, ZeroMinMax\n",
    "from dataset.station_dataset import GroundstationDataset, GroundstationDataset2\n",
    "from lightning.pytorch import Trainer\n",
    "from lightning.pytorch.loggers import WandbLogger\n",
    "from models.ConvResNet_Jiang import ConvResNet, ConvResNet_dropout, ConvResNet_batchnormMLP\n",
    "from models.LightningModule import LitEstimator, LitEstimatorPoint\n",
    "from torch.utils.data import DataLoader, Dataset\n",
    "from tqdm import tqdm\n",
    "from utils.plotting import prediction_error_plot, plot_station_scatter\n",
    "from captum.attr import FeaturePermutation, ShapleyValueSampling, IntegratedGradients, FeatureAblation\n",
    "from cartopy.mpl.gridliner import (\n",
    "    LongitudeFormatter,\n",
    "    LatitudeFormatter,\n",
    "    LongitudeLocator,\n",
    "    LatitudeLocator,\n",
    ")\n",
    "plt.rcParams['text.usetex'] = False"
   ]
  },
  {
   "cell_type": "code",
   "execution_count": 3,
   "id": "d8d96ca4-bb68-4402-b90c-92fa5030037c",
   "metadata": {},
   "outputs": [],
   "source": [
    "config = {\n",
    "    \"batch_size\": 2048,\n",
    "    \"patch_size\": {\n",
    "        \"x\": 15,\n",
    "        \"y\": 15,\n",
    "        \"stride_x\": 1,\n",
    "        \"stride_y\": 1,\n",
    "    },\n",
    "    \"x_vars\": [\n",
    "        \"channel_1\",\n",
    "        \"channel_2\",\n",
    "        \"channel_3\",\n",
    "        \"channel_4\",\n",
    "        \"channel_5\",\n",
    "        \"channel_6\",\n",
    "        \"channel_7\",\n",
    "        \"channel_8\",\n",
    "        \"channel_9\",\n",
    "        \"channel_10\",\n",
    "        \"channel_11\",\n",
    "        \"DEM\",\n",
    "    ],\n",
    "    \"y_vars\": [\"SIS\"],\n",
    "    \"x_features\": [\"dayofyear\", \"lat\", \"lon\", \"SZA\", \"AZI\"],\n",
    "    \"transform\": ZeroMinMax(),\n",
    "    \"target_transform\": ZeroMinMax(),\n",
    "}\n",
    "config = SimpleNamespace(**config)\n",
    "\n",
    "trans = {\n",
    "            \"VIS006\": \"channel_1\",\n",
    "            \"VIS008\": \"channel_2\",\n",
    "            \"IR_016\": \"channel_3\",\n",
    "            \"IR_039\": \"channel_4\",\n",
    "            \"WV_062\": \"channel_5\",\n",
    "            \"WV_073\": \"channel_6\",\n",
    "            \"IR_087\": \"channel_7\",\n",
    "            \"IR_097\": \"channel_8\",\n",
    "            \"IR_108\": \"channel_9\",\n",
    "            \"IR_120\": \"channel_10\",\n",
    "            \"IR_134\": \"channel_11\",\n",
    "            \"DEM\":\"DEM\",\n",
    "}\n",
    "\n",
    "inv_trans = {v: k for k, v in trans.items()}\n",
    "x_vars_trans = [inv_trans[nm] for nm in config.x_vars]"
   ]
  },
  {
   "cell_type": "code",
   "execution_count": 4,
   "id": "f01ba730-a34e-44da-9e40-9da2fece90d6",
   "metadata": {
    "tags": []
   },
   "outputs": [
    {
     "name": "stdout",
     "output_type": "stream",
     "text": [
      "4nbyae30\n"
     ]
    },
    {
     "name": "stderr",
     "output_type": "stream",
     "text": [
      "/scratch/snx3000/kschuurm/lightning-env/lib/python3.9/site-packages/lightning/pytorch/utilities/parsing.py:199: Attribute 'metric' is an instance of `nn.Module` and is already saved during checkpointing. It is recommended to ignore them using `self.save_hyperparameters(ignore=['metric'])`.\n"
     ]
    }
   ],
   "source": [
    "\n",
    "\n",
    "chkpt_fn = '/scratch/snx3000/kschuurm/irradiance_estimation/train/SIS_point_estimation/4nbyae30/checkpoints/epoch=5-val_loss=0.01038.ckpt'# SARAH3 emulator\n",
    "# chkpt_fn = '../train/SIS_point_estimation_groundstation/pl86of1b/checkpoints/epoch=4-val_loss=0.01630.ckpt' # finetuned on 80 DWD groundstations\n",
    "# chkpt_fn = '../train/SIS_point_estimation_groundstation/groundstations_only/checkpoints/epoch=10-val_loss=0.01703.ckpt' # trained only on 80 DWD groundstations\n",
    "\n",
    "inference_fn = chkpt_fn.split('checkpoints')[0] + 'inference/'\n",
    "run_id = chkpt_fn.split('/checkpoints')[0].split('/')[-1]\n",
    "if not os.path.exists(inference_fn):\n",
    "    os.mkdir(inference_fn)\n",
    "\n",
    "model = ConvResNet_batchnormMLP(\n",
    "    num_attr=len(config.x_features),\n",
    "    input_channels=len(config.x_vars),\n",
    "    output_channels=len(config.y_vars),\n",
    ")\n",
    "\n",
    "estimator = LitEstimatorPoint.load_from_checkpoint(\n",
    "    chkpt_fn,\n",
    "    learning_rate=0.001,\n",
    "    model=model,\n",
    "    config=config,\n",
    ")\n",
    "estimator.eval()\n",
    "print(run_id)\n",
    "save_path = f'feature_importance/{run_id}/'\n",
    "if not os.path.exists(save_path):\n",
    "    os.mkdir(save_path)"
   ]
  },
  {
   "cell_type": "code",
   "execution_count": 5,
   "id": "8f81cb29-357f-4624-9218-ffff85d581a3",
   "metadata": {},
   "outputs": [
    {
     "name": "stderr",
     "output_type": "stream",
     "text": [
      "100%|██████████| 14/14 [01:22<00:00,  5.90s/it]\n"
     ]
    }
   ],
   "source": [
    "def get_gsdataset(fn):\n",
    "    return GroundstationDataset2(fn, config.y_vars, config.x_vars, config.x_features, config.patch_size['x'], \n",
    "                                   config.transform, config.target_transform, sarah_idx_only=True)\n",
    "\n",
    "\n",
    "# TAT_fn = '../../ZARR/IEA_PVPS/IEA_PVPS-TAT.zarr'\n",
    "# CAB_fn = '../../ZARR/IEA_PVPS/IEA_PVPS-CAB.zarr'\n",
    "# TAT = get_gsdataset(TAT_fn)\n",
    "# CAB = get_gsdataset(CAB_fn)\n",
    "\n",
    "bsrn_fns = glob('../../ZARR/IEA_PVPS/IEA_PVPS-*.zarr')\n",
    "bsrn_datasets = {fn.split('PVPS-')[-1].replace('.zarr', ''):get_gsdataset(fn) for fn in tqdm(bsrn_fns)}\n",
    "bsrn_dataset_all = ConcatDataset(bsrn_datasets.values())\n"
   ]
  },
  {
   "cell_type": "code",
   "execution_count": 6,
   "id": "36ad03a1-48fe-4d2a-bd45-a3cec2b45a87",
   "metadata": {},
   "outputs": [],
   "source": [
    "dl_all = DataLoader(bsrn_dataset_all, shuffle=True, batch_size=20000)\n"
   ]
  },
  {
   "cell_type": "code",
   "execution_count": 7,
   "id": "c716aabc-b031-4f09-86e6-b29a13f02854",
   "metadata": {},
   "outputs": [],
   "source": [
    "\n",
    "patch = torch.ones((15,15))\n",
    "X_feature_mask = torch.stack([patch *i for i in range(len(config.x_vars))]).unsqueeze(0).to(torch.int) # 1 x 12 x 15 x 15\n",
    "x_feature_mask = torch.tensor(range(len(config.x_features))).unsqueeze(0).to(torch.int) # 1 x 5\n",
    "feature_mask = (X_feature_mask, x_feature_mask) "
   ]
  },
  {
   "cell_type": "code",
   "execution_count": 24,
   "id": "0856ba61-e9fa-4787-88b8-09adaef0986a",
   "metadata": {},
   "outputs": [],
   "source": [
    "\n",
    "# metric = MeanSquaredError().cuda()\n",
    "metric = MeanAbsoluteError().cuda()\n",
    "\n",
    "@torch.no_grad()\n",
    "def forward_func(X, x, y):\n",
    "    y_hat = estimator(X.cuda(),x.cuda())\n",
    "    y = y.cuda()\n",
    "    y_hat = config.transform.inverse(y_hat, ['SIS'])\n",
    "    y = config.transform.inverse(y, ['SIS'])\n",
    "    loss = metric(y,y_hat)\n",
    "    # prediction_error_plot(config.transform.inverse(y, ['SIS']),config.transform.inverse(y_hat, ['SIS']))\n",
    "    # print(loss)\n",
    "    return loss\n",
    "\n",
    "feature_perm = FeaturePermutation(forward_func)\n",
    "\n",
    "# for X,x,y in dl:\n",
    "#     forward_func(X,x,y)"
   ]
  },
  {
   "cell_type": "code",
   "execution_count": 25,
   "id": "10ee2708-4882-4677-9b12-7c860c84dee7",
   "metadata": {
    "tags": []
   },
   "outputs": [
    {
     "name": "stderr",
     "output_type": "stream",
     "text": [
      "100%|██████████| 12/12 [05:55<00:00, 29.66s/it]\n"
     ]
    }
   ],
   "source": [
    "def feature_importance_dl(dl):\n",
    "    x_attrs = []\n",
    "    X_attrs = []\n",
    "\n",
    "    for X, x, y in tqdm(dl):\n",
    "\n",
    "        X_attr, x_attr = feature_perm.attribute((X,x), feature_mask=feature_mask, additional_forward_args=y)\n",
    "        X_attr_channel = -1*X_attr.mean(dim=(2,3)).squeeze()\n",
    "        x_attr = -1*x_attr.squeeze()\n",
    "        x_attrs.append(x_attr)\n",
    "        X_attrs.append(X_attr_channel)\n",
    "    \n",
    "    return X_attrs, x_attrs\n",
    "\n",
    "X_attrs, x_attrs = feature_importance_dl(dl_all)\n"
   ]
  },
  {
   "cell_type": "code",
   "execution_count": 26,
   "id": "78c3c9ac-5fea-4b95-be35-9084127cd50b",
   "metadata": {},
   "outputs": [],
   "source": [
    "X_attrs_all = torch.stack(X_attrs)\n",
    "x_attrs_all = torch.stack(x_attrs)"
   ]
  },
  {
   "cell_type": "code",
   "execution_count": null,
   "id": "44fbbb07-4f60-40bf-ac24-636ebe1a6d4a",
   "metadata": {},
   "outputs": [],
   "source": [
    "X_attrs_max = X_attrs_all.max(axis=0).values\n",
    "X_attrs_min = X_attrs_all.min(axis=0).values\n",
    "\n",
    "x_attrs_max = x_attrs_all.max(axis=0).values\n",
    "x_attrs_min = x_attrs_all.min(axis=0).values\n",
    "\n",
    "X_attrs_all_watt = X_attrs_all.mean(0)\n",
    "\n",
    "plt.figure(figsize=(11,5))\n",
    "plt.bar(x_vars_trans, X_attrs_all_watt)\n",
    "plt.ylabel('Increase in Mean Absolute Error $[w/m^2]$', fontsize=12)\n",
    "# plt.errorbar(x_vars_trans, X_attrs_all.mean(0), yerr=torch.stack((X_attrs_max, X_attrs_min)),  fmt='.', color='Black', elinewidth=2,capthick=2,errorevery=1, alpha=0.5, ms=4, capsize = 2)\n",
    "# plt.scatter(x_vars_trans, X_attrs_max, c='k', marker='_')\n",
    "# plt.scatter(x_vars_trans, X_attrs_min, c='k', marker='_')\n",
    "# plt.vlines(x_vars_trans, ymin = X_attrs_min, ymax = X_attrs_max, color='k')\n",
    "\n",
    "plt.savefig( save_path + 'X_attrs.png')"
   ]
  },
  {
   "cell_type": "code",
   "execution_count": 12,
   "id": "c0b170d5-ffb6-4af1-8011-0d30226e5601",
   "metadata": {},
   "outputs": [
    {
     "data": {
      "image/png": "[encoded data removed]",
      "text/plain": [
       "<Figure size 640x480 with 1 Axes>"
      ]
     },
     "metadata": {},
     "output_type": "display_data"
    }
   ],
   "source": [
    "plt.bar(config.x_features, x_attrs_all.mean(0))\n",
    "# plt.scatter(config.x_features, x_attrs_max, c='k', marker='_')\n",
    "# plt.scatter(config.x_features, x_attrs_min, c='k', marker='_')\n",
    "# plt.vlines(config.x_features, ymin = x_attrs_min, ymax = x_attrs_max, color='k')\n",
    "# # plt.ylim([0,0.01])\n",
    "plt.savefig(save_path + 'x_attrs.png')"
   ]
  },
  {
   "cell_type": "code",
   "execution_count": null,
   "id": "1e6eb2c8-1d34-4d56-ab57-7ea956784350",
   "metadata": {
    "tags": []
   },
   "outputs": [],
   "source": [
    "for nm, ds in bsrn_datasets.items():\n",
    "    \n",
    "    dl = DataLoader(ds, shuffle=False, batch_size=10000)\n",
    "    X_attrs, x_attrs = feature_importance_dl(dl)\n",
    "    \n",
    "    X_attrs_all = torch.stack(X_attrs)\n",
    "    x_attrs_all = torch.stack(x_attrs)\n",
    "    \n",
    "    X_attrs_max = X_attrs_all.max(axis=0).values\n",
    "    X_attrs_min = X_attrs_all.min(axis=0).values\n",
    "\n",
    "    x_attrs_max = x_attrs_all.max(axis=0).values\n",
    "    x_attrs_min = x_attrs_all.min(axis=0).values\n",
    "\n",
    "    plt.figure(figsize=(11,5))\n",
    "    plt.bar(x_vars_trans, X_attrs_all.mean(0),)\n",
    "    # plt.scatter(x_vars_trans, X_attrs_max, c='k', marker='_')\n",
    "    # plt.scatter(x_vars_trans, X_attrs_min, c='k', marker='_')\n",
    "    # plt.vlines(x_vars_trans, ymin = X_attrs_min, ymax = X_attrs_max, color='k')\n",
    "    plt.savefig( save_path + f'{nm}_X_attrs.png')\n",
    "    \n",
    "    plt.figure()\n",
    "    plt.bar(config.x_features, x_attrs_all.mean(0))\n",
    "    # plt.scatter(config.x_features, x_attrs_max, c='k', marker='_')\n",
    "    # plt.scatter(config.x_features, x_attrs_min, c='k', marker='_')\n",
    "    # plt.vlines(config.x_features, ymin = x_attrs_min, ymax = x_attrs_max, color='k')\n",
    "    plt.savefig(save_path + f'{nm}_x_attrs.png')"
   ]
  },
  {
   "cell_type": "code",
   "execution_count": null,
   "id": "ba40fe3a-aacf-4485-86e1-85e56bc70781",
   "metadata": {},
   "outputs": [],
   "source": [
    "\n",
    "\n",
    "featureab = FeatureAblation(forward_func)\n",
    "                                \n",
    "X_attr, x_attr = featureab.attribute((X,x), feature_mask=feature_mask, additional_forward_args=y)\n",
    "X_attr_channel = X_attr.mean(dim=(2,3)).squeeze()\n"
   ]
  },
  {
   "cell_type": "code",
   "execution_count": null,
   "id": "8b55991e-dcfb-426b-af46-5520467ac7a4",
   "metadata": {},
   "outputs": [],
   "source": [
    "plt.figure(figsize=(11,5))\n",
    "plt.bar(x_vars_trans, X_attr_channel)"
   ]
  },
  {
   "cell_type": "code",
   "execution_count": null,
   "id": "111e67bc-0edd-4d85-a4cf-8bad990a900b",
   "metadata": {},
   "outputs": [],
   "source": [
    "plt.bar(config.x_features, x_attr.squeeze())"
   ]
  },
  {
   "cell_type": "code",
   "execution_count": null,
   "id": "6a71fc34-a43b-489f-89f5-bbc95513318d",
   "metadata": {},
   "outputs": [],
   "source": [
    "def forward_func_grad(X, x, y):\n",
    "    y_hat = estimator(X.cuda(),x.cuda())\n",
    "    y = y.cuda()\n",
    "    loss = metric(y,y_hat)\n",
    "    return loss\n",
    "\n",
    "\n",
    "intgrad = IntegratedGradients(forward_func_grad)"
   ]
  },
  {
   "cell_type": "code",
   "execution_count": null,
   "id": "dcef6b96-e265-46ed-b0bb-25781376b312",
   "metadata": {},
   "outputs": [],
   "source": [
    "dl = DataLoader(TAT, shuffle=False, batch_size=100)\n",
    "for X,x,y in dl:\n",
    "    break\n",
    "\n",
    "intgrad.attribute((X,x),  additional_forward_args=y)"
   ]
  },
  {
   "cell_type": "code",
   "execution_count": null,
   "id": "9efb86e4-72fc-4525-ab77-506c34b9a73e",
   "metadata": {},
   "outputs": [],
   "source": []
  }
 ],
 "metadata": {
  "kernelspec": {
   "display_name": "lightning-kernel2",
   "language": "python",
   "name": "lightning-kernel2"
  },
  "language_info": {
   "codemirror_mode": {
    "name": "ipython",
    "version": 3
   },
   "file_extension": ".py",
   "mimetype": "text/x-python",
   "name": "python",
   "nbconvert_exporter": "python",
   "pygments_lexer": "ipython3",
   "version": "3.9.4"
  }
 },
 "nbformat": 4,
 "nbformat_minor": 5
}
