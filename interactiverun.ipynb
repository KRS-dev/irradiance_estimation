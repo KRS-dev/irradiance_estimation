{
 "cells": [
  {
   "cell_type": "code",
   "execution_count": 1,
   "id": "99461618-6eb0-49dd-8b34-34f8ec26c3bb",
   "metadata": {},
   "outputs": [],
   "source": [
    "%load_ext autoreload\n",
    "%autoreload 2"
   ]
  },
  {
   "cell_type": "code",
   "execution_count": 2,
   "id": "93303cbd-8849-49ba-9117-98b3c66d28de",
   "metadata": {},
   "outputs": [],
   "source": [
    "import torch, wandb\n",
    "from pytorch_lightning import Trainer\n",
    "from pytorch_lightning.loggers import WandbLogger\n",
    "\n",
    "\n",
    "from dataset.dataset import MSGDataModule\n",
    "from models.FNO import FNO2d\n",
    "from models.LightningModule import LitEstimator\n",
    "\n",
    "# from pytorch_lightning.pytorch.callbacks import DeviceStatsMonitor\n",
    "from train import config\n",
    "from utils.plotting import best_worst_plot, prediction_error_plot"
   ]
  },
  {
   "cell_type": "code",
   "execution_count": 10,
   "id": "c9859da5-703b-4ac7-81ff-2f38657c7089",
   "metadata": {},
   "outputs": [
    {
     "name": "stderr",
     "output_type": "stream",
     "text": [
      "/scratch/snx3000/kschuurm/pytorch/lib/python3.9/site-packages/pytorch_lightning/utilities/parsing.py:198: Attribute 'model' is an instance of `nn.Module` and is already saved during checkpointing. It is recommended to ignore them using `self.save_hyperparameters(ignore=['model'])`.\n"
     ]
    }
   ],
   "source": [
    "# wandb_logger = WandbLogger(project=\"SIS_estimation\")\n",
    "dm = MSGDataModule(\n",
    "    batch_size=config.BATCH_SIZE,\n",
    "    num_workers=config.NUM_WORKERS,\n",
    "    patch_size=config.INPUT_SIZE,\n",
    ")\n",
    "\n",
    "model = FNO2d(\n",
    "    modes=(16, 16),\n",
    "    input_channels=config.INPUT_CHANNELS,\n",
    "    output_channels=config.OUTPUT_CHANNELS,\n",
    "    channels=10,\n",
    ")\n",
    "\n",
    "estimator = LitEstimator(\n",
    "    model=model,\n",
    "    learning_rate=config.LEARNING_RATE,\n",
    "    dm=dm,\n",
    ")"
   ]
  },
  {
   "cell_type": "code",
   "execution_count": 11,
   "id": "6b284201-990f-4e30-bd8a-9d1001ae5ea6",
   "metadata": {},
   "outputs": [
    {
     "name": "stderr",
     "output_type": "stream",
     "text": [
      "/scratch/snx3000/kschuurm/pytorch/lib/python3.9/site-packages/lightning_fabric/plugins/environments/slurm.py:191: The `srun` command is available on your system but is not used. HINT: If your intention is to run Lightning on SLURM, prepend your python command with `srun` like so: srun python /scratch/snx3000/kschuurm/pytorch/lib/python3.9/site ...\n",
      "GPU available: True (cuda), used: True\n",
      "TPU available: False, using: 0 TPU cores\n",
      "IPU available: False, using: 0 IPUs\n",
      "HPU available: False, using: 0 HPUs\n"
     ]
    }
   ],
   "source": [
    "wandb_logger = WandbLogger(project=\"SIS_estimation\")\n",
    "\n",
    "trainer = Trainer(\n",
    "    profiler=\"simple\",\n",
    "    # fast_dev_run=True,\n",
    "    # callbacks=[DeviceStatsMonitor(cpu_stats=true)]\n",
    "    num_sanity_val_steps=2,\n",
    "    logger=wandb_logger,\n",
    "    accelerator=config.ACCELERATOR,\n",
    "    devices=config.DEVICES,\n",
    "    min_epochs=config.MIN_EPOCHS,\n",
    "    max_epochs=config.MAX_EPOCHS,\n",
    "    precision=config.PRECISION,\n",
    "    log_every_n_steps=200,\n",
    ")"
   ]
  },
  {
   "cell_type": "code",
   "execution_count": null,
   "id": "85d828f4-eccc-4976-b06f-417525c3946d",
   "metadata": {},
   "outputs": [
    {
     "name": "stderr",
     "output_type": "stream",
     "text": [
      "/scratch/snx3000/kschuurm/pytorch/lib/python3.9/site-packages/lightning_fabric/plugins/environments/slurm.py:191: The `srun` command is available on your system but is not used. HINT: If your intention is to run Lightning on SLURM, prepend your python command with `srun` like so: srun python /scratch/snx3000/kschuurm/pytorch/lib/python3.9/site ...\n",
      "LOCAL_RANK: 0 - CUDA_VISIBLE_DEVICES: [0]\n",
      "\n",
      "  | Name   | Type                 | Params\n",
      "------------------------------------------------\n",
      "0 | model  | FNO2d                | 104 K \n",
      "1 | metric | RelativeSquaredError | 0     \n",
      "------------------------------------------------\n",
      "104 K     Trainable params\n",
      "0         Non-trainable params\n",
      "104 K     Total params\n",
      "0.418     Total estimated model params size (MB)\n"
     ]
    },
    {
     "data": {
      "application/vnd.jupyter.widget-view+json": {
       "model_id": "",
       "version_major": 2,
       "version_minor": 0
      },
      "text/plain": [
       "Sanity Checking: |          | 0/? [00:00<?, ?it/s]"
      ]
     },
     "metadata": {},
     "output_type": "display_data"
    },
    {
     "data": {
      "application/vnd.jupyter.widget-view+json": {
       "model_id": "10d6588869684a37809e8c48c4550ba2",
       "version_major": 2,
       "version_minor": 0
      },
      "text/plain": [
       "Training: |          | 0/? [00:00<?, ?it/s]"
      ]
     },
     "metadata": {},
     "output_type": "display_data"
    },
    {
     "data": {
      "application/vnd.jupyter.widget-view+json": {
       "model_id": "",
       "version_major": 2,
       "version_minor": 0
      },
      "text/plain": [
       "Validation: |          | 0/? [00:00<?, ?it/s]"
      ]
     },
     "metadata": {},
     "output_type": "display_data"
    },
    {
     "data": {
      "application/vnd.jupyter.widget-view+json": {
       "model_id": "",
       "version_major": 2,
       "version_minor": 0
      },
      "text/plain": [
       "Validation: |          | 0/? [00:00<?, ?it/s]"
      ]
     },
     "metadata": {},
     "output_type": "display_data"
    },
    {
     "data": {
      "application/vnd.jupyter.widget-view+json": {
       "model_id": "",
       "version_major": 2,
       "version_minor": 0
      },
      "text/plain": [
       "Validation: |          | 0/? [00:00<?, ?it/s]"
      ]
     },
     "metadata": {},
     "output_type": "display_data"
    },
    {
     "data": {
      "application/vnd.jupyter.widget-view+json": {
       "model_id": "",
       "version_major": 2,
       "version_minor": 0
      },
      "text/plain": [
       "Validation: |          | 0/? [00:00<?, ?it/s]"
      ]
     },
     "metadata": {},
     "output_type": "display_data"
    },
    {
     "data": {
      "application/vnd.jupyter.widget-view+json": {
       "model_id": "",
       "version_major": 2,
       "version_minor": 0
      },
      "text/plain": [
       "Validation: |          | 0/? [00:00<?, ?it/s]"
      ]
     },
     "metadata": {},
     "output_type": "display_data"
    },
    {
     "data": {
      "application/vnd.jupyter.widget-view+json": {
       "model_id": "7912a9f281ad4d26b71e36e1177d2bac",
       "version_major": 2,
       "version_minor": 0
      },
      "text/plain": [
       "Validation: |          | 0/? [00:00<?, ?it/s]"
      ]
     },
     "metadata": {},
     "output_type": "display_data"
    }
   ],
   "source": [
    "trainer.fit(model=estimator, train_dataloaders=dm)"
   ]
  },
  {
   "cell_type": "code",
   "execution_count": null,
   "id": "d5929640-e2b8-4859-81f1-4aa6c643cbb2",
   "metadata": {},
   "outputs": [],
   "source": [
    "\n",
    "y_hat, y = trainer.predict(model = estimator, dataloaders=dm.val_dataloader())[0]\n",
    "error = torch.mean((y-y_hat)**2/y**2, dim=(1,2))\n",
    "idxmin = error.argmin()\n",
    "idxmax = error.argmax()\n",
    "idxminbatch = int(torch.floor(idxmin/dm.batch_size))\n",
    "idxmaxbatch = int(torch.floor(idxmax/dm.batch_size))\n"
   ]
  },
  {
   "cell_type": "code",
   "execution_count": null,
   "id": "168988a5-70d8-4698-aa4f-a18212fc3f9d",
   "metadata": {},
   "outputs": [],
   "source": [
    "_, y_array = dm.val_dataset.get_xarray_batch(idxminbatch)\n",
    "fig1 = best_worst_plot(y_array.isel(sample=int(idxmin % dm.batch_size)), \n",
    "                      y_hat[idxmin, :, :], \n",
    "                      loss=error[idxmin], \n",
    "                      metric='RelativeSquaredError',\n",
    "                     best=True)\n",
    "\n",
    "_, y_array = dm.val_dataset.get_xarray_batch(idxmaxbatch)\n",
    "fig2 = best_worst_plot(y_array.isel(sample=int(idxmax % dm.batch_size)), \n",
    "                      y_hat[idxmin, :, :], \n",
    "                      loss=error[idxmax].numpy(), \n",
    "                      metric='RelativeSquaredError',\n",
    "                     best=False)\n",
    "\n",
    "trainer.logger.log_image(key='Best patch', images=[fig1])\n",
    "trainer.logger.log_image(key='Worst patch', images=[fig2])\n"
   ]
  },
  {
   "cell_type": "code",
   "execution_count": null,
   "id": "1ca43c8b-f1b9-41e3-ab36-8f8f02d920ad",
   "metadata": {},
   "outputs": [],
   "source": [
    "fig3 = prediction_error_plot(y, y_hat)\n",
    "trainer.logger.log_image(key='Prediction error', images=[fig3])"
   ]
  },
  {
   "cell_type": "code",
   "execution_count": null,
   "id": "7879da33-0615-4efc-86b6-6da8fb293a35",
   "metadata": {},
   "outputs": [],
   "source": []
  }
 ],
 "metadata": {
  "kernelspec": {
   "display_name": "pytorch",
   "language": "python",
   "name": "pytorch"
  },
  "language_info": {
   "codemirror_mode": {
    "name": "ipython",
    "version": 3
   },
   "file_extension": ".py",
   "mimetype": "text/x-python",
   "name": "python",
   "nbconvert_exporter": "python",
   "pygments_lexer": "ipython3",
   "version": "3.9.4"
  }
 },
 "nbformat": 4,
 "nbformat_minor": 5
}
