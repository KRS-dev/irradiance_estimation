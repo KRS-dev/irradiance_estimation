{
 "cells": [
  {
   "cell_type": "code",
   "execution_count": 1,
   "id": "f2691041-3243-46e7-bfba-6edb282162a2",
   "metadata": {},
   "outputs": [],
   "source": [
    "%load_ext autoreload\n",
    "%autoreload 2"
   ]
  },
  {
   "cell_type": "code",
   "execution_count": 2,
   "id": "07034a80-e7dd-4ffd-9788-1e7128e43d31",
   "metadata": {},
   "outputs": [],
   "source": [
    "from lightning.pytorch import Trainer\n",
    "from lightning.pytorch.loggers import WandbLogger\n",
    "from dataset.dataset import MSGDataModule, MSGDataModulePoint\n",
    "from models.ConvResNet_Jiang import ConvResNet\n",
    "from models.LightningModule import LitEstimator, LitEstimatorPoint\n",
    "from dataset.normalization import MinMax"
   ]
  },
  {
   "cell_type": "code",
   "execution_count": null,
   "id": "8f31972d-d6e3-4232-b8d7-50d5024eabe1",
   "metadata": {},
   "outputs": [],
   "source": [
    "ckpt_fn = './SIS_point_estimation/cka0io2y/checkpoints/epoch=29-step=39597.ckpt'\n",
    "\n",
    "\n",
    "dm = MSGDataModulePoint(\n",
    "        batch_size=512,\n",
    "        # num_workers=12,\n",
    "        patch_size=(15,15),\n",
    "        input_overlap=None,\n",
    "        x_vars=['channel_1'],\n",
    "        y_vars=['SIS'],\n",
    "        transform=MinMax(),\n",
    "        target_transform=MinMax(),\n",
    "    )\n",
    "dm.setup('fit')\n"
   ]
  },
  {
   "cell_type": "code",
   "execution_count": null,
   "id": "fed2dc38-a09a-4722-a7e5-c68d07589905",
   "metadata": {},
   "outputs": [],
   "source": [
    "for x in dm.val_dataset[0]:\n",
    "    print(x.shape)"
   ]
  },
  {
   "cell_type": "code",
   "execution_count": null,
   "id": "67ed6f6b-1701-4465-9d76-31f1303c88ec",
   "metadata": {},
   "outputs": [],
   "source": [
    "\n",
    "# estimator = LitEstimator()\n",
    "trainer = Trainer(\n",
    "    # num_sanity_val_steps=2,\n",
    "    accelerator='gpu',\n",
    "    devices=-1,\n",
    "    precision=32,\n",
    "    # log_every_n_steps=200,\n",
    "    # strategy=\n",
    ")\n",
    "estimator = LitEstimatorPoint.load_from_checkpoint(ckpt_fn)#, model=ConvResNet(5,1), dm=dm)\n"
   ]
  },
  {
   "cell_type": "code",
   "execution_count": null,
   "id": "c1b2b546-6a7b-4aff-9d57-6d9d0740f027",
   "metadata": {},
   "outputs": [],
   "source": [
    "trainer.predict(estimator, dataloaders=dm.val_dataloader())\n"
   ]
  },
  {
   "cell_type": "code",
   "execution_count": null,
   "id": "f0e861fa-6659-4429-83ce-3e2f43c44c5e",
   "metadata": {},
   "outputs": [],
   "source": [
    "estimator."
   ]
  },
  {
   "cell_type": "code",
   "execution_count": null,
   "id": "6a54e4e2-bcce-489e-bc31-ed4db816ba68",
   "metadata": {},
   "outputs": [],
   "source": []
  }
 ],
 "metadata": {
  "kernelspec": {
   "display_name": "pytorch",
   "language": "python",
   "name": "pytorch"
  },
  "language_info": {
   "codemirror_mode": {
    "name": "ipython",
    "version": 3
   },
   "file_extension": ".py",
   "mimetype": "text/x-python",
   "name": "python",
   "nbconvert_exporter": "python",
   "pygments_lexer": "ipython3",
   "version": "3.9.4"
  }
 },
 "nbformat": 4,
 "nbformat_minor": 5
}
