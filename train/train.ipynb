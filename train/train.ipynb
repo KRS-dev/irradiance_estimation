{
 "cells": [
  {
   "cell_type": "code",
   "execution_count": 1,
   "metadata": {},
   "outputs": [],
   "source": [
    "%load_ext autoreload\n",
    "%autoreload 2\n",
    "import torch\n",
    "import wandb\n",
    "from dataset.dataset import ImageDataset\n",
    "from dataset.normalization import MinMax\n",
    "from dataset.filters import sza_filter_95\n",
    "from models.ConvResNet_Jiang import ConvResNet\n",
    "from models.LightningModule import LitEstimator, LitEstimatorPoint\n",
    "from lightning.pytorch import Trainer\n",
    "from lightning.pytorch.loggers import WandbLogger\n",
    "from lightning.pytorch.plugins.environments import SLURMEnvironment\n",
    "from lightning.pytorch.utilities import rank_zero_only\n",
    "from tqdm import tqdm\n",
    "\n",
    "# from pytorch_lightning.pytorch.callbacks import DeviceStatsMonitor\n",
    "from utils.plotting import best_worst_plot, prediction_error_plot\n",
    "\n",
    "\n"
   ]
  },
  {
   "cell_type": "code",
   "execution_count": 2,
   "metadata": {},
   "outputs": [],
   "source": [
    "from types import SimpleNamespace\n",
    "config = {\n",
    "    \"batch_size\": 4096,\n",
    "    \"patch_size\": {'x':15, \n",
    "                   'y':15,\n",
    "                   'stride_x':1,\n",
    "                   'stride_y':1,\n",
    "                  },\n",
    "    \"x_vars\": [\n",
    "        \"channel_1\",\n",
    "        \"channel_2\",\n",
    "        \"channel_3\",\n",
    "        \"channel_4\",\n",
    "        \"channel_5\",\n",
    "        \"channel_6\",\n",
    "        \"channel_7\",\n",
    "        \"channel_8\",\n",
    "        \"channel_9\",\n",
    "        \"channel_10\",\n",
    "        \"channel_11\",\n",
    "        \"DEM\"\n",
    "    ],\n",
    "    \"y_vars\": [\"SIS\", \"CAL\", \"SID\"],\n",
    "    \"x_features\": [\"dayofyear\", \"lat\", \"lon\", \"SZA\", \"AZI\"],\n",
    "    \"transform\": MinMax(),\n",
    "    \"target_transform\": MinMax(),\n",
    "}\n",
    "config = SimpleNamespace(**config)"
   ]
  },
  {
   "cell_type": "code",
   "execution_count": 4,
   "metadata": {},
   "outputs": [
    {
     "name": "stdout",
     "output_type": "stream",
     "text": [
      "pre dropna 35966\n",
      "dropna 18348\n",
      "pre dropna 35040\n",
      "dropna 10111\n"
     ]
    }
   ],
   "source": [
    "dataset = ImageDataset(\n",
    "    x_vars=config.x_vars,\n",
    "    y_vars=config.y_vars,\n",
    "    x_features=config.x_features,\n",
    "    patch_size=config.patch_size,\n",
    "    transform=config.transform,\n",
    "    target_transform=config.target_transform,\n",
    ")\n",
    "\n",
    "model = ConvResNet(\n",
    "    num_attr=len(config.x_features), \n",
    "    input_channels=len(config.x_vars),\n",
    "    output_channels=len(config.y_vars)\n",
    "    )\n",
    "\n",
    "dataloader= torch.utils.data.DataLoader(dataset, batch_size=config.batch_size,\n",
    "                        shuffle=False, num_workers=0)\n",
    "    \n"
   ]
  },
  {
   "cell_type": "code",
   "execution_count": 5,
   "metadata": {},
   "outputs": [
    {
     "name": "stderr",
     "output_type": "stream",
     "text": [
      "/scratch/snx3000/kschuurm/pytorch/lib/python3.9/site-packages/lightning/fabric/plugins/environments/slurm.py:191: The `srun` command is available on your system but is not used. HINT: If your intention is to run Lightning on SLURM, prepend your python command with `srun` like so: srun python /scratch/snx3000/kschuurm/pytorch/lib/python3.9/site ...\n",
      "GPU available: True (cuda), used: True\n",
      "TPU available: False, using: 0 TPU cores\n",
      "IPU available: False, using: 0 IPUs\n",
      "HPU available: False, using: 0 HPUs\n"
     ]
    }
   ],
   "source": [
    "# Compute related\n",
    "ACCELERATOR = \"gpu\"\n",
    "DEVICES = -1\n",
    "NUM_NODES = 1\n",
    "# STRATEGY = \"ddp\"\n",
    "PRECISION = 32\n",
    "\n",
    "trainer = Trainer(\n",
    "    # profiler=\"simple\",\n",
    "    # fast_dev_run=True,\n",
    "    num_sanity_val_steps=2,\n",
    "    # logger=wandb_logger,\n",
    "    accelerator=ACCELERATOR,\n",
    "    devices=DEVICES,\n",
    "    # num_nodes=NUM_NODES,\n",
    "    # strategy=STRATEGY,\n",
    "    min_epochs=1,\n",
    "    max_epochs=1,\n",
    "    precision=PRECISION,\n",
    "    log_every_n_steps=200,\n",
    "    # val_check_interval=.5,\n",
    "    # plugins=[SLURMEnvironment(auto_requeue=False)],\n",
    ")"
   ]
  },
  {
   "cell_type": "code",
   "execution_count": 6,
   "metadata": {},
   "outputs": [
    {
     "name": "stderr",
     "output_type": "stream",
     "text": [
      "/scratch/snx3000/kschuurm/pytorch/lib/python3.9/site-packages/lightning/pytorch/utilities/parsing.py:198: Attribute 'model' is an instance of `nn.Module` and is already saved during checkpointing. It is recommended to ignore them using `self.save_hyperparameters(ignore=['model'])`.\n",
      "/scratch/snx3000/kschuurm/pytorch/lib/python3.9/site-packages/lightning/fabric/plugins/environments/slurm.py:191: The `srun` command is available on your system but is not used. HINT: If your intention is to run Lightning on SLURM, prepend your python command with `srun` like so: srun python /scratch/snx3000/kschuurm/pytorch/lib/python3.9/site ...\n",
      "/scratch/snx3000/kschuurm/pytorch/lib/python3.9/site-packages/lightning/pytorch/trainer/configuration_validator.py:74: You defined a `validation_step` but have no `val_dataloader`. Skipping val loop.\n",
      "LOCAL_RANK: 0 - CUDA_VISIBLE_DEVICES: [0]\n",
      "\n",
      "  | Name          | Type             | Params\n",
      "---------------------------------------------------\n",
      "0 | model         | ConvResNet       | 6.4 M \n",
      "1 | metric        | MeanSquaredError | 0     \n",
      "2 | other_metrics | MetricCollection | 0     \n",
      "---------------------------------------------------\n",
      "6.4 M     Trainable params\n",
      "0         Non-trainable params\n",
      "6.4 M     Total params\n",
      "25.620    Total estimated model params size (MB)\n",
      "/scratch/snx3000/kschuurm/pytorch/lib/python3.9/site-packages/lightning/pytorch/trainer/connectors/data_connector.py:441: The 'train_dataloader' does not have many workers which may be a bottleneck. Consider increasing the value of the `num_workers` argument` to `num_workers=23` in the `DataLoader` to improve performance.\n"
     ]
    },
    {
     "data": {
      "application/vnd.jupyter.widget-view+json": {
       "model_id": "3a12152ad2534c2ea77326c3a181618b",
       "version_major": 2,
       "version_minor": 0
      },
      "text/plain": [
       "Training: |          | 0/? [00:00<?, ?it/s]"
      ]
     },
     "metadata": {},
     "output_type": "display_data"
    },
    {
     "name": "stdout",
     "output_type": "stream",
     "text": [
      "new image\n",
      "new image\n",
      "new image\n",
      "new image\n",
      "new image\n",
      "new image\n",
      "new image\n",
      "new image\n",
      "new image\n",
      "new image\n",
      "new image\n",
      "new image\n"
     ]
    },
    {
     "name": "stderr",
     "output_type": "stream",
     "text": [
      "/scratch/snx3000/kschuurm/pytorch/lib/python3.9/site-packages/lightning/pytorch/trainer/call.py:54: Detected KeyboardInterrupt, attempting graceful shutdown...\n"
     ]
    }
   ],
   "source": [
    "estimator = LitEstimatorPoint(\n",
    "            model=model,\n",
    "            learning_rate=0.001,\n",
    "        )\n",
    "\n",
    "\n",
    "trainer.fit(model=estimator, train_dataloaders=dataloader)\n"
   ]
  },
  {
   "cell_type": "code",
   "execution_count": null,
   "metadata": {},
   "outputs": [],
   "source": []
  }
 ],
 "metadata": {
  "kernelspec": {
   "display_name": "pytorch",
   "language": "python",
   "name": "pytorch"
  },
  "language_info": {
   "codemirror_mode": {
    "name": "ipython",
    "version": 3
   },
   "file_extension": ".py",
   "mimetype": "text/x-python",
   "name": "python",
   "nbconvert_exporter": "python",
   "pygments_lexer": "ipython3",
   "version": "3.9.4"
  }
 },
 "nbformat": 4,
 "nbformat_minor": 4
}
