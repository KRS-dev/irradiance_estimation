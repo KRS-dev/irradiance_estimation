{
 "cells": [
  {
   "cell_type": "code",
   "execution_count": 1,
   "id": "01472e0d-d6de-489d-84d5-90e37b13c40a",
   "metadata": {},
   "outputs": [],
   "source": [
    "%load_ext autoreload\n",
    "%autoreload 2\n",
    "import os\n",
    "import traceback\n",
    "from dataset.station_dataset import GroundstationDataset\n",
    "import matplotlib.pyplot as plt\n",
    "from models.FCN import residual_FCN\n",
    "import numpy as np\n",
    "import pandas as pd\n",
    "import torch\n",
    "from torch.utils.data import DataLoader, Dataset\n",
    "from torchmetrics import MeanAbsoluteError, MeanSquaredError\n",
    "import wandb\n",
    "import xarray\n",
    "from dataset.dataset import ImageDataset, SeviriDataset, valid_test_split, pickle_read\n",
    "from dataset.normalization import MinMax, ZeroMinMax\n",
    "from lightning.pytorch import Trainer\n",
    "from lightning.pytorch.loggers import WandbLogger\n",
    "from lightning.pytorch.utilities import rank_zero_only\n",
    "from lightning.pytorch.callbacks import EarlyStopping, ModelCheckpoint\n",
    "from models.ConvResNet_Jiang import ConvResNet, ConvResNet_batchnormMLP, ConvResNet_dropout, ConvResNet_inputCdropout, ConvResNet_BNdropout\n",
    "from models.LightningModule import LitEstimator, LitEstimatorPoint\n",
    "from tqdm import tqdm\n",
    "from types import SimpleNamespace\n",
    "from pathlib import Path\n",
    "\n",
    "from train import get_dataloaders"
   ]
  },
  {
   "cell_type": "code",
   "execution_count": 2,
   "id": "2226c8da-c43f-4d80-b151-c38b7a6325c8",
   "metadata": {},
   "outputs": [],
   "source": [
    "config = {\n",
    "        \"batch_size\": 2048,\n",
    "        \"patch_size\": {\n",
    "            \"x\": 15,\n",
    "            \"y\": 15,\n",
    "            \"stride_x\": 1,\n",
    "            \"stride_y\": 1,\n",
    "        },\n",
    "        \"x_vars\": [\n",
    "            \"channel_1\",\n",
    "            \"channel_2\",\n",
    "            \"channel_3\",\n",
    "            \"channel_4\",\n",
    "            \"channel_5\",\n",
    "            \"channel_6\",\n",
    "            \"channel_7\",\n",
    "            \"channel_8\",\n",
    "            \"channel_9\",\n",
    "            \"channel_10\",\n",
    "            \"channel_11\",\n",
    "            \"DEM\",\n",
    "        ],\n",
    "        \"y_vars\": [\"SIS\",],\n",
    "        \"x_features\": [\"dayofyear\", \"lat\", \"lon\", 'SZA', \"AZI\",],\n",
    "        \"transform\": ZeroMinMax(),\n",
    "        \"target_transform\": ZeroMinMax(),\n",
    "        'max_epochs': 10,\n",
    "        # Compute related\n",
    "        'num_workers': 24,\n",
    "        'ACCELERATOR': \"gpu\",\n",
    "        'DEVICES': -1,\n",
    "        'NUM_NODES': 32,\n",
    "        'STRATEGY': \"ddp\",\n",
    "        'PRECISION': \"32\",\n",
    "        'EarlyStopping': {'patience':2},\n",
    "        'ModelCheckpoint':{'every_n_epochs':1, 'save_top_k':1},\n",
    "        'ckpt_fn': None, #'/scratch/snx3000/kschuurm/irradiance_estimation/train/SIS_point_estimation_groundstation/pl86of1b/checkpoints/epoch=4-val_loss=0.01630.ckpt',\n",
    "    }\n",
    "config = SimpleNamespace(**config)"
   ]
  },
  {
   "cell_type": "code",
   "execution_count": 3,
   "id": "cece4b5d-f320-4f94-bd9d-64ef86bc5e90",
   "metadata": {},
   "outputs": [],
   "source": [
    "wandb_logger = WandbLogger(id='drvowqn4', project=\"SIS_point_estimation_groundstation\", resume=True)\n"
   ]
  },
  {
   "cell_type": "code",
   "execution_count": 25,
   "id": "17af8193-b74f-4b79-95ce-686218e90694",
   "metadata": {},
   "outputs": [
    {
     "name": "stderr",
     "output_type": "stream",
     "text": [
      "\u001b[34m\u001b[1mwandb\u001b[0m:   1 of 1 files downloaded.  \n"
     ]
    },
    {
     "name": "stdout",
     "output_type": "stream",
     "text": [
      "artifact_dir: /scratch/snx3000/kschuurm/irradiance_estimation/train/artifacts/model-4nbyae30:v2\n"
     ]
    }
   ],
   "source": [
    "\n",
    "# download checkpoint locally (if not already cached)\n",
    "artifact_dir = wandb_logger.download_artifact('krschuurman/SIS_point_estimation/model-4nbyae30:best', artifact_type=\"model\")\n",
    "print('artifact_dir:', artifact_dir)"
   ]
  },
  {
   "cell_type": "code",
   "execution_count": 4,
   "id": "53a508cb-a4cf-4678-a99e-601251896111",
   "metadata": {},
   "outputs": [
    {
     "name": "stderr",
     "output_type": "stream",
     "text": [
      "/scratch/snx3000/kschuurm/lightning-env/lib/python3.9/site-packages/lightning/pytorch/utilities/parsing.py:199: Attribute 'metric' is an instance of `nn.Module` and is already saved during checkpointing. It is recommended to ignore them using `self.save_hyperparameters(ignore=['metric'])`.\n"
     ]
    }
   ],
   "source": [
    "# load checkpoint\n",
    "# estimator = LitEstimatorPoint.load_from_checkpoint(Path(artifact_dir) / \"model.ckpt\")\n",
    "estimator = LitEstimatorPoint.load_from_checkpoint('../train/SIS_point_estimation_groundstation/drvowqn4/checkpoints/epoch=0-val_loss=0.01659.ckpt')"
   ]
  },
  {
   "cell_type": "code",
   "execution_count": 5,
   "id": "10528037-2229-406a-a3d3-5abae1d6d07a",
   "metadata": {},
   "outputs": [
    {
     "name": "stdout",
     "output_type": "stream",
     "text": [
      "sampler setup : 9.081 seconds\n"
     ]
    }
   ],
   "source": [
    "train_dataloader, valid_dataloader = get_dataloaders(config)"
   ]
  },
  {
   "cell_type": "code",
   "execution_count": 6,
   "id": "2f17dcb6-aa28-4537-bce5-df1a288fb055",
   "metadata": {},
   "outputs": [
    {
     "name": "stderr",
     "output_type": "stream",
     "text": [
      "/scratch/snx3000/kschuurm/lightning-env/lib/python3.9/site-packages/lightning/fabric/plugins/environments/slurm.py:204: The `srun` command is available on your system but is not used. HINT: If your intention is to run Lightning on SLURM, prepend your python command with `srun` like so: srun python /scratch/snx3000/kschuurm/lightning-env/lib/python3. ...\n",
      "GPU available: True (cuda), used: True\n",
      "TPU available: False, using: 0 TPU cores\n",
      "IPU available: False, using: 0 IPUs\n",
      "HPU available: False, using: 0 HPUs\n"
     ]
    }
   ],
   "source": [
    "trainer =  Trainer(\n",
    "        logger=wandb_logger,\n",
    "        accelerator=config.ACCELERATOR,\n",
    "        devices=config.DEVICES,\n",
    "        max_epochs=config.max_epochs,\n",
    "        precision=config.PRECISION,\n",
    "        log_every_n_steps=500,\n",
    "    )"
   ]
  },
  {
   "cell_type": "code",
   "execution_count": 7,
   "id": "87546dcd-3bad-420f-86ce-5280dde45c0b",
   "metadata": {
    "tags": []
   },
   "outputs": [
    {
     "name": "stderr",
     "output_type": "stream",
     "text": [
      "/scratch/snx3000/kschuurm/lightning-env/lib/python3.9/site-packages/lightning/fabric/plugins/environments/slurm.py:204: The `srun` command is available on your system but is not used. HINT: If your intention is to run Lightning on SLURM, prepend your python command with `srun` like so: srun python /scratch/snx3000/kschuurm/lightning-env/lib/python3. ...\n",
      "Failed to detect the name of this notebook, you can set it manually with the WANDB_NOTEBOOK_NAME environment variable to enable code saving.\n",
      "\u001b[34m\u001b[1mwandb\u001b[0m: Currently logged in as: \u001b[33mkrschuurman\u001b[0m. Use \u001b[1m`wandb login --relogin`\u001b[0m to force relogin\n"
     ]
    },
    {
     "data": {
      "text/html": [
       "wandb version 0.16.6 is available!  To upgrade, please run:\n",
       " $ pip install wandb --upgrade"
      ],
      "text/plain": [
       "<IPython.core.display.HTML object>"
      ]
     },
     "metadata": {},
     "output_type": "display_data"
    },
    {
     "data": {
      "text/html": [
       "Tracking run with wandb version 0.16.4"
      ],
      "text/plain": [
       "<IPython.core.display.HTML object>"
      ]
     },
     "metadata": {},
     "output_type": "display_data"
    },
    {
     "data": {
      "text/html": [
       "Run data is saved locally in <code>./wandb/run-20240423_164844-drvowqn4</code>"
      ],
      "text/plain": [
       "<IPython.core.display.HTML object>"
      ]
     },
     "metadata": {},
     "output_type": "display_data"
    },
    {
     "data": {
      "text/html": [
       "Resuming run <strong><a href='https://wandb.ai/krschuurman/SIS_point_estimation_groundstation/runs/drvowqn4' target=\"_blank\">freeze MLP</a></strong> to <a href='https://wandb.ai/krschuurman/SIS_point_estimation_groundstation' target=\"_blank\">Weights & Biases</a> (<a href='https://wandb.me/run' target=\"_blank\">docs</a>)<br/>"
      ],
      "text/plain": [
       "<IPython.core.display.HTML object>"
      ]
     },
     "metadata": {},
     "output_type": "display_data"
    },
    {
     "data": {
      "text/html": [
       " View project at <a href='https://wandb.ai/krschuurman/SIS_point_estimation_groundstation' target=\"_blank\">https://wandb.ai/krschuurman/SIS_point_estimation_groundstation</a>"
      ],
      "text/plain": [
       "<IPython.core.display.HTML object>"
      ]
     },
     "metadata": {},
     "output_type": "display_data"
    },
    {
     "data": {
      "text/html": [
       " View run at <a href='https://wandb.ai/krschuurman/SIS_point_estimation_groundstation/runs/drvowqn4' target=\"_blank\">https://wandb.ai/krschuurman/SIS_point_estimation_groundstation/runs/drvowqn4</a>"
      ],
      "text/plain": [
       "<IPython.core.display.HTML object>"
      ]
     },
     "metadata": {},
     "output_type": "display_data"
    },
    {
     "name": "stderr",
     "output_type": "stream",
     "text": [
      "LOCAL_RANK: 0 - CUDA_VISIBLE_DEVICES: [0]\n"
     ]
    },
    {
     "data": {
      "application/vnd.jupyter.widget-view+json": {
       "model_id": "c83978c4bea647fa94d53671c841df0d",
       "version_major": 2,
       "version_minor": 0
      },
      "text/plain": [
       "Validation: |          | 0/? [00:00<?, ?it/s]"
      ]
     },
     "metadata": {},
     "output_type": "display_data"
    },
    {
     "name": "stderr",
     "output_type": "stream",
     "text": [
      "/scratch/snx3000/kschuurm/lightning-env/lib/python3.9/site-packages/numpy/lib/function_base.py:522: overflow encountered in cast\n",
      "/scratch/snx3000/kschuurm/lightning-env/lib/python3.9/site-packages/sklearn/metrics/_regression.py:1198: overflow encountered in square\n"
     ]
    },
    {
     "data": {
      "text/html": [
       "<pre style=\"white-space:pre;overflow-x:auto;line-height:normal;font-family:Menlo,'DejaVu Sans Mono',consolas,'Courier New',monospace\">┏━━━━━━━━━━━━━━━━━━━━━━━━━━━┳━━━━━━━━━━━━━━━━━━━━━━━━━━━┓\n",
       "┃<span style=\"font-weight: bold\">      Validate metric      </span>┃<span style=\"font-weight: bold\">       DataLoader 0        </span>┃\n",
       "┡━━━━━━━━━━━━━━━━━━━━━━━━━━━╇━━━━━━━━━━━━━━━━━━━━━━━━━━━┩\n",
       "│<span style=\"color: #008080; text-decoration-color: #008080\">     MeanAbsoluteError     </span>│<span style=\"color: #800080; text-decoration-color: #800080\">    52.058860778808594     </span>│\n",
       "│<span style=\"color: #008080; text-decoration-color: #008080\">     MeanSquaredError      </span>│<span style=\"color: #800080; text-decoration-color: #800080\">     6464.66162109375      </span>│\n",
       "│<span style=\"color: #008080; text-decoration-color: #008080\">          R2Score          </span>│<span style=\"color: #800080; text-decoration-color: #800080\">            nan            </span>│\n",
       "│<span style=\"color: #008080; text-decoration-color: #008080\">         val_loss          </span>│<span style=\"color: #800080; text-decoration-color: #800080\">   0.019250456243753433    </span>│\n",
       "└───────────────────────────┴───────────────────────────┘\n",
       "</pre>\n"
      ],
      "text/plain": [
       "┏━━━━━━━━━━━━━━━━━━━━━━━━━━━┳━━━━━━━━━━━━━━━━━━━━━━━━━━━┓\n",
       "┃\u001b[1m \u001b[0m\u001b[1m     Validate metric     \u001b[0m\u001b[1m \u001b[0m┃\u001b[1m \u001b[0m\u001b[1m      DataLoader 0       \u001b[0m\u001b[1m \u001b[0m┃\n",
       "┡━━━━━━━━━━━━━━━━━━━━━━━━━━━╇━━━━━━━━━━━━━━━━━━━━━━━━━━━┩\n",
       "│\u001b[36m \u001b[0m\u001b[36m    MeanAbsoluteError    \u001b[0m\u001b[36m \u001b[0m│\u001b[35m \u001b[0m\u001b[35m   52.058860778808594    \u001b[0m\u001b[35m \u001b[0m│\n",
       "│\u001b[36m \u001b[0m\u001b[36m    MeanSquaredError     \u001b[0m\u001b[36m \u001b[0m│\u001b[35m \u001b[0m\u001b[35m    6464.66162109375     \u001b[0m\u001b[35m \u001b[0m│\n",
       "│\u001b[36m \u001b[0m\u001b[36m         R2Score         \u001b[0m\u001b[36m \u001b[0m│\u001b[35m \u001b[0m\u001b[35m           nan           \u001b[0m\u001b[35m \u001b[0m│\n",
       "│\u001b[36m \u001b[0m\u001b[36m        val_loss         \u001b[0m\u001b[36m \u001b[0m│\u001b[35m \u001b[0m\u001b[35m  0.019250456243753433   \u001b[0m\u001b[35m \u001b[0m│\n",
       "└───────────────────────────┴───────────────────────────┘\n"
      ]
     },
     "metadata": {},
     "output_type": "display_data"
    },
    {
     "data": {
      "text/plain": [
       "[{'val_loss': 0.019250456243753433,\n",
       "  'MeanSquaredError': 6464.66162109375,\n",
       "  'MeanAbsoluteError': 52.058860778808594,\n",
       "  'R2Score': nan}]"
      ]
     },
     "execution_count": 7,
     "metadata": {},
     "output_type": "execute_result"
    },
    {
     "data": {
      "image/png": "[encoded data removed]",
      "text/plain": [
       "<Figure size 700x400 with 1 Axes>"
      ]
     },
     "metadata": {},
     "output_type": "display_data"
    },
    {
     "data": {
      "image/png": "[encoded data removed]",
      "text/plain": [
       "<Figure size 700x400 with 1 Axes>"
      ]
     },
     "metadata": {},
     "output_type": "display_data"
    }
   ],
   "source": [
    "trainer.validate(estimator, valid_dataloader)"
   ]
  },
  {
   "cell_type": "code",
   "execution_count": 8,
   "id": "b1dfd83e-56d3-4c5a-af92-188ff8c88186",
   "metadata": {},
   "outputs": [
    {
     "name": "stderr",
     "output_type": "stream",
     "text": [
      "wandb: WARNING Ensure read and write access to run files dir: ./wandb/run-20240423_164844-drvowqn4/files, control this via the WANDB_DIR env var. See https://docs.wandb.ai/guides/track/environment-variables\n"
     ]
    },
    {
     "data": {
      "application/vnd.jupyter.widget-view+json": {
       "model_id": "",
       "version_major": 2,
       "version_minor": 0
      },
      "text/plain": [
       "VBox(children=(Label(value='0.265 MB of 0.265 MB uploaded\\r'), FloatProgress(value=1.0, max=1.0)))"
      ]
     },
     "metadata": {},
     "output_type": "display_data"
    },
    {
     "data": {
      "text/html": [
       "<style>\n",
       "    table.wandb td:nth-child(1) { padding: 0 10px; text-align: left ; width: auto;} td:nth-child(2) {text-align: left ; width: 100%}\n",
       "    .wandb-row { display: flex; flex-direction: row; flex-wrap: wrap; justify-content: flex-start; width: 100% }\n",
       "    .wandb-col { display: flex; flex-direction: column; flex-basis: 100%; flex: 1; padding: 10px; }\n",
       "    </style>\n",
       "<div class=\"wandb-row\"><div class=\"wandb-col\"><h3>Run history:</h3><br/><table class=\"wandb\"><tr><td>MeanAbsoluteError</td><td>▁</td></tr><tr><td>MeanSquaredError</td><td>▁</td></tr><tr><td>epoch</td><td>▁</td></tr><tr><td>trainer/global_step</td><td>▁</td></tr><tr><td>val_loss</td><td>▁</td></tr></table><br/></div><div class=\"wandb-col\"><h3>Run summary:</h3><br/><table class=\"wandb\"><tr><td>MeanAbsoluteError</td><td>52.05886</td></tr><tr><td>MeanSquaredError</td><td>6464.66162</td></tr><tr><td>R2Score</td><td>nan</td></tr><tr><td>epoch</td><td>0</td></tr><tr><td>loss_epoch</td><td>0.01551</td></tr><tr><td>loss_step</td><td>0.01515</td></tr><tr><td>trainer/global_step</td><td>0</td></tr><tr><td>val_loss</td><td>0.01925</td></tr></table><br/></div></div>"
      ],
      "text/plain": [
       "<IPython.core.display.HTML object>"
      ]
     },
     "metadata": {},
     "output_type": "display_data"
    },
    {
     "data": {
      "text/html": [
       " View run <strong style=\"color:#cdcd00\">freeze MLP</strong> at: <a href='https://wandb.ai/krschuurman/SIS_point_estimation_groundstation/runs/drvowqn4' target=\"_blank\">https://wandb.ai/krschuurman/SIS_point_estimation_groundstation/runs/drvowqn4</a><br/>Synced 4 W&B file(s), 4 media file(s), 0 artifact file(s) and 0 other file(s)"
      ],
      "text/plain": [
       "<IPython.core.display.HTML object>"
      ]
     },
     "metadata": {},
     "output_type": "display_data"
    },
    {
     "data": {
      "text/html": [
       "Find logs at: <code>./wandb/run-20240423_164844-drvowqn4/logs</code>"
      ],
      "text/plain": [
       "<IPython.core.display.HTML object>"
      ]
     },
     "metadata": {},
     "output_type": "display_data"
    }
   ],
   "source": [
    "wandb_logger.experiment.finish()"
   ]
  },
  {
   "cell_type": "code",
   "execution_count": 27,
   "id": "834d3c56-2077-4f66-8bda-cbf747ac433d",
   "metadata": {},
   "outputs": [
    {
     "data": {
      "text/plain": [
       "{'optimizer': AdamW (\n",
       " Parameter Group 0\n",
       "     amsgrad: False\n",
       "     betas: (0.9, 0.999)\n",
       "     capturable: False\n",
       "     differentiable: False\n",
       "     eps: 1e-08\n",
       "     foreach: None\n",
       "     fused: None\n",
       "     lr: 1e-05\n",
       "     maximize: False\n",
       "     weight_decay: 0.01\n",
       " ),\n",
       " 'lr_scheduler': {'scheduler': <torch.optim.lr_scheduler.ReduceLROnPlateau at 0x15538cf541f0>,\n",
       "  'monitor': 'val_loss',\n",
       "  'frequency': 1}}"
      ]
     },
     "execution_count": 27,
     "metadata": {},
     "output_type": "execute_result"
    }
   ],
   "source": [
    "estimator.zero_loss = MeanSquaredError()\n",
    "estimator.lr = 0.00001\n",
    "estimator.configure_optimizers()"
   ]
  },
  {
   "cell_type": "code",
   "execution_count": 28,
   "id": "2eed2581-8d77-431d-b858-0e1c43e775fd",
   "metadata": {},
   "outputs": [
    {
     "name": "stderr",
     "output_type": "stream",
     "text": [
      "/scratch/snx3000/kschuurm/lightning-env/lib/python3.9/site-packages/lightning/fabric/plugins/environments/slurm.py:204: The `srun` command is available on your system but is not used. HINT: If your intention is to run Lightning on SLURM, prepend your python command with `srun` like so: srun python /scratch/snx3000/kschuurm/lightning-env/lib/python3. ...\n",
      "GPU available: True (cuda), used: True\n",
      "TPU available: False, using: 0 TPU cores\n",
      "IPU available: False, using: 0 IPUs\n",
      "HPU available: False, using: 0 HPUs\n"
     ]
    }
   ],
   "source": [
    "trainer =  Trainer(\n",
    "        logger=wandb_logger,\n",
    "        accelerator=config.ACCELERATOR,\n",
    "        devices=config.DEVICES,\n",
    "        precision=config.PRECISION,\n",
    "        log_every_n_steps=500,\n",
    "        max_epochs=10,\n",
    "        limit_train_batches=.1,\n",
    "        limit_val_batches=.1,\n",
    "    )\n",
    "\n",
    "val_dataloader  = DataLoader(valid_dataloader.dataset, shuffle=True, batch_size=None, num_workers=config.num_workers)"
   ]
  },
  {
   "cell_type": "code",
   "execution_count": null,
   "id": "92da49d3-2288-4f2b-a0b9-c3db5ee45af4",
   "metadata": {},
   "outputs": [
    {
     "data": {
      "text/html": [
       "wandb version 0.16.6 is available!  To upgrade, please run:\n",
       " $ pip install wandb --upgrade"
      ],
      "text/plain": [
       "<IPython.core.display.HTML object>"
      ]
     },
     "metadata": {},
     "output_type": "display_data"
    },
    {
     "data": {
      "text/html": [
       "Tracking run with wandb version 0.16.4"
      ],
      "text/plain": [
       "<IPython.core.display.HTML object>"
      ]
     },
     "metadata": {},
     "output_type": "display_data"
    },
    {
     "data": {
      "text/html": [
       "Run data is saved locally in <code>./wandb/run-20240422_184239-4nbyae30</code>"
      ],
      "text/plain": [
       "<IPython.core.display.HTML object>"
      ]
     },
     "metadata": {},
     "output_type": "display_data"
    },
    {
     "data": {
      "text/html": [
       "Resuming run <strong><a href='https://wandb.ai/krschuurman/SIS_point_estimation/runs/4nbyae30' target=\"_blank\">apricot-sunset-101</a></strong> to <a href='https://wandb.ai/krschuurman/SIS_point_estimation' target=\"_blank\">Weights & Biases</a> (<a href='https://wandb.me/run' target=\"_blank\">docs</a>)<br/>"
      ],
      "text/plain": [
       "<IPython.core.display.HTML object>"
      ]
     },
     "metadata": {},
     "output_type": "display_data"
    },
    {
     "data": {
      "text/html": [
       " View project at <a href='https://wandb.ai/krschuurman/SIS_point_estimation' target=\"_blank\">https://wandb.ai/krschuurman/SIS_point_estimation</a>"
      ],
      "text/plain": [
       "<IPython.core.display.HTML object>"
      ]
     },
     "metadata": {},
     "output_type": "display_data"
    },
    {
     "data": {
      "text/html": [
       " View run at <a href='https://wandb.ai/krschuurman/SIS_point_estimation/runs/4nbyae30' target=\"_blank\">https://wandb.ai/krschuurman/SIS_point_estimation/runs/4nbyae30</a>"
      ],
      "text/plain": [
       "<IPython.core.display.HTML object>"
      ]
     },
     "metadata": {},
     "output_type": "display_data"
    },
    {
     "name": "stderr",
     "output_type": "stream",
     "text": [
      "/scratch/snx3000/kschuurm/lightning-env/lib/python3.9/site-packages/lightning/pytorch/callbacks/model_checkpoint.py:653: Checkpoint directory ./SIS_point_estimation/4nbyae30/checkpoints exists and is not empty.\n",
      "LOCAL_RANK: 0 - CUDA_VISIBLE_DEVICES: [0]\n",
      "\n",
      "  | Name             | Type                    | Params\n",
      "-------------------------------------------------------------\n",
      "0 | model            | ConvResNet_batchnormMLP | 4.2 M \n",
      "1 | metric           | MeanSquaredError        | 0     \n",
      "2 | other_metrics    | MetricCollection        | 0     \n",
      "3 | parameter_metric | MeanSquaredError        | 0     \n",
      "4 | zero_loss        | MeanSquaredError        | 0     \n",
      "-------------------------------------------------------------\n",
      "4.2 M     Trainable params\n",
      "0         Non-trainable params\n",
      "4.2 M     Total params\n",
      "16.761    Total estimated model params size (MB)\n"
     ]
    },
    {
     "data": {
      "application/vnd.jupyter.widget-view+json": {
       "model_id": "",
       "version_major": 2,
       "version_minor": 0
      },
      "text/plain": [
       "Sanity Checking: |          | 0/? [00:00<?, ?it/s]"
      ]
     },
     "metadata": {},
     "output_type": "display_data"
    },
    {
     "name": "stderr",
     "output_type": "stream",
     "text": [
      "/scratch/snx3000/kschuurm/lightning-env/lib/python3.9/site-packages/lightning/pytorch/trainer/connectors/data_connector.py:492: Your `val_dataloader`'s sampler has shuffling enabled, it is strongly recommended that you turn shuffling off for val/test dataloaders.\n",
      "/scratch/snx3000/kschuurm/lightning-env/lib/python3.9/site-packages/sklearn/metrics/_regression.py:1198: overflow encountered in square\n"
     ]
    },
    {
     "data": {
      "application/vnd.jupyter.widget-view+json": {
       "model_id": "d28a9bd45b4944b7af250c9080c95b37",
       "version_major": 2,
       "version_minor": 0
      },
      "text/plain": [
       "Training: |          | 0/? [00:00<?, ?it/s]"
      ]
     },
     "metadata": {},
     "output_type": "display_data"
    }
   ],
   "source": [
    "trainer.fit(estimator, train_dataloaders=train_dataloader, val_dataloaders=val_dataloader,)"
   ]
  },
  {
   "cell_type": "code",
   "execution_count": 21,
   "id": "e7450d42-d946-4d6b-8051-e98814638b2f",
   "metadata": {},
   "outputs": [
    {
     "name": "stderr",
     "output_type": "stream",
     "text": [
      "wandb: WARNING Ensure read and write access to run files dir: ./wandb/run-20240422_183622-4nbyae30/files, control this via the WANDB_DIR env var. See https://docs.wandb.ai/guides/track/environment-variables\n"
     ]
    },
    {
     "data": {
      "application/vnd.jupyter.widget-view+json": {
       "model_id": "",
       "version_major": 2,
       "version_minor": 0
      },
      "text/plain": [
       "VBox(children=(Label(value='0.225 MB of 0.225 MB uploaded\\r'), FloatProgress(value=1.0, max=1.0)))"
      ]
     },
     "metadata": {},
     "output_type": "display_data"
    },
    {
     "data": {
      "text/html": [
       "<style>\n",
       "    table.wandb td:nth-child(1) { padding: 0 10px; text-align: left ; width: auto;} td:nth-child(2) {text-align: left ; width: 100%}\n",
       "    .wandb-row { display: flex; flex-direction: row; flex-wrap: wrap; justify-content: flex-start; width: 100% }\n",
       "    .wandb-col { display: flex; flex-direction: column; flex-basis: 100%; flex: 1; padding: 10px; }\n",
       "    </style>\n",
       "<div class=\"wandb-row\"><div class=\"wandb-col\"><h3>Run history:</h3><br/><table class=\"wandb\"><tr><td>epoch</td><td>▁▁▁</td></tr><tr><td>loss_step</td><td>█▁█</td></tr><tr><td>trainer/global_step</td><td>▁▅█</td></tr><tr><td>zero_loss</td><td>▇█▁</td></tr></table><br/></div><div class=\"wandb-col\"><h3>Run summary:</h3><br/><table class=\"wandb\"><tr><td>MeanAbsoluteError</td><td>46.85812</td></tr><tr><td>MeanSquaredError</td><td>5814.65527</td></tr><tr><td>R2Score</td><td>0.91972</td></tr><tr><td>epoch</td><td>0</td></tr><tr><td>loss_epoch</td><td>0.01066</td></tr><tr><td>loss_step</td><td>0.00725</td></tr><tr><td>trainer/global_step</td><td>1499</td></tr><tr><td>val_loss</td><td>0.01731</td></tr><tr><td>val_loss/dataloader_idx_0</td><td>0.00994</td></tr><tr><td>val_loss/dataloader_idx_1</td><td>0.01039</td></tr><tr><td>zero_loss</td><td>1e-05</td></tr></table><br/></div></div>"
      ],
      "text/plain": [
       "<IPython.core.display.HTML object>"
      ]
     },
     "metadata": {},
     "output_type": "display_data"
    },
    {
     "data": {
      "text/html": [
       " View run <strong style=\"color:#cdcd00\">apricot-sunset-101</strong> at: <a href='https://wandb.ai/krschuurman/SIS_point_estimation/runs/4nbyae30' target=\"_blank\">https://wandb.ai/krschuurman/SIS_point_estimation/runs/4nbyae30</a><br/>Synced 4 W&B file(s), 4 media file(s), 0 artifact file(s) and 0 other file(s)"
      ],
      "text/plain": [
       "<IPython.core.display.HTML object>"
      ]
     },
     "metadata": {},
     "output_type": "display_data"
    },
    {
     "data": {
      "text/html": [
       "Find logs at: <code>./wandb/run-20240422_183622-4nbyae30/logs</code>"
      ],
      "text/plain": [
       "<IPython.core.display.HTML object>"
      ]
     },
     "metadata": {},
     "output_type": "display_data"
    }
   ],
   "source": [
    "wandb_logger.experiment.finish()"
   ]
  },
  {
   "cell_type": "code",
   "execution_count": null,
   "id": "fd4592f0-342e-4c62-bcd7-2526c3280be6",
   "metadata": {},
   "outputs": [],
   "source": []
  }
 ],
 "metadata": {
  "kernelspec": {
   "display_name": "lightning-kernel2",
   "language": "python",
   "name": "lightning-kernel2"
  },
  "language_info": {
   "codemirror_mode": {
    "name": "ipython",
    "version": 3
   },
   "file_extension": ".py",
   "mimetype": "text/x-python",
   "name": "python",
   "nbconvert_exporter": "python",
   "pygments_lexer": "ipython3",
   "version": "3.9.4"
  }
 },
 "nbformat": 4,
 "nbformat_minor": 5
}
