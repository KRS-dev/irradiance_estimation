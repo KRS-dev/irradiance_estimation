{
 "cells": [
  {
   "cell_type": "code",
   "execution_count": null,
   "metadata": {},
   "outputs": [],
   "source": [
    "import xarray\n",
    "from dask.distributed import Client\n",
    "from datetime import datetime, timedelta\n",
    "import pandas as pd\n",
    "import numpy as np\n",
    "import random\n",
    "from preprocess.etc import benchmark"
   ]
  },
  {
   "cell_type": "code",
   "execution_count": null,
   "metadata": {},
   "outputs": [],
   "source": [
    "batch_size=512\n",
    "patch_size=(15,15)"
   ]
  },
  {
   "cell_type": "code",
   "execution_count": null,
   "metadata": {},
   "outputs": [],
   "source": [
    "train_ds = xarray.open_zarr(\"/scratch/snx3000/kschuurm/DATA/train.zarr\")\n",
    "for var in train_ds:\n",
    "    del train_ds[var].encoding[\"chunks\"]\n",
    "\n",
    "train_ds.chunk({'time':batch_size, 'lat':patch_size[0], 'lon':patch_size[1]}).to_zarr(\"/scratch/snx3000/kschuurm/DATA/train.zarr\", mode='w', safe_chunks=True)\n"
   ]
  }
 ],
 "metadata": {
  "language_info": {
   "name": "python"
  }
 },
 "nbformat": 4,
 "nbformat_minor": 2
}
