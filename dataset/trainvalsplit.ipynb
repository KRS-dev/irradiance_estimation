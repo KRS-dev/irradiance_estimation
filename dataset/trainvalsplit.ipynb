{
 "cells": [
  {
   "cell_type": "code",
   "execution_count": 4,
   "id": "bd931c6b-09f6-4357-af0c-56990e3ad3e9",
   "metadata": {},
   "outputs": [],
   "source": [
    "import xarray\n",
    "from dask.distributed import Client\n",
    "from datetime import datetime, timedelta\n",
    "import pandas as pd\n",
    "import numpy as np\n",
    "import random\n",
    "\n",
    "random.seed(0)\n",
    "\n",
    "def train_test_split(ds):\n",
    "    def last_day_of_month(any_day):\n",
    "        # The day 28 exists in every month. 4 days later, it's always next month\n",
    "        next_month = any_day.replace(day=28) + timedelta(days=4)\n",
    "        # subtracting the number of the current day brings us back one month\n",
    "        return next_month - timedelta(days=next_month.day)\n",
    "\n",
    "    timeindex = ds.indexes[\"time\"]\n",
    "    dt_start = ds.time.min().values\n",
    "    dt_end = ds.time.max().values\n",
    "    month_dr = pd.date_range(start=dt_start, end=dt_end, freq=\"M\")  # monthly daterange\n",
    "\n",
    "    train_ls = []\n",
    "    test_ls = []\n",
    "\n",
    "    for month in month_dr:\n",
    "        start = datetime(month.year, month.month, 1)\n",
    "        end = last_day_of_month(start) + timedelta(hours=23, minutes=59, seconds=59)\n",
    "        test = end - timedelta(days=7)\n",
    "\n",
    "        idxstart = timeindex.get_slice_bound(start, \"left\")\n",
    "        idxtest = timeindex.get_slice_bound(test, \"left\")\n",
    "        idxend = timeindex.get_slice_bound(end, \"left\")\n",
    "\n",
    "        train_ls.extend([i for i in range(idxstart, idxtest)])\n",
    "        test_ls.extend([i for i in range(idxtest, idxend)])\n",
    "\n",
    "        # train_ls.append(slice(start, test)) # first ~3 weeks\n",
    "        # test_ls.append(slice(test, end)) # last week of the month\n",
    "\n",
    "    ds_train = ds.isel(time=train_ls)\n",
    "    ds_test = ds.isel(time=test_ls)\n",
    "\n",
    "    return ds_train, ds_test\n",
    "\n",
    "\n",
    "def shuffle_timeindex(ds):\n",
    "    num = len(ds.time)\n",
    "    samples = random.sample(range(num), num)\n",
    "\n",
    "    return ds.isel(time=samples)"
   ]
  },
  {
   "cell_type": "code",
   "execution_count": 5,
   "id": "7bacac13-d068-4147-8f2f-5f8b474a4bee",
   "metadata": {},
   "outputs": [
    {
     "name": "stdout",
     "output_type": "stream",
     "text": [
      "dropped 49.082466774175614\n",
      "split\n"
     ]
    }
   ],
   "source": [
    "full_ds = xarray.open_zarr(\"/scratch/snx3000/kschuurm/DATA/HRSEVIRI.zarr\")\n",
    "\n",
    "for var in full_ds:\n",
    "    del full_ds[var].encoding[\"chunks\"]\n",
    "\n",
    "i = len(full_ds.time)\n",
    "full_ds = full_ds.dropna(dim=\"time\", how=\"all\", subset=[\"SIS\"])\n",
    "\n",
    "print(\"dropped\", (1 - len(full_ds.time) / i)*100)\n",
    "\n",
    "half_ds = full_ds.sel(\n",
    "    time=slice(datetime(2015, 1, 1, 0, 0), None)\n",
    ")  # 2014 is used as test\n",
    "test_ds = full_ds.sel(\n",
    "    time=slice(datetime(2014, 1, 1, 0, 0, 0), datetime(2015, 1, 1, 0, 0))\n",
    ")\n",
    "\n",
    "train_ds, valid_ds = train_test_split(half_ds)\n",
    "\n",
    "print(\"split\")\n",
    "# train_ds = shuffle_timeindex(train_ds)\n",
    "# print(\"shuffle\")\n"
   ]
  },
  {
   "cell_type": "code",
   "execution_count": 6,
   "id": "4ad8099c-b8de-4324-b945-7307040715c9",
   "metadata": {},
   "outputs": [
    {
     "data": {
      "text/plain": [
       "<xarray.backends.zarr.ZarrStore at 0x1554ae6bbba0>"
      ]
     },
     "execution_count": 6,
     "metadata": {},
     "output_type": "execute_result"
    }
   ],
   "source": [
    "patch_size = (64, 64)\n",
    "batch_size = 512\n",
    "train_ds.chunk({'time':batch_size, 'lat':patch_size[0], 'lon':patch_size[1]}).to_zarr(\"/scratch/snx3000/kschuurm/DATA/train.zarr\", mode=\"w\", safe_chunks=True)"
   ]
  },
  {
   "cell_type": "code",
   "execution_count": 7,
   "id": "042f4a51-b17f-4846-b6d9-3970f9cbfba2",
   "metadata": {},
   "outputs": [
    {
     "data": {
      "text/plain": [
       "<xarray.backends.zarr.ZarrStore at 0x155476566900>"
      ]
     },
     "execution_count": 7,
     "metadata": {},
     "output_type": "execute_result"
    }
   ],
   "source": [
    "valid_ds.chunk({'time':batch_size, 'lat':patch_size[0], 'lon':patch_size[1]}).to_zarr(\"/scratch/snx3000/kschuurm/DATA/valid.zarr\", mode=\"w\", safe_chunks=True)"
   ]
  },
  {
   "cell_type": "code",
   "execution_count": 8,
   "id": "e5ea4752-6862-4016-9ef9-b98325e7052c",
   "metadata": {},
   "outputs": [
    {
     "data": {
      "text/plain": [
       "<xarray.backends.zarr.ZarrStore at 0x15547db03e40>"
      ]
     },
     "execution_count": 8,
     "metadata": {},
     "output_type": "execute_result"
    }
   ],
   "source": [
    "test_ds.chunk({'time':batch_size, 'lat':patch_size[0], 'lon':patch_size[1]}).to_zarr(\"/scratch/snx3000/kschuurm/DATA/test.zarr\", mode=\"w\", safe_chunks=True)"
   ]
  },
  {
   "cell_type": "code",
   "execution_count": null,
   "id": "0174d41e-c13a-47c7-9ee3-aeddb2b87b90",
   "metadata": {},
   "outputs": [],
   "source": []
  }
 ],
 "metadata": {
  "kernelspec": {
   "display_name": "pytorch",
   "language": "python",
   "name": "pytorch"
  },
  "language_info": {
   "codemirror_mode": {
    "name": "ipython",
    "version": 3
   },
   "file_extension": ".py",
   "mimetype": "text/x-python",
   "name": "python",
   "nbconvert_exporter": "python",
   "pygments_lexer": "ipython3",
   "version": "3.9.4"
  }
 },
 "nbformat": 4,
 "nbformat_minor": 5
}
