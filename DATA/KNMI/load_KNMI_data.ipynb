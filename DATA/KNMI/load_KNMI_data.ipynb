{
 "cells": [
  {
   "cell_type": "code",
   "execution_count": 1,
   "metadata": {},
   "outputs": [],
   "source": [
    "import xarray\n",
    "import pandas as pd\n",
    "import numpy as np\n",
    "from datetime import datetime\n",
    "from glob import glob\n",
    "from tqdm import tqdm\n",
    "import os"
   ]
  },
  {
   "cell_type": "code",
   "execution_count": null,
   "metadata": {},
   "outputs": [],
   "source": [
    "fn = 'zip/kis_tos_*.gz'\n",
    "fns = glob(fn)\n",
    "\n",
    "def bad_lines(x):\n",
    "    print(x)\n",
    "    pass\n",
    "\n",
    "df_list = []\n",
    "for fn in fns:\n",
    "    df = pd.read_csv(fn,\n",
    "                sep=' \\s+',\n",
    "                comment='#',\n",
    "                on_bad_lines=bad_lines,\n",
    "                engine='python', \n",
    "                names=['datetime', 'location', 'name', 'lat', 'lon', 'altitude','Q_GLOB_10', 'QN_GLOB_10', 'QX_GLOB_10', 'SQ_10'],\n",
    "                dtype={ 'Q_GLOB_10': np.float32, 'QN_GLOB_10': np.float32, 'QX_GLOB_10': np.float32, 'SQ_10': np.float32},\n",
    "                parse_dates=['datetime'],\n",
    "                date_format='%Y-%m-%d %H:%M:%S')\n",
    "     \n",
    "    df_list.append(df)\n",
    "\n",
    "df = pd.concat(df_list)\n"
   ]
  },
  {
   "cell_type": "code",
   "execution_count": 10,
   "metadata": {},
   "outputs": [],
   "source": [
    "SAVE_PATH = '/home/kr/Documents/Solar_Power_Forecasting/03_ground_stations/KNMI/nc/'\n",
    "stations_list = df.location.unique()"
   ]
  },
  {
   "cell_type": "code",
   "execution_count": null,
   "metadata": {},
   "outputs": [],
   "source": [
    "def parse_KNMI_dates(x):\n",
    "    return datetime.strptime(x, '%Y-%m-%d %H:%M:%S')\n",
    "\n",
    "for station in stations[2:]:\n",
    "    x = df.loc[df.location == station]\n",
    "    lat = x.lat.iloc[0]\n",
    "    lon = x.lon.iloc[0]\n",
    "    altitude = x.altitude.iloc[0]\n",
    "    station = x.location.iloc[0]\n",
    "    name = x.name.iloc[0]\n",
    "    x = x.set_index(['datetime'])\n",
    "    x = x.drop(columns=['lat', 'lon', 'altitude', 'name', 'location'])\n",
    "    xar = x.to_xarray()\n",
    "    xar = xar.assign_coords({'lat':lat, 'lon':lon, 'altitude':altitude})\n",
    "    xar = xar.rename_dims({'datetime':'time'}).rename({'datetime':'time'})\n",
    "    xar = xar.assign_attrs( {'provider': 'KNMI', 'station':station, 'name':name,'start_date': x.index.min().isoformat(), 'end_date': x.index.max().isoformat()})\n",
    "    for var, (nm1, nm2) in zip(['Q_GLOB_10', 'QN_GLOB_10', 'QX_GLOB_10', 'SQ_10'], \n",
    "                           [['global_sky_radiation_avg', 'Global average all sky radiation in previous 10 minutes'], \n",
    "                            ['global_sky_radiation_min', 'Global minimum all sky radiation in previous 10 minutes'],\n",
    "                            ['global_sky_radiation_max', 'Global maximum all sky radiation in previous 10 minutes'],\n",
    "                            ['sum_sunshine_duration', 'sunshine duration during the previous 10 minutes'],]):\n",
    "        if var == 'SQ_10':\n",
    "            xar[var] = xar[var].assign_attrs({\n",
    "                'long_name' : nm1 ,\n",
    "                'standard_name' : nm2,\n",
    "                'units' : 'minutes',\n",
    "            })\n",
    "        else:\n",
    "            xar[var] = xar[var].assign_attrs({\n",
    "                'long_name' : nm1 ,\n",
    "                'standard_name' : nm2,\n",
    "                'units' : 'W m-2',\n",
    "            })\n",
    "    \n",
    "    xar.to_netcdf(SAVE_PATH + f'KNMI_SOLAR_10min_{station}.nc')\n"
   ]
  },
  {
   "cell_type": "code",
   "execution_count": 31,
   "metadata": {},
   "outputs": [],
   "source": [
    "names = []\n",
    "lats = []\n",
    "lons = []\n",
    "date_starts = []\n",
    "date_ends = []\n",
    "stations=[]\n",
    "altitudes = []\n",
    "\n",
    "for station in stations_list:\n",
    "    x = df.loc[df.location == station]\n",
    "    lat = x.lat.iloc[0]\n",
    "    lon = x.lon.iloc[0]\n",
    "    altitude = x.altitude.iloc[0]\n",
    "    station = x.location.iloc[0]\n",
    "    name = x.name.iloc[0]\n",
    "    date_start = pd.to_datetime(x.datetime.min())\n",
    "    date_end = pd.to_datetime(x.datetime.max())\n",
    "    index_dict = {}\n",
    "    names.append(name)\n",
    "    lats.append(lat)\n",
    "    lons.append(lon)\n",
    "    date_starts.append(date_start) \n",
    "    date_ends.append(date_end) \n",
    "    stations.append(station)\n",
    "    altitudes.append(altitude) \n",
    "\n",
    "    \n",
    "index_dict = {'station':stations, 'name':names, 'lat':lats, 'lon':lons, 'altitude':altitudes, 'date_start':date_starts, 'date_end':date_ends}"
   ]
  },
  {
   "cell_type": "code",
   "execution_count": null,
   "metadata": {},
   "outputs": [],
   "source": [
    "coords = index_dict.pop('station')\n",
    "index = {key: ('station', val) for key,val in index_dict.items()}\n",
    "\n",
    "index_xar = xarray.Dataset(data_vars=index, coords={'station': coords})"
   ]
  },
  {
   "cell_type": "code",
   "execution_count": 33,
   "metadata": {},
   "outputs": [],
   "source": [
    "index_xar.to_netcdf('./nc/index.nc')"
   ]
  }
 ],
 "metadata": {
  "kernelspec": {
   "display_name": "Python 3",
   "language": "python",
   "name": "python3"
  },
  "language_info": {
   "codemirror_mode": {
    "name": "ipython",
    "version": 3
   },
   "file_extension": ".py",
   "mimetype": "text/x-python",
   "name": "python",
   "nbconvert_exporter": "python",
   "pygments_lexer": "ipython3",
   "version": "3.10.12"
  }
 },
 "nbformat": 4,
 "nbformat_minor": 2
}
