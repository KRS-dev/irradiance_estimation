{
 "cells": [
  {
   "cell_type": "markdown",
   "id": "b8170423-e961-4a68-bc37-ca52537b6f13",
   "metadata": {},
   "source": [
    "# Combine netCDF files from SARAH3"
   ]
  },
  {
   "cell_type": "code",
   "execution_count": null,
   "metadata": {},
   "outputs": [],
   "source": [
    "from glob import glob\n",
    "import xarray\n",
    "from dask.distributed import Client"
   ]
  },
  {
   "cell_type": "code",
   "execution_count": 10,
   "id": "44c31fb5-3ab6-4dac-893f-201eb9b1a6b8",
   "metadata": {},
   "outputs": [
    {
     "name": "stderr",
     "output_type": "stream",
     "text": [
      "/scratch/snx3000/kschuurm/lightning/lib/python3.9/site-packages/distributed/node.py:182: UserWarning: Port 8787 is already in use.\n",
      "Perhaps you already have a cluster running?\n",
      "Hosting the HTTP server on port 35145 instead\n",
      "  warnings.warn(\n"
     ]
    }
   ],
   "source": [
    "client = Client(n_workers=12)"
   ]
  },
  {
   "cell_type": "code",
   "execution_count": null,
   "id": "f9127562-cb9d-4a2a-b045-f40c4de28f8b",
   "metadata": {},
   "outputs": [],
   "source": [
    "seviri = xarray.open_zarr(\n",
    "    \"/scratch/snx3000/kschuurm/ZARR/SEVIRI_FULLDISK.zarr\"\n",
    ").drop_duplicates(dim=\"time\")\n",
    "seviri = seviri.rename_dims({\"x\": \"lon\", \"y\": \"lat\"}).rename_vars({\"x\": \"lon\", \"y\": \"lat\"})\n",
    "seviri = seviri.drop_duplicates(dim=\"time\")\n",
    "seviri"
   ]
  },
  {
   "cell_type": "code",
   "execution_count": null,
   "id": "035cc33a-36f2-4565-8b19-d41341f2bd91",
   "metadata": {},
   "outputs": [],
   "source": [
    "lat = seviri.lat.copy()\n",
    "lon = seviri.lon.copy()\n",
    "# del seviri\n",
    "\n",
    "\n",
    "\n",
    "def clean_reindex_sarah3(df):\n",
    "    df = df.sel(time=df.record_status == 0).drop_vars(\n",
    "        [\"record_status\", \"lat_bnds\", \"lon_bnds\"]\n",
    "    )\n",
    "    # df = clean(df)\n",
    "    return df.reindex(lat=lat, lon=lon, method=\"nearest\")\n",
    "\n"
   ]
  },
  {
   "cell_type": "code",
   "execution_count": null,
   "id": "f99275fe-6d1f-4fac-9433-1249d88f9b91",
   "metadata": {},
   "outputs": [],
   "source": [
    "fns = glob(\"/scratch/snx3000/kschuurm/DATA/SARAH3/SIS/SISin*.nc\")\n",
    "\n",
    "sis = xarray.open_mfdataset(\n",
    "    fns,\n",
    "    parallel=True,\n",
    "    engine=\"h5netcdf\",\n",
    "    chunks={\"time\": 48, \"lat\": -1, \"lon\": -1},\n",
    ")"
   ]
  },
  {
   "cell_type": "code",
   "execution_count": null,
   "id": "20627910-36db-4a3e-af66-d53713a098de",
   "metadata": {},
   "outputs": [],
   "source": [
    "sis = clean_reindex_sarah3(sis).chunk({\"time\": 48, \"lat\": -1, \"lon\": -1})"
   ]
  },
  {
   "cell_type": "code",
   "execution_count": null,
   "id": "6d9ef98c-960d-4ae2-8911-b5550cd5cb65",
   "metadata": {},
   "outputs": [],
   "source": [
    "a = sis.SIS.to_zarr(\"/scratch/snx3000/kschuurm/ZARR/SARAH3.zarr\", mode=\"a\")\n",
    "del a, sis"
   ]
  },
  {
   "cell_type": "code",
   "execution_count": null,
   "id": "dafee6c5-2eb9-478b-b717-51bd109d3541",
   "metadata": {},
   "outputs": [],
   "source": [
    "fns = glob(\"/scratch/snx3000/kschuurm/DATA/SARAH3/CAL/CALin*.nc\")\n",
    "\n",
    "cal = xarray.open_mfdataset(\n",
    "    fns,\n",
    "    parallel=True,\n",
    "    engine=\"h5netcdf\",\n",
    "    chunks={\"time\": 48, \"lat\": -1, \"lon\": -1},\n",
    ")\n",
    "cal"
   ]
  },
  {
   "cell_type": "code",
   "execution_count": null,
   "id": "5c001e3c-3782-4612-a067-9edc650a4a17",
   "metadata": {},
   "outputs": [],
   "source": [
    "cal = clean_reindex_sarah3(cal).chunk({\"time\": 48, \"lat\": -1, \"lon\": -1})"
   ]
  },
  {
   "cell_type": "code",
   "execution_count": null,
   "metadata": {},
   "outputs": [],
   "source": [
    "a = cal.CAL.to_zarr(\"/scratch/snx3000/kschuurm/ZARR/SARAH3.zarr\", mode=\"a\")\n",
    "del a, cal"
   ]
  },
  {
   "cell_type": "markdown",
   "metadata": {},
   "source": [
    "# Rechunk SARAH3 with a single dataarray: channel_data"
   ]
  },
  {
   "cell_type": "code",
   "execution_count": null,
   "metadata": {},
   "outputs": [],
   "source": [
    "sarah = xarray.open_zarr(\"/scratch/snx3000/kschuurm/ZARR/SARAH3.zarr\")\n",
    "\n",
    "sarah = sarah.to_dataarray('channel').to_dataset(name=\"channel_data\")\n",
    "\n",
    "sarah['channel_data'] = sarah.channel_data.chunk({\"channel\":-1, \"time\": 48, \"lat\": -1, \"lon\": -1})\n",
    "\n",
    "sarah.to_zarr(\"/scratch/snx3000/kschuurm/ZARR/SARAH3_new.zarr\", mode=\"a\")"
   ]
  }
 ],
 "metadata": {
  "kernelspec": {
   "display_name": "lightning-kernel",
   "language": "python",
   "name": "lightning-kernel"
  },
  "language_info": {
   "codemirror_mode": {
    "name": "ipython",
    "version": 3
   },
   "file_extension": ".py",
   "mimetype": "text/x-python",
   "name": "python",
   "nbconvert_exporter": "python",
   "pygments_lexer": "ipython3",
   "version": "3.9.4"
  },
  "toc-autonumbering": true,
  "toc-showcode": false,
  "toc-showmarkdowntxt": false
 },
 "nbformat": 4,
 "nbformat_minor": 5
}
